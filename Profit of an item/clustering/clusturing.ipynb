{
 "cells": [
  {
   "cell_type": "code",
   "execution_count": 1,
   "id": "64fd2b2d",
   "metadata": {},
   "outputs": [],
   "source": [
    "import matplotlib.pyplot as plt"
   ]
  },
  {
   "cell_type": "code",
   "execution_count": 2,
   "id": "fde8d6e0",
   "metadata": {},
   "outputs": [],
   "source": [
    "import pandas as pd"
   ]
  },
  {
   "cell_type": "code",
   "execution_count": 3,
   "id": "e7c56436",
   "metadata": {},
   "outputs": [],
   "source": [
    "dataset = pd.read_csv('demo1.txt')"
   ]
  },
  {
   "cell_type": "code",
   "execution_count": 4,
   "id": "6b133d87",
   "metadata": {},
   "outputs": [],
   "source": [
    "x = dataset"
   ]
  },
  {
   "cell_type": "markdown",
   "id": "de2eb5e7",
   "metadata": {},
   "source": [
    "# visualising the dataset for purchasing item(1) by 6 people for the past 16 weeks "
   ]
  },
  {
   "cell_type": "code",
   "execution_count": 5,
   "id": "f792154b",
   "metadata": {},
   "outputs": [
    {
     "data": {
      "text/html": [
       "<div>\n",
       "<style scoped>\n",
       "    .dataframe tbody tr th:only-of-type {\n",
       "        vertical-align: middle;\n",
       "    }\n",
       "\n",
       "    .dataframe tbody tr th {\n",
       "        vertical-align: top;\n",
       "    }\n",
       "\n",
       "    .dataframe thead th {\n",
       "        text-align: right;\n",
       "    }\n",
       "</style>\n",
       "<table border=\"1\" class=\"dataframe\">\n",
       "  <thead>\n",
       "    <tr style=\"text-align: right;\">\n",
       "      <th></th>\n",
       "      <th>Raj</th>\n",
       "      <th>Kamala</th>\n",
       "      <th>Susmita</th>\n",
       "      <th>Yogesh</th>\n",
       "      <th>Sagar</th>\n",
       "      <th>Manesh</th>\n",
       "    </tr>\n",
       "  </thead>\n",
       "  <tbody>\n",
       "    <tr>\n",
       "      <th>0</th>\n",
       "      <td>11</td>\n",
       "      <td>2</td>\n",
       "      <td>3</td>\n",
       "      <td>4</td>\n",
       "      <td>7</td>\n",
       "      <td>12</td>\n",
       "    </tr>\n",
       "    <tr>\n",
       "      <th>1</th>\n",
       "      <td>5</td>\n",
       "      <td>16</td>\n",
       "      <td>8</td>\n",
       "      <td>20</td>\n",
       "      <td>8</td>\n",
       "      <td>23</td>\n",
       "    </tr>\n",
       "    <tr>\n",
       "      <th>2</th>\n",
       "      <td>6</td>\n",
       "      <td>29</td>\n",
       "      <td>4</td>\n",
       "      <td>0</td>\n",
       "      <td>6</td>\n",
       "      <td>8</td>\n",
       "    </tr>\n",
       "    <tr>\n",
       "      <th>3</th>\n",
       "      <td>3</td>\n",
       "      <td>9</td>\n",
       "      <td>17</td>\n",
       "      <td>16</td>\n",
       "      <td>8</td>\n",
       "      <td>5</td>\n",
       "    </tr>\n",
       "    <tr>\n",
       "      <th>4</th>\n",
       "      <td>7</td>\n",
       "      <td>12</td>\n",
       "      <td>6</td>\n",
       "      <td>9</td>\n",
       "      <td>4</td>\n",
       "      <td>1</td>\n",
       "    </tr>\n",
       "    <tr>\n",
       "      <th>5</th>\n",
       "      <td>21</td>\n",
       "      <td>12</td>\n",
       "      <td>7</td>\n",
       "      <td>9</td>\n",
       "      <td>10</td>\n",
       "      <td>12</td>\n",
       "    </tr>\n",
       "    <tr>\n",
       "      <th>6</th>\n",
       "      <td>6</td>\n",
       "      <td>8</td>\n",
       "      <td>12</td>\n",
       "      <td>4</td>\n",
       "      <td>9</td>\n",
       "      <td>5</td>\n",
       "    </tr>\n",
       "    <tr>\n",
       "      <th>7</th>\n",
       "      <td>12</td>\n",
       "      <td>14</td>\n",
       "      <td>18</td>\n",
       "      <td>11</td>\n",
       "      <td>10</td>\n",
       "      <td>9</td>\n",
       "    </tr>\n",
       "    <tr>\n",
       "      <th>8</th>\n",
       "      <td>6</td>\n",
       "      <td>9</td>\n",
       "      <td>2</td>\n",
       "      <td>0</td>\n",
       "      <td>4</td>\n",
       "      <td>12</td>\n",
       "    </tr>\n",
       "    <tr>\n",
       "      <th>9</th>\n",
       "      <td>0</td>\n",
       "      <td>12</td>\n",
       "      <td>6</td>\n",
       "      <td>8</td>\n",
       "      <td>4</td>\n",
       "      <td>2</td>\n",
       "    </tr>\n",
       "    <tr>\n",
       "      <th>10</th>\n",
       "      <td>1</td>\n",
       "      <td>6</td>\n",
       "      <td>9</td>\n",
       "      <td>12</td>\n",
       "      <td>16</td>\n",
       "      <td>12</td>\n",
       "    </tr>\n",
       "    <tr>\n",
       "      <th>11</th>\n",
       "      <td>6</td>\n",
       "      <td>9</td>\n",
       "      <td>8</td>\n",
       "      <td>5</td>\n",
       "      <td>2</td>\n",
       "      <td>1</td>\n",
       "    </tr>\n",
       "    <tr>\n",
       "      <th>12</th>\n",
       "      <td>12</td>\n",
       "      <td>7</td>\n",
       "      <td>3</td>\n",
       "      <td>10</td>\n",
       "      <td>17</td>\n",
       "      <td>6</td>\n",
       "    </tr>\n",
       "    <tr>\n",
       "      <th>13</th>\n",
       "      <td>5</td>\n",
       "      <td>8</td>\n",
       "      <td>2</td>\n",
       "      <td>0</td>\n",
       "      <td>3</td>\n",
       "      <td>6</td>\n",
       "    </tr>\n",
       "    <tr>\n",
       "      <th>14</th>\n",
       "      <td>12</td>\n",
       "      <td>14</td>\n",
       "      <td>20</td>\n",
       "      <td>21</td>\n",
       "      <td>8</td>\n",
       "      <td>16</td>\n",
       "    </tr>\n",
       "    <tr>\n",
       "      <th>15</th>\n",
       "      <td>7</td>\n",
       "      <td>19</td>\n",
       "      <td>30</td>\n",
       "      <td>31</td>\n",
       "      <td>5</td>\n",
       "      <td>11</td>\n",
       "    </tr>\n",
       "    <tr>\n",
       "      <th>16</th>\n",
       "      <td>14</td>\n",
       "      <td>15</td>\n",
       "      <td>12</td>\n",
       "      <td>16</td>\n",
       "      <td>19</td>\n",
       "      <td>11</td>\n",
       "    </tr>\n",
       "  </tbody>\n",
       "</table>\n",
       "</div>"
      ],
      "text/plain": [
       "    Raj   Kamala   Susmita   Yogesh   Sagar   Manesh\n",
       "0    11        2         3        4       7       12\n",
       "1     5       16         8       20       8       23\n",
       "2     6       29         4        0       6        8\n",
       "3     3        9        17       16       8        5\n",
       "4     7       12         6        9       4        1\n",
       "5    21       12         7        9      10       12\n",
       "6     6        8        12        4       9        5\n",
       "7    12       14        18       11      10        9\n",
       "8     6        9         2        0       4       12\n",
       "9     0       12         6        8       4        2\n",
       "10    1        6         9       12      16       12\n",
       "11    6        9         8        5       2        1\n",
       "12   12        7         3       10      17        6\n",
       "13    5        8         2        0       3        6\n",
       "14   12       14        20       21       8       16\n",
       "15    7       19        30       31       5       11\n",
       "16   14       15        12       16      19       11"
      ]
     },
     "execution_count": 5,
     "metadata": {},
     "output_type": "execute_result"
    }
   ],
   "source": [
    "x"
   ]
  },
  {
   "cell_type": "markdown",
   "id": "64002da5",
   "metadata": {},
   "source": [
    "# Now taking the profit and sales for 30 days for item(1)"
   ]
  },
  {
   "cell_type": "code",
   "execution_count": 6,
   "id": "c45cdbca",
   "metadata": {},
   "outputs": [],
   "source": [
    "dt = pd.read_excel('Sample.xlsx',sheet_name='Sheet1')"
   ]
  },
  {
   "cell_type": "code",
   "execution_count": 7,
   "id": "23ab43c6",
   "metadata": {},
   "outputs": [],
   "source": [
    "x = dt.iloc[:,:].values\n"
   ]
  },
  {
   "cell_type": "code",
   "execution_count": 8,
   "id": "b3271580",
   "metadata": {
    "scrolled": false
   },
   "outputs": [
    {
     "data": {
      "text/plain": [
       "array([[  10,   67],\n",
       "       [  89,    9],\n",
       "       [  78,    0],\n",
       "       [  67,   76],\n",
       "       [  98,   67],\n",
       "       [  67,   87],\n",
       "       [  76,   46],\n",
       "       [ 567,   76],\n",
       "       [  98,   34],\n",
       "       [  87,   12],\n",
       "       [ 678,    6],\n",
       "       [ 568,   86],\n",
       "       [  65,   56],\n",
       "       [  56,   34],\n",
       "       [  76,    5],\n",
       "       [  46,   34],\n",
       "       [  98,   67],\n",
       "       [  67,    4],\n",
       "       [  97,   46],\n",
       "       [   1,    4],\n",
       "       [1000,   39],\n",
       "       [  12,   78],\n",
       "       [  76,   98],\n",
       "       [1234,   15],\n",
       "       [ 123,   23],\n",
       "       [3567,    3],\n",
       "       [ 567,    0],\n",
       "       [  87,    9],\n",
       "       [ 875,   63]], dtype=int64)"
      ]
     },
     "execution_count": 8,
     "metadata": {},
     "output_type": "execute_result"
    }
   ],
   "source": [
    "x"
   ]
  },
  {
   "cell_type": "markdown",
   "id": "3b33dc2b",
   "metadata": {},
   "source": [
    "# Using the elbow method to find the optimal number of clusters\n"
   ]
  },
  {
   "cell_type": "code",
   "execution_count": 9,
   "id": "3fa1e7ea",
   "metadata": {},
   "outputs": [
    {
     "name": "stderr",
     "output_type": "stream",
     "text": [
      "C:\\Users\\megha\\anaconda3\\anaconda_3\\lib\\site-packages\\sklearn\\cluster\\_kmeans.py:1036: UserWarning: KMeans is known to have a memory leak on Windows with MKL, when there are less chunks than available threads. You can avoid it by setting the environment variable OMP_NUM_THREADS=1.\n",
      "  warnings.warn(\n"
     ]
    },
    {
     "name": "stdout",
     "output_type": "stream",
     "text": [
      "[13764717.862068964, 3131783.357142857, 455711.3333333334, 121795.71428571429, 62323.54761904762, 46665.605769230766, 35538.055555555555, 25242.11666666667, 17141.61666666667, 13007.001587301587]\n"
     ]
    },
    {
     "data": {
      "image/png": "[encoded data removed]",
      "text/plain": [
       "<Figure size 432x288 with 1 Axes>"
      ]
     },
     "metadata": {
      "needs_background": "light"
     },
     "output_type": "display_data"
    }
   ],
   "source": [
    "from sklearn.cluster import KMeans\n",
    "wcss = []\n",
    "for i in range(1,11):\n",
    "    kmeans = KMeans(n_clusters = i, init = 'k-means++', random_state = 10)\n",
    "    kmeans.fit(x)\n",
    "    wcss.append(kmeans.inertia_)\n",
    "    \n",
    "print(wcss)\n",
    "plt.plot(range(1,11),wcss)\n",
    "plt.title('The Elbow Method')\n",
    "plt.xlabel('The number of Clusters')\n",
    "plt.ylabel('wcss')\n",
    "plt.show()"
   ]
  },
  {
   "cell_type": "markdown",
   "id": "1b329a3b",
   "metadata": {},
   "source": [
    "# Training the k-means model on dataset"
   ]
  },
  {
   "cell_type": "code",
   "execution_count": 10,
   "id": "7b963eeb",
   "metadata": {},
   "outputs": [
    {
     "name": "stdout",
     "output_type": "stream",
     "text": [
      "[0 0 0 0 0 0 0 2 0 0 2 2 0 0 0 0 0 0 0 0 3 0 0 4 0 1 2 0 3]\n"
     ]
    }
   ],
   "source": [
    "kmeans = KMeans(n_clusters = 5, init ='k-means++', random_state = 10)\n",
    "y_kmeans = kmeans.fit_predict(x)\n",
    "print(y_kmeans)"
   ]
  },
  {
   "cell_type": "code",
   "execution_count": 11,
   "id": "fd6615cc",
   "metadata": {},
   "outputs": [
    {
     "data": {
      "image/png": "[encoded data removed]",
      "text/plain": [
       "<Figure size 432x288 with 1 Axes>"
      ]
     },
     "metadata": {
      "needs_background": "light"
     },
     "output_type": "display_data"
    }
   ],
   "source": [
    "plt.scatter(x[y_kmeans == 0, 0],x[y_kmeans == 0,1], s = 100, c= 'red', label = 'cluster 1')\n",
    "plt.scatter(x[y_kmeans == 1, 0],x[y_kmeans == 1,1], s = 100, c= 'green', label = 'cluster 2')\n",
    "plt.scatter(x[y_kmeans == 2, 0],x[y_kmeans == 2,1], s = 100, c= 'blue', label = 'cluster 3')\n",
    "plt.scatter(x[y_kmeans == 3, 0],x[y_kmeans == 3,1], s = 100, c= 'purple', label = 'cluster 4')\n",
    "plt.scatter(x[y_kmeans == 4, 0],x[y_kmeans == 4,1], s = 100, c= 'brown', label = 'cluster 5')\n",
    "plt.scatter(x[y_kmeans == 5, 0],x[y_kmeans == 5,1], s = 100, c= 'black', label = 'cluster 5')\n",
    "\n",
    "plt.scatter(kmeans.cluster_centers_[:,0], kmeans.cluster_centers_[:,1], s = 300, c = 'yellow')\n",
    "plt.title('cluster of sales')\n",
    "plt.xlabel('Price of item')\n",
    "plt.ylabel('Profit')\n",
    "plt.legend()\n",
    "plt.show()"
   ]
  },
  {
   "cell_type": "code",
   "execution_count": null,
   "id": "eefa7db2",
   "metadata": {},
   "outputs": [],
   "source": []
  }
 ],
 "metadata": {
  "kernelspec": {
   "display_name": "Python 3 (ipykernel)",
   "language": "python",
   "name": "python3"
  },
  "language_info": {
   "codemirror_mode": {
    "name": "ipython",
    "version": 3
   },
   "file_extension": ".py",
   "mimetype": "text/x-python",
   "name": "python",
   "nbconvert_exporter": "python",
   "pygments_lexer": "ipython3",
   "version": "3.9.12"
  }
 },
 "nbformat": 4,
 "nbformat_minor": 5
}
