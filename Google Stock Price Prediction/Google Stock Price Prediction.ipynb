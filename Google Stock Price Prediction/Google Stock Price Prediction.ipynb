{
 "cells": [
  {
   "cell_type": "markdown",
   "id": "97f762d6-783c-4baa-84fe-59fd41204911",
   "metadata": {},
   "source": [
    "# Google Stock Price Prediction Using LSTM"
   ]
  },
  {
   "cell_type": "markdown",
   "id": "d066e297-2731-4c3d-8fc0-f55d45d2cabd",
   "metadata": {},
   "source": [
    "## 1. Import the Libraries."
   ]
  },
  {
   "cell_type": "code",
   "execution_count": 43,
   "id": "8e139086-1b3c-47f5-9b46-2403cf1d9953",
   "metadata": {},
   "outputs": [],
   "source": [
    "import os\n",
    "import numpy as np\n",
    "import pandas as pd\n",
    "import matplotlib.pyplot as plt\n",
    "%matplotlib inline"
   ]
  },
  {
   "cell_type": "markdown",
   "id": "fbefd053-29de-40d6-97f5-f6b259ef705a",
   "metadata": {},
   "source": [
    "## 2. Load the Training Dataset."
   ]
  },
  {
   "cell_type": "code",
   "execution_count": 44,
   "id": "31c7244b-c59c-481c-b78b-e4ae7f55ca70",
   "metadata": {},
   "outputs": [],
   "source": [
    "df_train=pd.read_csv('Google_train_data.csv')"
   ]
  },
  {
   "cell_type": "code",
   "execution_count": 45,
   "id": "4cdff266-738d-415f-b634-79a2593d8815",
   "metadata": {},
   "outputs": [
    {
     "data": {
      "text/html": [
       "<div>\n",
       "<style scoped>\n",
       "    .dataframe tbody tr th:only-of-type {\n",
       "        vertical-align: middle;\n",
       "    }\n",
       "\n",
       "    .dataframe tbody tr th {\n",
       "        vertical-align: top;\n",
       "    }\n",
       "\n",
       "    .dataframe thead th {\n",
       "        text-align: right;\n",
       "    }\n",
       "</style>\n",
       "<table border=\"1\" class=\"dataframe\">\n",
       "  <thead>\n",
       "    <tr style=\"text-align: right;\">\n",
       "      <th></th>\n",
       "      <th>Date</th>\n",
       "      <th>Open</th>\n",
       "      <th>High</th>\n",
       "      <th>Low</th>\n",
       "      <th>Close</th>\n",
       "      <th>Volume</th>\n",
       "    </tr>\n",
       "  </thead>\n",
       "  <tbody>\n",
       "    <tr>\n",
       "      <th>0</th>\n",
       "      <td>1/3/2012</td>\n",
       "      <td>325.25</td>\n",
       "      <td>332.83</td>\n",
       "      <td>324.97</td>\n",
       "      <td>663.59</td>\n",
       "      <td>7,380,500</td>\n",
       "    </tr>\n",
       "    <tr>\n",
       "      <th>1</th>\n",
       "      <td>1/4/2012</td>\n",
       "      <td>331.27</td>\n",
       "      <td>333.87</td>\n",
       "      <td>329.08</td>\n",
       "      <td>666.45</td>\n",
       "      <td>5,749,400</td>\n",
       "    </tr>\n",
       "    <tr>\n",
       "      <th>2</th>\n",
       "      <td>1/5/2012</td>\n",
       "      <td>329.83</td>\n",
       "      <td>330.75</td>\n",
       "      <td>326.89</td>\n",
       "      <td>657.21</td>\n",
       "      <td>6,590,300</td>\n",
       "    </tr>\n",
       "    <tr>\n",
       "      <th>3</th>\n",
       "      <td>1/6/2012</td>\n",
       "      <td>328.34</td>\n",
       "      <td>328.77</td>\n",
       "      <td>323.68</td>\n",
       "      <td>648.24</td>\n",
       "      <td>5,405,900</td>\n",
       "    </tr>\n",
       "    <tr>\n",
       "      <th>4</th>\n",
       "      <td>1/9/2012</td>\n",
       "      <td>322.04</td>\n",
       "      <td>322.29</td>\n",
       "      <td>309.46</td>\n",
       "      <td>620.76</td>\n",
       "      <td>11,688,800</td>\n",
       "    </tr>\n",
       "  </tbody>\n",
       "</table>\n",
       "</div>"
      ],
      "text/plain": [
       "       Date    Open    High     Low   Close      Volume\n",
       "0  1/3/2012  325.25  332.83  324.97  663.59   7,380,500\n",
       "1  1/4/2012  331.27  333.87  329.08  666.45   5,749,400\n",
       "2  1/5/2012  329.83  330.75  326.89  657.21   6,590,300\n",
       "3  1/6/2012  328.34  328.77  323.68  648.24   5,405,900\n",
       "4  1/9/2012  322.04  322.29  309.46  620.76  11,688,800"
      ]
     },
     "execution_count": 45,
     "metadata": {},
     "output_type": "execute_result"
    }
   ],
   "source": [
    "df_train.head()"
   ]
  },
  {
   "cell_type": "markdown",
   "id": "1f3d1977-ff4c-44cc-b60f-64fa35dfa836",
   "metadata": {},
   "source": [
    "## 3. Use the Open Stock Price Column to Train Your Model."
   ]
  },
  {
   "cell_type": "code",
   "execution_count": 46,
   "id": "5de9396d-063b-4c35-b889-83ebd9073dab",
   "metadata": {},
   "outputs": [
    {
     "name": "stdout",
     "output_type": "stream",
     "text": [
      "[[325.25]\n",
      " [331.27]\n",
      " [329.83]\n",
      " ...\n",
      " [793.7 ]\n",
      " [783.33]\n",
      " [782.75]]\n"
     ]
    }
   ],
   "source": [
    "df_set=df_train.iloc[:,1:2].values\n",
    "print(df_set)"
   ]
  },
  {
   "cell_type": "code",
   "execution_count": 47,
   "id": "ae60a380-6abd-4cb1-9bca-a96a6a64eb60",
   "metadata": {},
   "outputs": [
    {
     "name": "stdout",
     "output_type": "stream",
     "text": [
      "(1258, 1)\n"
     ]
    }
   ],
   "source": [
    "print(df_set.shape)"
   ]
  },
  {
   "cell_type": "markdown",
   "id": "cb113ea2-7aec-41df-bc6d-05ceac79599c",
   "metadata": {},
   "source": [
    "## 4. Normalizing the Dataset."
   ]
  },
  {
   "cell_type": "code",
   "execution_count": 48,
   "id": "854c2466-7fa1-4b45-87c9-bfd28894e828",
   "metadata": {},
   "outputs": [
    {
     "data": {
      "text/plain": [
       "array([[0.08581368],\n",
       "       [0.09701243],\n",
       "       [0.09433366],\n",
       "       ...,\n",
       "       [0.95725128],\n",
       "       [0.93796041],\n",
       "       [0.93688146]])"
      ]
     },
     "execution_count": 48,
     "metadata": {},
     "output_type": "execute_result"
    }
   ],
   "source": [
    "from sklearn.preprocessing import MinMaxScaler\n",
    "scaler=MinMaxScaler(feature_range=(0,1))\n",
    "scaled_df_set=scaler.fit_transform(df_set)\n",
    "scaled_df_set"
   ]
  },
  {
   "cell_type": "markdown",
   "id": "0ab61cca-2ce5-4922-bd10-668613626218",
   "metadata": {},
   "source": [
    "## 5. Creating X_train and y_train Data Structures."
   ]
  },
  {
   "cell_type": "code",
   "execution_count": 49,
   "id": "1e436e66-09f7-4760-91f0-fb3abe28dcad",
   "metadata": {},
   "outputs": [],
   "source": [
    "x_train=[]\n",
    "y_train=[]\n",
    "for i in range(60,1258):\n",
    "    x_train.append(scaled_df_set[i-60:i,0])\n",
    "    y_train.append(scaled_df_set[i,0])\n",
    "x_train=np.array(x_train)\n",
    "y_train=np.array(y_train)"
   ]
  },
  {
   "cell_type": "code",
   "execution_count": 50,
   "id": "25a12550-7a4c-46d1-991d-ddb728605837",
   "metadata": {},
   "outputs": [
    {
     "name": "stdout",
     "output_type": "stream",
     "text": [
      "(1198, 60)\n",
      "(1198,)\n"
     ]
    }
   ],
   "source": [
    "print(x_train.shape)\n",
    "print(y_train.shape)"
   ]
  },
  {
   "cell_type": "markdown",
   "id": "173e2f7b-5961-4226-9bb1-8cee9be1465d",
   "metadata": {},
   "source": [
    "## 6. Reshape the Data."
   ]
  },
  {
   "cell_type": "code",
   "execution_count": 51,
   "id": "27ed76ab-c8fc-46f9-8dd4-7213fc0919fd",
   "metadata": {},
   "outputs": [
    {
     "data": {
      "text/plain": [
       "(1198, 60, 1)"
      ]
     },
     "execution_count": 51,
     "metadata": {},
     "output_type": "execute_result"
    }
   ],
   "source": [
    "x_train=np.reshape(x_train,(x_train.shape[0],x_train.shape[1],1))\n",
    "x_train.shape\n",
    "                   "
   ]
  },
  {
   "cell_type": "markdown",
   "id": "696d2288-8618-47cb-8460-bf4f4f90342c",
   "metadata": {},
   "source": [
    "## 7. Building the Model by Importing the Crucial Libraries and Adding Different Layers to LSTM."
   ]
  },
  {
   "cell_type": "code",
   "execution_count": 52,
   "id": "10057937-5686-40f3-8d5b-772d16e42ac8",
   "metadata": {},
   "outputs": [],
   "source": [
    "from tensorflow.keras.models import Sequential\n",
    "from keras.layers import LSTM\n",
    "from keras.layers import Dense\n",
    "from keras.layers import Dropout"
   ]
  },
  {
   "cell_type": "code",
   "execution_count": 53,
   "id": "f22861c2-f1bf-416a-85db-6eac166a63a9",
   "metadata": {},
   "outputs": [],
   "source": [
    "regressor=Sequential()\n",
    "regressor.add(LSTM(units=50, return_sequences=True, input_shape=(x_train.shape[1],1)))\n",
    "\n",
    "regressor.add(LSTM(units=50,return_sequences=True))\n",
    "regressor.add(Dropout(0.2))\n",
    "\n",
    "regressor.add(LSTM(units=50,return_sequences=True))\n",
    "regressor.add(Dropout(0.2))\n",
    "\n",
    "regressor.add(LSTM(units=50))\n",
    "regressor.add(Dropout(0.2))\n",
    "\n",
    "regressor.add(Dense(units=1))"
   ]
  },
  {
   "cell_type": "markdown",
   "id": "edd1d2db-c45c-4a35-b15d-9a54dfbb8fa5",
   "metadata": {},
   "source": [
    "## 8. Fitting the Model."
   ]
  },
  {
   "cell_type": "code",
   "execution_count": 54,
   "id": "1e38ab41-6e11-409c-93e2-8d3b64a0b65d",
   "metadata": {},
   "outputs": [
    {
     "name": "stdout",
     "output_type": "stream",
     "text": [
      "Epoch 1/100\n",
      "38/38 [==============================] - 13s 68ms/step - loss: 0.0340\n",
      "Epoch 2/100\n",
      "38/38 [==============================] - 3s 72ms/step - loss: 0.0062\n",
      "Epoch 3/100\n",
      "38/38 [==============================] - 3s 67ms/step - loss: 0.0065\n",
      "Epoch 4/100\n",
      "38/38 [==============================] - 3s 68ms/step - loss: 0.0052\n",
      "Epoch 5/100\n",
      "38/38 [==============================] - 3s 68ms/step - loss: 0.0052\n",
      "Epoch 6/100\n",
      "38/38 [==============================] - 3s 68ms/step - loss: 0.0051\n",
      "Epoch 7/100\n",
      "38/38 [==============================] - 3s 68ms/step - loss: 0.0060\n",
      "Epoch 8/100\n",
      "38/38 [==============================] - 3s 68ms/step - loss: 0.0055\n",
      "Epoch 9/100\n",
      "38/38 [==============================] - 3s 68ms/step - loss: 0.0048\n",
      "Epoch 10/100\n",
      "38/38 [==============================] - 3s 68ms/step - loss: 0.0042\n",
      "Epoch 11/100\n",
      "38/38 [==============================] - 3s 68ms/step - loss: 0.0038\n",
      "Epoch 12/100\n",
      "38/38 [==============================] - 3s 69ms/step - loss: 0.0036\n",
      "Epoch 13/100\n",
      "38/38 [==============================] - 3s 68ms/step - loss: 0.0042\n",
      "Epoch 14/100\n",
      "38/38 [==============================] - 3s 68ms/step - loss: 0.0042\n",
      "Epoch 15/100\n",
      "38/38 [==============================] - 3s 68ms/step - loss: 0.0033\n",
      "Epoch 16/100\n",
      "38/38 [==============================] - 3s 71ms/step - loss: 0.0034\n",
      "Epoch 17/100\n",
      "38/38 [==============================] - 3s 69ms/step - loss: 0.0036\n",
      "Epoch 18/100\n",
      "38/38 [==============================] - 3s 68ms/step - loss: 0.0035\n",
      "Epoch 19/100\n",
      "38/38 [==============================] - 3s 68ms/step - loss: 0.0034\n",
      "Epoch 20/100\n",
      "38/38 [==============================] - 3s 68ms/step - loss: 0.0046\n",
      "Epoch 21/100\n",
      "38/38 [==============================] - 3s 68ms/step - loss: 0.0030\n",
      "Epoch 22/100\n",
      "38/38 [==============================] - 3s 68ms/step - loss: 0.0032\n",
      "Epoch 23/100\n",
      "38/38 [==============================] - 3s 72ms/step - loss: 0.0034\n",
      "Epoch 24/100\n",
      "38/38 [==============================] - 3s 69ms/step - loss: 0.0032\n",
      "Epoch 25/100\n",
      "38/38 [==============================] - 3s 68ms/step - loss: 0.0030\n",
      "Epoch 26/100\n",
      "38/38 [==============================] - 3s 68ms/step - loss: 0.0032\n",
      "Epoch 27/100\n",
      "38/38 [==============================] - 3s 69ms/step - loss: 0.0030\n",
      "Epoch 28/100\n",
      "38/38 [==============================] - 3s 68ms/step - loss: 0.0029\n",
      "Epoch 29/100\n",
      "38/38 [==============================] - 3s 68ms/step - loss: 0.0027\n",
      "Epoch 30/100\n",
      "38/38 [==============================] - 3s 68ms/step - loss: 0.0029\n",
      "Epoch 31/100\n",
      "38/38 [==============================] - 3s 69ms/step - loss: 0.0025\n",
      "Epoch 32/100\n",
      "38/38 [==============================] - 3s 68ms/step - loss: 0.0029\n",
      "Epoch 33/100\n",
      "38/38 [==============================] - 3s 68ms/step - loss: 0.0026\n",
      "Epoch 34/100\n",
      "38/38 [==============================] - 3s 68ms/step - loss: 0.0030\n",
      "Epoch 35/100\n",
      "38/38 [==============================] - 3s 68ms/step - loss: 0.0029\n",
      "Epoch 36/100\n",
      "38/38 [==============================] - 3s 68ms/step - loss: 0.0028\n",
      "Epoch 37/100\n",
      "38/38 [==============================] - 3s 68ms/step - loss: 0.0029\n",
      "Epoch 38/100\n",
      "38/38 [==============================] - 3s 68ms/step - loss: 0.0025\n",
      "Epoch 39/100\n",
      "38/38 [==============================] - 3s 68ms/step - loss: 0.0027\n",
      "Epoch 40/100\n",
      "38/38 [==============================] - 3s 68ms/step - loss: 0.0025\n",
      "Epoch 41/100\n",
      "38/38 [==============================] - 3s 69ms/step - loss: 0.0025\n",
      "Epoch 42/100\n",
      "38/38 [==============================] - 3s 67ms/step - loss: 0.0027\n",
      "Epoch 43/100\n",
      "38/38 [==============================] - 3s 68ms/step - loss: 0.0025\n",
      "Epoch 44/100\n",
      "38/38 [==============================] - 3s 69ms/step - loss: 0.0022\n",
      "Epoch 45/100\n",
      "38/38 [==============================] - 3s 68ms/step - loss: 0.0024\n",
      "Epoch 46/100\n",
      "38/38 [==============================] - 3s 69ms/step - loss: 0.0025\n",
      "Epoch 47/100\n",
      "38/38 [==============================] - 3s 69ms/step - loss: 0.0022\n",
      "Epoch 48/100\n",
      "38/38 [==============================] - 3s 68ms/step - loss: 0.0023\n",
      "Epoch 49/100\n",
      "38/38 [==============================] - 3s 68ms/step - loss: 0.0021\n",
      "Epoch 50/100\n",
      "38/38 [==============================] - 3s 68ms/step - loss: 0.0023\n",
      "Epoch 51/100\n",
      "38/38 [==============================] - 3s 68ms/step - loss: 0.0021\n",
      "Epoch 52/100\n",
      "38/38 [==============================] - 3s 69ms/step - loss: 0.0018\n",
      "Epoch 53/100\n",
      "38/38 [==============================] - 3s 68ms/step - loss: 0.0021\n",
      "Epoch 54/100\n",
      "38/38 [==============================] - 3s 69ms/step - loss: 0.0018\n",
      "Epoch 55/100\n",
      "38/38 [==============================] - 3s 68ms/step - loss: 0.0020\n",
      "Epoch 56/100\n",
      "38/38 [==============================] - 3s 68ms/step - loss: 0.0022\n",
      "Epoch 57/100\n",
      "38/38 [==============================] - 3s 68ms/step - loss: 0.0019\n",
      "Epoch 58/100\n",
      "38/38 [==============================] - 3s 68ms/step - loss: 0.0020\n",
      "Epoch 59/100\n",
      "38/38 [==============================] - 3s 68ms/step - loss: 0.0019\n",
      "Epoch 60/100\n",
      "38/38 [==============================] - 3s 72ms/step - loss: 0.0019\n",
      "Epoch 61/100\n",
      "38/38 [==============================] - 3s 68ms/step - loss: 0.0019\n",
      "Epoch 62/100\n",
      "38/38 [==============================] - 3s 69ms/step - loss: 0.0021\n",
      "Epoch 63/100\n",
      "38/38 [==============================] - 3s 69ms/step - loss: 0.0019\n",
      "Epoch 64/100\n",
      "38/38 [==============================] - 3s 69ms/step - loss: 0.0019\n",
      "Epoch 65/100\n",
      "38/38 [==============================] - 3s 69ms/step - loss: 0.0017\n",
      "Epoch 66/100\n",
      "38/38 [==============================] - 3s 68ms/step - loss: 0.0017\n",
      "Epoch 67/100\n",
      "38/38 [==============================] - 3s 68ms/step - loss: 0.0018\n",
      "Epoch 68/100\n",
      "38/38 [==============================] - 3s 69ms/step - loss: 0.0017\n",
      "Epoch 69/100\n",
      "38/38 [==============================] - 3s 68ms/step - loss: 0.0017\n",
      "Epoch 70/100\n",
      "38/38 [==============================] - 3s 68ms/step - loss: 0.0016\n",
      "Epoch 71/100\n",
      "38/38 [==============================] - 3s 71ms/step - loss: 0.0018\n",
      "Epoch 72/100\n",
      "38/38 [==============================] - 3s 68ms/step - loss: 0.0016\n",
      "Epoch 73/100\n",
      "38/38 [==============================] - 3s 70ms/step - loss: 0.0017\n",
      "Epoch 74/100\n",
      "38/38 [==============================] - 3s 69ms/step - loss: 0.0018\n",
      "Epoch 75/100\n",
      "38/38 [==============================] - 3s 68ms/step - loss: 0.0016\n",
      "Epoch 76/100\n",
      "38/38 [==============================] - 3s 68ms/step - loss: 0.0016\n",
      "Epoch 77/100\n",
      "38/38 [==============================] - 3s 68ms/step - loss: 0.0016\n",
      "Epoch 78/100\n",
      "38/38 [==============================] - 3s 69ms/step - loss: 0.0015\n",
      "Epoch 79/100\n",
      "38/38 [==============================] - 3s 68ms/step - loss: 0.0017\n",
      "Epoch 80/100\n",
      "38/38 [==============================] - 3s 68ms/step - loss: 0.0013\n",
      "Epoch 81/100\n",
      "38/38 [==============================] - 3s 68ms/step - loss: 0.0017\n",
      "Epoch 82/100\n",
      "38/38 [==============================] - 3s 69ms/step - loss: 0.0017\n",
      "Epoch 83/100\n",
      "38/38 [==============================] - 3s 68ms/step - loss: 0.0015\n",
      "Epoch 84/100\n",
      "38/38 [==============================] - 3s 69ms/step - loss: 0.0015\n",
      "Epoch 85/100\n",
      "38/38 [==============================] - 3s 71ms/step - loss: 0.0015\n",
      "Epoch 86/100\n",
      "38/38 [==============================] - 3s 69ms/step - loss: 0.0015\n",
      "Epoch 87/100\n",
      "38/38 [==============================] - 3s 68ms/step - loss: 0.0015\n",
      "Epoch 88/100\n",
      "38/38 [==============================] - 3s 69ms/step - loss: 0.0015\n",
      "Epoch 89/100\n",
      "38/38 [==============================] - 3s 68ms/step - loss: 0.0013\n",
      "Epoch 90/100\n",
      "38/38 [==============================] - 3s 72ms/step - loss: 0.0013\n",
      "Epoch 91/100\n",
      "38/38 [==============================] - 3s 83ms/step - loss: 0.0014\n",
      "Epoch 92/100\n",
      "38/38 [==============================] - 4s 98ms/step - loss: 0.0014\n",
      "Epoch 93/100\n",
      "38/38 [==============================] - 3s 79ms/step - loss: 0.0012\n",
      "Epoch 94/100\n",
      "38/38 [==============================] - 3s 72ms/step - loss: 0.0013\n",
      "Epoch 95/100\n",
      "38/38 [==============================] - 3s 77ms/step - loss: 0.0012\n",
      "Epoch 96/100\n",
      "38/38 [==============================] - 3s 78ms/step - loss: 0.0012\n",
      "Epoch 97/100\n",
      "38/38 [==============================] - 3s 80ms/step - loss: 0.0015\n",
      "Epoch 98/100\n",
      "38/38 [==============================] - 4s 93ms/step - loss: 0.0014\n",
      "Epoch 99/100\n",
      "38/38 [==============================] - 4s 95ms/step - loss: 0.0013\n",
      "Epoch 100/100\n",
      "38/38 [==============================] - 3s 79ms/step - loss: 0.0013\n"
     ]
    },
    {
     "data": {
      "text/plain": [
       "<keras.callbacks.History at 0x20cac93fa30>"
      ]
     },
     "execution_count": 54,
     "metadata": {},
     "output_type": "execute_result"
    }
   ],
   "source": [
    "regressor.compile(optimizer='adam',loss='mean_squared_error')\n",
    "regressor.fit(x_train,y_train,epochs=100,batch_size=32)"
   ]
  },
  {
   "cell_type": "markdown",
   "id": "3aed178d-df13-4a49-b36d-8c77461057eb",
   "metadata": {},
   "source": [
    "## 9. Extracting the Actual Stock Prices of Jan-2017."
   ]
  },
  {
   "cell_type": "code",
   "execution_count": 55,
   "id": "d0f6af1f-71c5-41a1-835c-31722d489614",
   "metadata": {},
   "outputs": [],
   "source": [
    "df_test=pd.read_csv(\"Google_test_data.csv\")\n",
    "actual_stock_price=df_test.iloc[:,1:2].values"
   ]
  },
  {
   "cell_type": "markdown",
   "id": "6a27493b-ce0f-4e36-879a-d3765b7eaae9",
   "metadata": {},
   "source": [
    "## 10. Preparing the Input for the Model."
   ]
  },
  {
   "cell_type": "code",
   "execution_count": 56,
   "id": "d2038b8d-a0a4-4c45-9e12-1e846849e63f",
   "metadata": {},
   "outputs": [],
   "source": [
    "df_total=pd.concat((df_train['Open'],df_test['Open']),axis=0)\n",
    "inputs=df_total[len(df_total)-len(df_test)-60:].values\n",
    "\n",
    "inputs=inputs.reshape(-1,1)\n",
    "inputs=scaler.transform(inputs)\n",
    "\n",
    "x_test=[]\n",
    "for i in range(60,80):\n",
    "    x_test.append(inputs[i-60:i,0])\n",
    "x_test=np.array(x_test)\n",
    "x_test=np.reshape(x_test,(x_test.shape[0],x_test.shape[1],1))"
   ]
  },
  {
   "cell_type": "markdown",
   "id": "b040e354-0b39-483a-b081-38a54455a7d4",
   "metadata": {},
   "source": [
    "## 11. Predicting the Values for Jan 2017 Stock Prices."
   ]
  },
  {
   "cell_type": "code",
   "execution_count": 57,
   "id": "6c771d27-3d2c-4429-899b-b712aec03e71",
   "metadata": {},
   "outputs": [
    {
     "name": "stdout",
     "output_type": "stream",
     "text": [
      "1/1 [==============================] - 2s 2s/step\n"
     ]
    }
   ],
   "source": [
    "pred_stock_price=regressor.predict(x_test)\n",
    "pred_stock_price=scaler.inverse_transform(pred_stock_price)"
   ]
  },
  {
   "cell_type": "markdown",
   "id": "bdc91ee6-52d2-412a-9c8f-42f1bb89f3f8",
   "metadata": {},
   "source": [
    "## 12. Plotting the Actual and Predicted Prices for Google Stocks."
   ]
  },
  {
   "cell_type": "code",
   "execution_count": 58,
   "id": "89b53049-d805-44b4-a4a9-52b47bb9baa5",
   "metadata": {},
   "outputs": [
    {
     "data": {
      "text/plain": [
       "<matplotlib.legend.Legend at 0x20cac2c3d30>"
      ]
     },
     "execution_count": 58,
     "metadata": {},
     "output_type": "execute_result"
    },
    {
     "data": {
      "image/png": "[encoded data removed]",
      "text/plain": [
       "<Figure size 432x288 with 1 Axes>"
      ]
     },
     "metadata": {
      "needs_background": "light"
     },
     "output_type": "display_data"
    }
   ],
   "source": [
    "plt.plot(actual_stock_price,color='red',label='Actual Google Stock Price')\n",
    "plt.plot(pred_stock_price, color='blue',label='Predicted Google Stock Price')\n",
    "plt.title('Google Stock Price Prediction')\n",
    "plt.xlabel('Time')\n",
    "plt.ylabel('Google Stock Price')\n",
    "plt.legend()"
   ]
  },
  {
   "cell_type": "code",
   "execution_count": null,
   "id": "ae46905c-65bb-434f-83f9-f370048629a3",
   "metadata": {},
   "outputs": [],
   "source": []
  },
  {
   "cell_type": "code",
   "execution_count": null,
   "id": "dd82673e-b65f-4f82-8a32-ae8b74c332c3",
   "metadata": {},
   "outputs": [],
   "source": []
  }
 ],
 "metadata": {
  "kernelspec": {
   "display_name": "Python 3 (ipykernel)",
   "language": "python",
   "name": "python3"
  },
  "language_info": {
   "codemirror_mode": {
    "name": "ipython",
    "version": 3
   },
   "file_extension": ".py",
   "mimetype": "text/x-python",
   "name": "python",
   "nbconvert_exporter": "python",
   "pygments_lexer": "ipython3",
   "version": "3.9.12"
  }
 },
 "nbformat": 4,
 "nbformat_minor": 5
}
