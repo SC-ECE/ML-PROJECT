{
 "cells": [
  {
   "cell_type": "code",
   "execution_count": 1,
   "id": "e5a277e4-4e72-495d-9936-7f0b708b3820",
   "metadata": {},
   "outputs": [],
   "source": [
    "import numpy as np\n",
    "import pandas as pd\n",
    "import numpy\n",
    "import matplotlib.pyplot as plt"
   ]
  },
  {
   "cell_type": "code",
   "execution_count": 2,
   "id": "c994ebab-a42e-42c3-8e77-0c97a2ee7d4d",
   "metadata": {},
   "outputs": [],
   "source": [
    "df = pd.read_csv('NSE-TATAGLOBAL.csv')"
   ]
  },
  {
   "cell_type": "code",
   "execution_count": 3,
   "id": "1da6118f-fb84-4d81-ba78-da0e7e54591c",
   "metadata": {},
   "outputs": [
    {
     "data": {
      "text/html": [
       "<div>\n",
       "<style scoped>\n",
       "    .dataframe tbody tr th:only-of-type {\n",
       "        vertical-align: middle;\n",
       "    }\n",
       "\n",
       "    .dataframe tbody tr th {\n",
       "        vertical-align: top;\n",
       "    }\n",
       "\n",
       "    .dataframe thead th {\n",
       "        text-align: right;\n",
       "    }\n",
       "</style>\n",
       "<table border=\"1\" class=\"dataframe\">\n",
       "  <thead>\n",
       "    <tr style=\"text-align: right;\">\n",
       "      <th></th>\n",
       "      <th>Date</th>\n",
       "      <th>Open</th>\n",
       "      <th>High</th>\n",
       "      <th>Low</th>\n",
       "      <th>Last</th>\n",
       "      <th>Close</th>\n",
       "      <th>Total Trade Quantity</th>\n",
       "      <th>Turnover (Lacs)</th>\n",
       "    </tr>\n",
       "  </thead>\n",
       "  <tbody>\n",
       "    <tr>\n",
       "      <th>0</th>\n",
       "      <td>2018-09-28</td>\n",
       "      <td>234.05</td>\n",
       "      <td>235.95</td>\n",
       "      <td>230.20</td>\n",
       "      <td>233.50</td>\n",
       "      <td>233.75</td>\n",
       "      <td>3069914</td>\n",
       "      <td>7162.35</td>\n",
       "    </tr>\n",
       "    <tr>\n",
       "      <th>1</th>\n",
       "      <td>2018-09-27</td>\n",
       "      <td>234.55</td>\n",
       "      <td>236.80</td>\n",
       "      <td>231.10</td>\n",
       "      <td>233.80</td>\n",
       "      <td>233.25</td>\n",
       "      <td>5082859</td>\n",
       "      <td>11859.95</td>\n",
       "    </tr>\n",
       "    <tr>\n",
       "      <th>2</th>\n",
       "      <td>2018-09-26</td>\n",
       "      <td>240.00</td>\n",
       "      <td>240.00</td>\n",
       "      <td>232.50</td>\n",
       "      <td>235.00</td>\n",
       "      <td>234.25</td>\n",
       "      <td>2240909</td>\n",
       "      <td>5248.60</td>\n",
       "    </tr>\n",
       "    <tr>\n",
       "      <th>3</th>\n",
       "      <td>2018-09-25</td>\n",
       "      <td>233.30</td>\n",
       "      <td>236.75</td>\n",
       "      <td>232.00</td>\n",
       "      <td>236.25</td>\n",
       "      <td>236.10</td>\n",
       "      <td>2349368</td>\n",
       "      <td>5503.90</td>\n",
       "    </tr>\n",
       "    <tr>\n",
       "      <th>4</th>\n",
       "      <td>2018-09-24</td>\n",
       "      <td>233.55</td>\n",
       "      <td>239.20</td>\n",
       "      <td>230.75</td>\n",
       "      <td>234.00</td>\n",
       "      <td>233.30</td>\n",
       "      <td>3423509</td>\n",
       "      <td>7999.55</td>\n",
       "    </tr>\n",
       "  </tbody>\n",
       "</table>\n",
       "</div>"
      ],
      "text/plain": [
       "         Date    Open    High     Low    Last   Close  Total Trade Quantity  \\\n",
       "0  2018-09-28  234.05  235.95  230.20  233.50  233.75               3069914   \n",
       "1  2018-09-27  234.55  236.80  231.10  233.80  233.25               5082859   \n",
       "2  2018-09-26  240.00  240.00  232.50  235.00  234.25               2240909   \n",
       "3  2018-09-25  233.30  236.75  232.00  236.25  236.10               2349368   \n",
       "4  2018-09-24  233.55  239.20  230.75  234.00  233.30               3423509   \n",
       "\n",
       "   Turnover (Lacs)  \n",
       "0          7162.35  \n",
       "1         11859.95  \n",
       "2          5248.60  \n",
       "3          5503.90  \n",
       "4          7999.55  "
      ]
     },
     "execution_count": 3,
     "metadata": {},
     "output_type": "execute_result"
    }
   ],
   "source": [
    "df.head()"
   ]
  },
  {
   "cell_type": "code",
   "execution_count": 4,
   "id": "83812819-a780-444f-a0c0-8d6130c3c74b",
   "metadata": {},
   "outputs": [
    {
     "data": {
      "text/html": [
       "<div>\n",
       "<style scoped>\n",
       "    .dataframe tbody tr th:only-of-type {\n",
       "        vertical-align: middle;\n",
       "    }\n",
       "\n",
       "    .dataframe tbody tr th {\n",
       "        vertical-align: top;\n",
       "    }\n",
       "\n",
       "    .dataframe thead th {\n",
       "        text-align: right;\n",
       "    }\n",
       "</style>\n",
       "<table border=\"1\" class=\"dataframe\">\n",
       "  <thead>\n",
       "    <tr style=\"text-align: right;\">\n",
       "      <th></th>\n",
       "      <th>Date</th>\n",
       "      <th>Open</th>\n",
       "      <th>High</th>\n",
       "      <th>Low</th>\n",
       "      <th>Last</th>\n",
       "      <th>Close</th>\n",
       "      <th>Total Trade Quantity</th>\n",
       "      <th>Turnover (Lacs)</th>\n",
       "    </tr>\n",
       "  </thead>\n",
       "  <tbody>\n",
       "    <tr>\n",
       "      <th>2030</th>\n",
       "      <td>2010-07-27</td>\n",
       "      <td>117.6</td>\n",
       "      <td>119.50</td>\n",
       "      <td>112.00</td>\n",
       "      <td>118.80</td>\n",
       "      <td>118.65</td>\n",
       "      <td>586100</td>\n",
       "      <td>694.98</td>\n",
       "    </tr>\n",
       "    <tr>\n",
       "      <th>2031</th>\n",
       "      <td>2010-07-26</td>\n",
       "      <td>120.1</td>\n",
       "      <td>121.00</td>\n",
       "      <td>117.10</td>\n",
       "      <td>117.10</td>\n",
       "      <td>117.60</td>\n",
       "      <td>658440</td>\n",
       "      <td>780.01</td>\n",
       "    </tr>\n",
       "    <tr>\n",
       "      <th>2032</th>\n",
       "      <td>2010-07-23</td>\n",
       "      <td>121.8</td>\n",
       "      <td>121.95</td>\n",
       "      <td>120.25</td>\n",
       "      <td>120.35</td>\n",
       "      <td>120.65</td>\n",
       "      <td>281312</td>\n",
       "      <td>340.31</td>\n",
       "    </tr>\n",
       "    <tr>\n",
       "      <th>2033</th>\n",
       "      <td>2010-07-22</td>\n",
       "      <td>120.3</td>\n",
       "      <td>122.00</td>\n",
       "      <td>120.25</td>\n",
       "      <td>120.75</td>\n",
       "      <td>120.90</td>\n",
       "      <td>293312</td>\n",
       "      <td>355.17</td>\n",
       "    </tr>\n",
       "    <tr>\n",
       "      <th>2034</th>\n",
       "      <td>2010-07-21</td>\n",
       "      <td>122.1</td>\n",
       "      <td>123.00</td>\n",
       "      <td>121.05</td>\n",
       "      <td>121.10</td>\n",
       "      <td>121.55</td>\n",
       "      <td>658666</td>\n",
       "      <td>803.56</td>\n",
       "    </tr>\n",
       "  </tbody>\n",
       "</table>\n",
       "</div>"
      ],
      "text/plain": [
       "            Date   Open    High     Low    Last   Close  Total Trade Quantity  \\\n",
       "2030  2010-07-27  117.6  119.50  112.00  118.80  118.65                586100   \n",
       "2031  2010-07-26  120.1  121.00  117.10  117.10  117.60                658440   \n",
       "2032  2010-07-23  121.8  121.95  120.25  120.35  120.65                281312   \n",
       "2033  2010-07-22  120.3  122.00  120.25  120.75  120.90                293312   \n",
       "2034  2010-07-21  122.1  123.00  121.05  121.10  121.55                658666   \n",
       "\n",
       "      Turnover (Lacs)  \n",
       "2030           694.98  \n",
       "2031           780.01  \n",
       "2032           340.31  \n",
       "2033           355.17  \n",
       "2034           803.56  "
      ]
     },
     "execution_count": 4,
     "metadata": {},
     "output_type": "execute_result"
    }
   ],
   "source": [
    "df.tail()"
   ]
  },
  {
   "cell_type": "code",
   "execution_count": 5,
   "id": "5d6d48ea-4300-41b7-b89c-aaabd7de011a",
   "metadata": {},
   "outputs": [
    {
     "name": "stdout",
     "output_type": "stream",
     "text": [
      "<class 'pandas.core.frame.DataFrame'>\n",
      "RangeIndex: 2035 entries, 0 to 2034\n",
      "Data columns (total 8 columns):\n",
      " #   Column                Non-Null Count  Dtype  \n",
      "---  ------                --------------  -----  \n",
      " 0   Date                  2035 non-null   object \n",
      " 1   Open                  2035 non-null   float64\n",
      " 2   High                  2035 non-null   float64\n",
      " 3   Low                   2035 non-null   float64\n",
      " 4   Last                  2035 non-null   float64\n",
      " 5   Close                 2035 non-null   float64\n",
      " 6   Total Trade Quantity  2035 non-null   int64  \n",
      " 7   Turnover (Lacs)       2035 non-null   float64\n",
      "dtypes: float64(6), int64(1), object(1)\n",
      "memory usage: 127.3+ KB\n"
     ]
    }
   ],
   "source": [
    "df.info()"
   ]
  },
  {
   "cell_type": "code",
   "execution_count": 6,
   "id": "308997f3-8a64-46ab-b429-43e7cd2caa62",
   "metadata": {},
   "outputs": [
    {
     "data": {
      "text/plain": [
       "Date                    0\n",
       "Open                    0\n",
       "High                    0\n",
       "Low                     0\n",
       "Last                    0\n",
       "Close                   0\n",
       "Total Trade Quantity    0\n",
       "Turnover (Lacs)         0\n",
       "dtype: int64"
      ]
     },
     "execution_count": 6,
     "metadata": {},
     "output_type": "execute_result"
    }
   ],
   "source": [
    "df.isna().sum()"
   ]
  },
  {
   "cell_type": "code",
   "execution_count": 7,
   "id": "6d2ca4ff-f226-4496-bff6-d0428c6e06fb",
   "metadata": {},
   "outputs": [],
   "source": [
    "df1 = df.reset_index()['Close']"
   ]
  },
  {
   "cell_type": "code",
   "execution_count": 8,
   "id": "6af1bcef-b25d-444b-a65a-29daa298d656",
   "metadata": {},
   "outputs": [
    {
     "data": {
      "text/plain": [
       "0       233.75\n",
       "1       233.25\n",
       "2       234.25\n",
       "3       236.10\n",
       "4       233.30\n",
       "         ...  \n",
       "2030    118.65\n",
       "2031    117.60\n",
       "2032    120.65\n",
       "2033    120.90\n",
       "2034    121.55\n",
       "Name: Close, Length: 2035, dtype: float64"
      ]
     },
     "execution_count": 8,
     "metadata": {},
     "output_type": "execute_result"
    }
   ],
   "source": [
    "df1"
   ]
  },
  {
   "cell_type": "markdown",
   "id": "08740d83-ecc8-4123-b2c4-d9e845495f46",
   "metadata": {},
   "source": [
    "# Data visualisation"
   ]
  },
  {
   "cell_type": "code",
   "execution_count": 9,
   "id": "04b16001-09bc-421c-a0e3-411472fa441d",
   "metadata": {},
   "outputs": [
    {
     "data": {
      "text/plain": [
       "<AxesSubplot:>"
      ]
     },
     "execution_count": 9,
     "metadata": {},
     "output_type": "execute_result"
    },
    {
     "data": {
      "image/png": "[encoded data removed]",
      "text/plain": [
       "<Figure size 1440x576 with 1 Axes>"
      ]
     },
     "metadata": {
      "needs_background": "light"
     },
     "output_type": "display_data"
    }
   ],
   "source": [
    "df['Close'].plot(figsize=(20,8))"
   ]
  },
  {
   "cell_type": "code",
   "execution_count": 10,
   "id": "f656f790-2bf4-4a81-939c-539a4c2d5a60",
   "metadata": {},
   "outputs": [
    {
     "name": "stderr",
     "output_type": "stream",
     "text": [
      "C:\\Users\\DHRUPAD CHAKRABORTY\\AppData\\Local\\Temp\\ipykernel_12380\\336086850.py:2: FutureWarning: Dropping of nuisance columns in rolling operations is deprecated; in a future version this will raise TypeError. Select only valid columns before calling the operation. Dropped columns were Index(['Date'], dtype='object')\n",
      "  df.rolling(7).mean().head(15)\n",
      "C:\\Users\\DHRUPAD CHAKRABORTY\\AppData\\Local\\Temp\\ipykernel_12380\\336086850.py:4: FutureWarning: Dropping of nuisance columns in rolling operations is deprecated; in a future version this will raise TypeError. Select only valid columns before calling the operation. Dropped columns were Index(['Date'], dtype='object')\n",
      "  df.rolling(window=30).mean()['Open'].plot()\n"
     ]
    },
    {
     "data": {
      "text/plain": [
       "<AxesSubplot:>"
      ]
     },
     "execution_count": 10,
     "metadata": {},
     "output_type": "execute_result"
    },
    {
     "data": {
      "image/png": "[encoded data removed]",
      "text/plain": [
       "<Figure size 1152x432 with 1 Axes>"
      ]
     },
     "metadata": {
      "needs_background": "light"
     },
     "output_type": "display_data"
    }
   ],
   "source": [
    "# Rolling mean\n",
    "df.rolling(7).mean().head(15)\n",
    "df['Close'].plot(figsize=(16,6))\n",
    "df.rolling(window=30).mean()['Open'].plot()"
   ]
  },
  {
   "cell_type": "markdown",
   "id": "c2ae1435-dbe2-4c76-8d4e-d4bf5f7dc748",
   "metadata": {},
   "source": [
    "# Data Scaling"
   ]
  },
  {
   "cell_type": "code",
   "execution_count": 11,
   "id": "65d4c15f-72d5-44ca-a0ba-80e4fc0b159b",
   "metadata": {},
   "outputs": [],
   "source": [
    "from sklearn.preprocessing import MinMaxScaler\n",
    "scaler = MinMaxScaler(feature_range = (0,1) )\n",
    "df1 = scaler.fit_transform(np.array(df1).reshape(-1,1))"
   ]
  },
  {
   "cell_type": "code",
   "execution_count": 12,
   "id": "26c766b0-fede-4ca8-ad42-3bacccd89660",
   "metadata": {},
   "outputs": [
    {
     "data": {
      "text/plain": [
       "array([[0.62418301],\n",
       "       [0.62214052],\n",
       "       [0.62622549],\n",
       "       ...,\n",
       "       [0.1621732 ],\n",
       "       [0.16319444],\n",
       "       [0.16584967]])"
      ]
     },
     "execution_count": 12,
     "metadata": {},
     "output_type": "execute_result"
    }
   ],
   "source": [
    "df1"
   ]
  },
  {
   "cell_type": "markdown",
   "id": "b74c4f9a-3d4d-4400-a27e-d44a1f55d5ab",
   "metadata": {},
   "source": [
    "# Splitting dataset into train and test data"
   ]
  },
  {
   "cell_type": "code",
   "execution_count": 13,
   "id": "e35187e8-39e3-441c-9b5c-03ff4e379c8d",
   "metadata": {},
   "outputs": [
    {
     "data": {
      "text/plain": [
       "(1526, 509)"
      ]
     },
     "execution_count": 13,
     "metadata": {},
     "output_type": "execute_result"
    }
   ],
   "source": [
    "train_size = int(len(df1)*0.75)\n",
    "test_size = len(df1) - train_size\n",
    "train_size, test_size"
   ]
  },
  {
   "cell_type": "code",
   "execution_count": 14,
   "id": "cda0f59d-c392-40c0-b4d6-f0c8c96a04e4",
   "metadata": {},
   "outputs": [],
   "source": [
    "train_data, test_data = df1[0:train_size: ], df1[train_size:len(df1), :1]"
   ]
  },
  {
   "cell_type": "markdown",
   "id": "a32a05f8-fe50-443d-83fe-d90cef9d646f",
   "metadata": {},
   "source": [
    "# Convert array of values into dataset matrix"
   ]
  },
  {
   "cell_type": "code",
   "execution_count": 15,
   "id": "c66acae8-8749-450d-b75f-37761af358fb",
   "metadata": {},
   "outputs": [],
   "source": [
    "def create_dataset(dataset, time_step = 1):\n",
    "    data_x, data_y = [], []\n",
    "    for i in range(len(dataset) - time_step - 1):\n",
    "        a = dataset[i:(i+time_step),0]\n",
    "        data_x.append(a)\n",
    "        data_y.append(dataset[i+time_step,0])\n",
    "    return numpy.array(data_x), numpy.array(data_y)"
   ]
  },
  {
   "cell_type": "markdown",
   "id": "0921688f-4dc5-4bc7-be22-8e37d64212bf",
   "metadata": {},
   "source": [
    "# Reshape into x = t,t+1,t+2...."
   ]
  },
  {
   "cell_type": "code",
   "execution_count": 16,
   "id": "d8b4e16f-daca-4ca2-9241-fa114a499231",
   "metadata": {},
   "outputs": [],
   "source": [
    "time_step = 100\n",
    "x_train, y_train = create_dataset(train_data, time_step)\n",
    "x_test, y_test = create_dataset(test_data, time_step)"
   ]
  },
  {
   "cell_type": "code",
   "execution_count": 17,
   "id": "a8bab44b-212d-4540-b0c3-9d95d96ac3b6",
   "metadata": {},
   "outputs": [
    {
     "data": {
      "text/plain": [
       "(array([[0.62418301, 0.62214052, 0.62622549, ..., 0.83455882, 0.86213235,\n",
       "         0.85273693],\n",
       "        [0.62214052, 0.62622549, 0.63378268, ..., 0.86213235, 0.85273693,\n",
       "         0.87111928],\n",
       "        [0.62622549, 0.63378268, 0.62234477, ..., 0.85273693, 0.87111928,\n",
       "         0.84497549],\n",
       "        ...,\n",
       "        [0.32271242, 0.3247549 , 0.32148693, ..., 0.1997549 , 0.2001634 ,\n",
       "         0.20506536],\n",
       "        [0.3247549 , 0.32148693, 0.32352941, ..., 0.2001634 , 0.20506536,\n",
       "         0.2005719 ],\n",
       "        [0.32148693, 0.32352941, 0.3255719 , ..., 0.20506536, 0.2005719 ,\n",
       "         0.18831699]]),\n",
       " array([0.87111928, 0.84497549, 0.84027778, ..., 0.2005719 , 0.18831699,\n",
       "        0.18811275]))"
      ]
     },
     "execution_count": 17,
     "metadata": {},
     "output_type": "execute_result"
    }
   ],
   "source": [
    "x_train, y_train"
   ]
  },
  {
   "cell_type": "code",
   "execution_count": 18,
   "id": "49718108-c1ea-4fe6-a2f9-387e9b12077a",
   "metadata": {},
   "outputs": [
    {
     "data": {
      "text/plain": [
       "(array([[0.1621732 , 0.15972222, 0.16278595, ..., 0.14644608, 0.15216503,\n",
       "         0.1435866 ],\n",
       "        [0.15972222, 0.16278595, 0.17340686, ..., 0.15216503, 0.1435866 ,\n",
       "         0.13419118],\n",
       "        [0.16278595, 0.17340686, 0.14174837, ..., 0.1435866 , 0.13419118,\n",
       "         0.1431781 ],\n",
       "        ...,\n",
       "        [0.13827614, 0.13541667, 0.13010621, ..., 0.14562908, 0.15236928,\n",
       "         0.15400327],\n",
       "        [0.13541667, 0.13010621, 0.12254902, ..., 0.15236928, 0.15400327,\n",
       "         0.14971405],\n",
       "        [0.13010621, 0.12254902, 0.12479575, ..., 0.15400327, 0.14971405,\n",
       "         0.1621732 ]]),\n",
       " array([0.13419118, 0.1431781 , 0.16115196, 0.16176471, 0.17320261,\n",
       "        0.18218954, 0.16237745, 0.13112745, 0.15931373, 0.15951797,\n",
       "        0.14808007, 0.16278595, 0.15625   , 0.16319444, 0.16360294,\n",
       "        0.16278595, 0.16544118, 0.15522876, 0.17197712, 0.1503268 ,\n",
       "        0.13255719, 0.14338235, 0.15849673, 0.1186683 , 0.11519608,\n",
       "        0.10947712, 0.0692402 , 0.06597222, 0.05841503, 0.05044935,\n",
       "        0.04534314, 0.04779412, 0.05290033, 0.04922386, 0.06638072,\n",
       "        0.07169118, 0.05392157, 0.04881536, 0.04881536, 0.05310458,\n",
       "        0.04963235, 0.05065359, 0.05126634, 0.04963235, 0.05902778,\n",
       "        0.05555556, 0.04084967, 0.03737745, 0.03737745, 0.02655229,\n",
       "        0.02879902, 0.0316585 , 0.0316585 , 0.03635621, 0.02205882,\n",
       "        0.01674837, 0.01450163, 0.02226307, 0.03615196, 0.02675654,\n",
       "        0.03206699, 0.02696078, 0.03574346, 0.03594771, 0.04044118,\n",
       "        0.03921569, 0.04411765, 0.02982026, 0.0122549 , 0.01286765,\n",
       "        0.01143791, 0.00245098, 0.0059232 , 0.        , 0.00714869,\n",
       "        0.00428922, 0.0067402 , 0.0063317 , 0.01123366, 0.01960784,\n",
       "        0.02757353, 0.03002451, 0.03349673, 0.04003268, 0.04084967,\n",
       "        0.03982843, 0.04166667, 0.04370915, 0.04758987, 0.03594771,\n",
       "        0.02839052, 0.02410131, 0.01715686, 0.01531863, 0.01756536,\n",
       "        0.02696078, 0.02696078, 0.03819444, 0.02839052, 0.02369281,\n",
       "        0.02920752, 0.02328431, 0.01919935, 0.00653595, 0.00061275,\n",
       "        0.00796569, 0.01245915, 0.01981209, 0.01940359, 0.02246732,\n",
       "        0.03125   , 0.02348856, 0.0249183 , 0.02144608, 0.04840686,\n",
       "        0.04575163, 0.03962418, 0.03921569, 0.04758987, 0.04513889,\n",
       "        0.04166667, 0.04125817, 0.05044935, 0.05555556, 0.05494281,\n",
       "        0.05412582, 0.0435049 , 0.04799837, 0.05147059, 0.05065359,\n",
       "        0.03431373, 0.04575163, 0.04187092, 0.04554739, 0.03941993,\n",
       "        0.02716503, 0.03125   , 0.05882353, 0.07148693, 0.08721405,\n",
       "        0.08986928, 0.10498366, 0.08905229, 0.10355392, 0.10375817,\n",
       "        0.12275327, 0.10906863, 0.09660948, 0.1064134 , 0.10457516,\n",
       "        0.11049837, 0.1127451 , 0.09803922, 0.09987745, 0.08925654,\n",
       "        0.0747549 , 0.08169935, 0.08925654, 0.09068627, 0.08129085,\n",
       "        0.08823529, 0.08455882, 0.07945261, 0.08374183, 0.07781863,\n",
       "        0.09824346, 0.09089052, 0.09007353, 0.09558824, 0.06862745,\n",
       "        0.06372549, 0.0494281 , 0.04799837, 0.04534314, 0.0443219 ,\n",
       "        0.03941993, 0.0379902 , 0.04656863, 0.05085784, 0.07209967,\n",
       "        0.06535948, 0.07230392, 0.07802288, 0.07741013, 0.06086601,\n",
       "        0.06413399, 0.07046569, 0.05412582, 0.0498366 , 0.05167484,\n",
       "        0.05330882, 0.0435049 , 0.02634804, 0.02410131, 0.02961601,\n",
       "        0.01960784, 0.02961601, 0.04575163, 0.05923203, 0.06678922,\n",
       "        0.06229575, 0.06311275, 0.0629085 , 0.06658497, 0.07434641,\n",
       "        0.06944444, 0.08088235, 0.07700163, 0.0684232 , 0.06781046,\n",
       "        0.0629085 , 0.0692402 , 0.0755719 , 0.07781863, 0.08088235,\n",
       "        0.08843954, 0.09395425, 0.09599673, 0.08660131, 0.09027778,\n",
       "        0.08517157, 0.08374183, 0.07945261, 0.09109477, 0.09129902,\n",
       "        0.08803105, 0.09681373, 0.11417484, 0.10498366, 0.09987745,\n",
       "        0.08537582, 0.08047386, 0.06862745, 0.06576797, 0.06147876,\n",
       "        0.07169118, 0.07026144, 0.0747549 , 0.06821895, 0.0692402 ,\n",
       "        0.07066993, 0.06801471, 0.06678922, 0.07414216, 0.07169118,\n",
       "        0.08639706, 0.08312908, 0.06311275, 0.0629085 , 0.05167484,\n",
       "        0.03186275, 0.04003268, 0.03860294, 0.04105392, 0.03390523,\n",
       "        0.03125   , 0.02634804, 0.05861928, 0.06311275, 0.0620915 ,\n",
       "        0.05535131, 0.08455882, 0.05514706, 0.06045752, 0.0557598 ,\n",
       "        0.0439134 , 0.02920752, 0.02818627, 0.04718137, 0.06045752,\n",
       "        0.05861928, 0.06168301, 0.06699346, 0.07087418, 0.0755719 ,\n",
       "        0.07700163, 0.10375817, 0.10314542, 0.10334967, 0.10089869,\n",
       "        0.10437092, 0.09803922, 0.09722222, 0.09783497, 0.09579248,\n",
       "        0.09109477, 0.09313725, 0.08558007, 0.09517974, 0.11172386,\n",
       "        0.12275327, 0.12806373, 0.1313317 , 0.12479575, 0.11090686,\n",
       "        0.10743464, 0.11621732, 0.11683007, 0.11764706, 0.12888072,\n",
       "        0.12847222, 0.13337418, 0.14236111, 0.14093137, 0.13970588,\n",
       "        0.13827614, 0.13541667, 0.13010621, 0.12254902, 0.12479575,\n",
       "        0.13848039, 0.14011438, 0.13888889, 0.13541667, 0.14011438,\n",
       "        0.1380719 , 0.13071895, 0.13071895, 0.12867647, 0.11846405,\n",
       "        0.14644608, 0.14808007, 0.15910948, 0.15992647, 0.15788399,\n",
       "        0.16441993, 0.17892157, 0.17933007, 0.19260621, 0.20812908,\n",
       "        0.18974673, 0.18055556, 0.18239379, 0.17708333, 0.17810458,\n",
       "        0.18055556, 0.17810458, 0.17851307, 0.19607843, 0.18913399,\n",
       "        0.18954248, 0.19403595, 0.19444444, 0.20200163, 0.19771242,\n",
       "        0.19934641, 0.19873366, 0.1997549 , 0.2128268 , 0.21568627,\n",
       "        0.20445261, 0.21772876, 0.21098856, 0.21425654, 0.19750817,\n",
       "        0.18811275, 0.17851307, 0.17381536, 0.16033497, 0.16564542,\n",
       "        0.17116013, 0.17422386, 0.18035131, 0.17401961, 0.16278595,\n",
       "        0.16973039, 0.17810458, 0.17034314, 0.16830065, 0.17279412,\n",
       "        0.17544935, 0.18382353, 0.19138072, 0.18913399, 0.19097222,\n",
       "        0.17238562, 0.16830065, 0.1693219 , 0.17177288, 0.16156046,\n",
       "        0.14971405, 0.1503268 , 0.15196078, 0.14726307, 0.14501634,\n",
       "        0.14603758, 0.12479575, 0.13112745, 0.11397059, 0.1190768 ,\n",
       "        0.12377451, 0.13562092, 0.12908497, 0.13459967, 0.12806373,\n",
       "        0.13031046, 0.12724673, 0.13521242, 0.14522059, 0.15257353,\n",
       "        0.14848856, 0.14338235, 0.14562908, 0.15236928, 0.15400327,\n",
       "        0.14971405, 0.1621732 , 0.16319444]))"
      ]
     },
     "execution_count": 18,
     "metadata": {},
     "output_type": "execute_result"
    }
   ],
   "source": [
    "x_test, y_test"
   ]
  },
  {
   "cell_type": "code",
   "execution_count": 19,
   "id": "e4441f70-1260-4cb8-a4b0-852b6f8618ab",
   "metadata": {},
   "outputs": [
    {
     "data": {
      "text/plain": [
       "(1425, 100)"
      ]
     },
     "execution_count": 19,
     "metadata": {},
     "output_type": "execute_result"
    }
   ],
   "source": [
    "x_train.shape"
   ]
  },
  {
   "cell_type": "code",
   "execution_count": 20,
   "id": "1ad28efe-610a-49fa-ac80-c35b3a22ad06",
   "metadata": {},
   "outputs": [
    {
     "data": {
      "text/plain": [
       "(1425,)"
      ]
     },
     "execution_count": 20,
     "metadata": {},
     "output_type": "execute_result"
    }
   ],
   "source": [
    "y_train.shape"
   ]
  },
  {
   "cell_type": "code",
   "execution_count": 21,
   "id": "1749603a-de30-4c95-a08d-9dfa395eba43",
   "metadata": {},
   "outputs": [
    {
     "data": {
      "text/plain": [
       "(408,)"
      ]
     },
     "execution_count": 21,
     "metadata": {},
     "output_type": "execute_result"
    }
   ],
   "source": [
    "y_test.shape"
   ]
  },
  {
   "cell_type": "markdown",
   "id": "e07bb520-7887-43f3-a4a4-0bb1e7309496",
   "metadata": {},
   "source": [
    "# Reshape input to be [ samples, time_step, features ] which is required for LSTM"
   ]
  },
  {
   "cell_type": "code",
   "execution_count": 22,
   "id": "34d1654b-94e3-464a-84bc-6adc7ef481b7",
   "metadata": {},
   "outputs": [],
   "source": [
    "x_train = x_train.reshape(x_train.shape[0], x_train.shape[1], 1)\n",
    "x_test = x_test.reshape(x_test.shape[0], x_test.shape[1], 1)"
   ]
  },
  {
   "cell_type": "markdown",
   "id": "c34f1f4f-9c99-4040-aeef-8267f9b2cc4d",
   "metadata": {},
   "source": [
    "# Create Stacked LSTM Model"
   ]
  },
  {
   "cell_type": "code",
   "execution_count": 23,
   "id": "5fc35f66-2ee0-4cf3-ac7c-0fc519664544",
   "metadata": {},
   "outputs": [],
   "source": [
    "from tensorflow.keras.models import Sequential\n",
    "from tensorflow.keras.layers import Dense\n",
    "from tensorflow.keras.layers import LSTM\n",
    "import tensorflow as tf\n",
    "import math\n",
    "from sklearn.metrics import mean_squared_error"
   ]
  },
  {
   "cell_type": "code",
   "execution_count": 24,
   "id": "a84500a3-57f8-4d0f-a716-d8e0f3acb221",
   "metadata": {},
   "outputs": [],
   "source": [
    "model = Sequential()"
   ]
  },
  {
   "cell_type": "code",
   "execution_count": 25,
   "id": "ebabf5ef-a559-4370-ab51-8254980757f3",
   "metadata": {},
   "outputs": [],
   "source": [
    "model.add(LSTM(50, return_sequences = True, input_shape = (100,1)))\n",
    "model.add(LSTM(50, return_sequences = True))\n",
    "model.add(LSTM(50))\n",
    "model.add(Dense(1))\n",
    "model.compile(loss='mean_squared_error',optimizer='adam')"
   ]
  },
  {
   "cell_type": "code",
   "execution_count": 26,
   "id": "8d111ac2-0a88-41e9-9e76-14c2af20d0e3",
   "metadata": {},
   "outputs": [
    {
     "name": "stdout",
     "output_type": "stream",
     "text": [
      "Model: \"sequential\"\n",
      "_________________________________________________________________\n",
      " Layer (type)                Output Shape              Param #   \n",
      "=================================================================\n",
      " lstm (LSTM)                 (None, 100, 50)           10400     \n",
      "                                                                 \n",
      " lstm_1 (LSTM)               (None, 100, 50)           20200     \n",
      "                                                                 \n",
      " lstm_2 (LSTM)               (None, 50)                20200     \n",
      "                                                                 \n",
      " dense (Dense)               (None, 1)                 51        \n",
      "                                                                 \n",
      "=================================================================\n",
      "Total params: 50,851\n",
      "Trainable params: 50,851\n",
      "Non-trainable params: 0\n",
      "_________________________________________________________________\n"
     ]
    }
   ],
   "source": [
    "model.summary()"
   ]
  },
  {
   "cell_type": "code",
   "execution_count": 27,
   "id": "bca745ec-cf97-403e-9ac4-3bd3c11e345b",
   "metadata": {},
   "outputs": [
    {
     "name": "stdout",
     "output_type": "stream",
     "text": [
      "Epoch 1/100\n",
      "23/23 [==============================] - 14s 232ms/step - loss: 0.0307 - val_loss: 0.0106\n",
      "Epoch 2/100\n",
      "23/23 [==============================] - 3s 147ms/step - loss: 0.0032 - val_loss: 7.6950e-04\n",
      "Epoch 3/100\n",
      "23/23 [==============================] - 3s 139ms/step - loss: 0.0016 - val_loss: 0.0019\n",
      "Epoch 4/100\n",
      "23/23 [==============================] - 3s 139ms/step - loss: 0.0015 - val_loss: 0.0012\n",
      "Epoch 5/100\n",
      "23/23 [==============================] - 3s 139ms/step - loss: 0.0014 - val_loss: 0.0014\n",
      "Epoch 6/100\n",
      "23/23 [==============================] - 3s 138ms/step - loss: 0.0018 - val_loss: 0.0011\n",
      "Epoch 7/100\n",
      "23/23 [==============================] - 3s 138ms/step - loss: 0.0014 - val_loss: 0.0011\n",
      "Epoch 8/100\n",
      "23/23 [==============================] - 3s 137ms/step - loss: 0.0011 - val_loss: 0.0012\n",
      "Epoch 9/100\n",
      "23/23 [==============================] - 3s 138ms/step - loss: 0.0011 - val_loss: 8.3270e-04\n",
      "Epoch 10/100\n",
      "23/23 [==============================] - 3s 137ms/step - loss: 9.9727e-04 - val_loss: 8.6865e-04\n",
      "Epoch 11/100\n",
      "23/23 [==============================] - 3s 139ms/step - loss: 0.0010 - val_loss: 0.0010\n",
      "Epoch 12/100\n",
      "23/23 [==============================] - 3s 140ms/step - loss: 0.0010 - val_loss: 0.0010\n",
      "Epoch 13/100\n",
      "23/23 [==============================] - 3s 139ms/step - loss: 0.0010 - val_loss: 0.0010\n",
      "Epoch 14/100\n",
      "23/23 [==============================] - 4s 153ms/step - loss: 8.4447e-04 - val_loss: 9.0078e-04\n",
      "Epoch 15/100\n",
      "23/23 [==============================] - 4s 153ms/step - loss: 7.9884e-04 - val_loss: 7.4674e-04\n",
      "Epoch 16/100\n",
      "23/23 [==============================] - 3s 147ms/step - loss: 8.3879e-04 - val_loss: 0.0011\n",
      "Epoch 17/100\n",
      "23/23 [==============================] - 3s 147ms/step - loss: 7.6807e-04 - val_loss: 8.0447e-04\n",
      "Epoch 18/100\n",
      "23/23 [==============================] - 3s 142ms/step - loss: 7.9927e-04 - val_loss: 7.3002e-04\n",
      "Epoch 19/100\n",
      "23/23 [==============================] - 3s 142ms/step - loss: 9.0163e-04 - val_loss: 9.5704e-04\n",
      "Epoch 20/100\n",
      "23/23 [==============================] - 3s 141ms/step - loss: 7.0886e-04 - val_loss: 7.1020e-04\n",
      "Epoch 21/100\n",
      "23/23 [==============================] - 3s 139ms/step - loss: 7.1811e-04 - val_loss: 8.1072e-04\n",
      "Epoch 22/100\n",
      "23/23 [==============================] - 3s 148ms/step - loss: 6.6583e-04 - val_loss: 9.5684e-04\n",
      "Epoch 23/100\n",
      "23/23 [==============================] - 3s 138ms/step - loss: 7.4343e-04 - val_loss: 7.1919e-04\n",
      "Epoch 24/100\n",
      "23/23 [==============================] - 3s 138ms/step - loss: 6.6361e-04 - val_loss: 5.5735e-04\n",
      "Epoch 25/100\n",
      "23/23 [==============================] - 3s 137ms/step - loss: 6.2776e-04 - val_loss: 5.9154e-04\n",
      "Epoch 26/100\n",
      "23/23 [==============================] - 3s 137ms/step - loss: 6.4140e-04 - val_loss: 7.5591e-04\n",
      "Epoch 27/100\n",
      "23/23 [==============================] - 3s 136ms/step - loss: 5.8605e-04 - val_loss: 9.7317e-04\n",
      "Epoch 28/100\n",
      "23/23 [==============================] - 3s 138ms/step - loss: 6.6396e-04 - val_loss: 8.0915e-04\n",
      "Epoch 29/100\n",
      "23/23 [==============================] - 3s 135ms/step - loss: 5.5588e-04 - val_loss: 6.7267e-04\n",
      "Epoch 30/100\n",
      "23/23 [==============================] - 3s 136ms/step - loss: 5.5967e-04 - val_loss: 5.9681e-04\n",
      "Epoch 31/100\n",
      "23/23 [==============================] - 3s 138ms/step - loss: 5.4111e-04 - val_loss: 4.7421e-04\n",
      "Epoch 32/100\n",
      "23/23 [==============================] - 3s 135ms/step - loss: 6.0070e-04 - val_loss: 4.5734e-04\n",
      "Epoch 33/100\n",
      "23/23 [==============================] - 3s 135ms/step - loss: 5.8049e-04 - val_loss: 4.7424e-04\n",
      "Epoch 34/100\n",
      "23/23 [==============================] - 3s 134ms/step - loss: 5.3399e-04 - val_loss: 6.3657e-04\n",
      "Epoch 35/100\n",
      "23/23 [==============================] - 3s 136ms/step - loss: 4.8570e-04 - val_loss: 5.7745e-04\n",
      "Epoch 36/100\n",
      "23/23 [==============================] - 3s 135ms/step - loss: 4.5724e-04 - val_loss: 5.1430e-04\n",
      "Epoch 37/100\n",
      "23/23 [==============================] - 3s 148ms/step - loss: 4.8887e-04 - val_loss: 6.4266e-04\n",
      "Epoch 38/100\n",
      "23/23 [==============================] - 4s 154ms/step - loss: 4.3859e-04 - val_loss: 4.9119e-04\n",
      "Epoch 39/100\n",
      "23/23 [==============================] - 3s 150ms/step - loss: 4.6866e-04 - val_loss: 4.8525e-04\n",
      "Epoch 40/100\n",
      "23/23 [==============================] - 3s 150ms/step - loss: 4.5452e-04 - val_loss: 5.6196e-04\n",
      "Epoch 41/100\n",
      "23/23 [==============================] - 3s 150ms/step - loss: 4.0563e-04 - val_loss: 5.7189e-04\n",
      "Epoch 42/100\n",
      "23/23 [==============================] - 3s 149ms/step - loss: 4.2224e-04 - val_loss: 4.1869e-04\n",
      "Epoch 43/100\n",
      "23/23 [==============================] - 3s 149ms/step - loss: 4.6174e-04 - val_loss: 3.9498e-04\n",
      "Epoch 44/100\n",
      "23/23 [==============================] - 3s 147ms/step - loss: 3.7365e-04 - val_loss: 3.9913e-04\n",
      "Epoch 45/100\n",
      "23/23 [==============================] - 3s 148ms/step - loss: 4.1465e-04 - val_loss: 7.5197e-04\n",
      "Epoch 46/100\n",
      "23/23 [==============================] - 4s 155ms/step - loss: 4.2852e-04 - val_loss: 4.4861e-04\n",
      "Epoch 47/100\n",
      "23/23 [==============================] - 3s 151ms/step - loss: 3.6560e-04 - val_loss: 4.7216e-04\n",
      "Epoch 48/100\n",
      "23/23 [==============================] - 3s 147ms/step - loss: 3.9737e-04 - val_loss: 3.9460e-04\n",
      "Epoch 49/100\n",
      "23/23 [==============================] - 3s 148ms/step - loss: 3.5653e-04 - val_loss: 3.4846e-04\n",
      "Epoch 50/100\n",
      "23/23 [==============================] - 3s 149ms/step - loss: 3.6206e-04 - val_loss: 3.5364e-04\n",
      "Epoch 51/100\n",
      "23/23 [==============================] - 3s 148ms/step - loss: 3.3180e-04 - val_loss: 2.4234e-04\n",
      "Epoch 52/100\n",
      "23/23 [==============================] - 3s 149ms/step - loss: 4.5239e-04 - val_loss: 3.9654e-04\n",
      "Epoch 53/100\n",
      "23/23 [==============================] - 3s 147ms/step - loss: 3.2947e-04 - val_loss: 4.6146e-04\n",
      "Epoch 54/100\n",
      "23/23 [==============================] - 3s 148ms/step - loss: 3.0483e-04 - val_loss: 3.6356e-04\n",
      "Epoch 55/100\n",
      "23/23 [==============================] - 3s 149ms/step - loss: 3.1778e-04 - val_loss: 4.4692e-04\n",
      "Epoch 56/100\n",
      "23/23 [==============================] - 3s 150ms/step - loss: 3.4590e-04 - val_loss: 2.2441e-04\n",
      "Epoch 57/100\n",
      "23/23 [==============================] - 4s 153ms/step - loss: 3.6275e-04 - val_loss: 2.4696e-04\n",
      "Epoch 58/100\n",
      "23/23 [==============================] - 3s 150ms/step - loss: 2.7924e-04 - val_loss: 3.2204e-04\n",
      "Epoch 59/100\n",
      "23/23 [==============================] - 3s 150ms/step - loss: 2.8501e-04 - val_loss: 2.8818e-04\n",
      "Epoch 60/100\n",
      "23/23 [==============================] - 3s 148ms/step - loss: 2.8166e-04 - val_loss: 2.9789e-04\n",
      "Epoch 61/100\n",
      "23/23 [==============================] - 3s 148ms/step - loss: 2.8133e-04 - val_loss: 2.9990e-04\n",
      "Epoch 62/100\n",
      "23/23 [==============================] - 3s 148ms/step - loss: 3.1331e-04 - val_loss: 2.2378e-04\n",
      "Epoch 63/100\n",
      "23/23 [==============================] - 3s 149ms/step - loss: 3.6905e-04 - val_loss: 3.7266e-04\n",
      "Epoch 64/100\n",
      "23/23 [==============================] - 3s 150ms/step - loss: 3.5321e-04 - val_loss: 3.1340e-04\n",
      "Epoch 65/100\n",
      "23/23 [==============================] - 3s 149ms/step - loss: 2.6390e-04 - val_loss: 3.2596e-04\n",
      "Epoch 66/100\n",
      "23/23 [==============================] - 4s 159ms/step - loss: 2.6676e-04 - val_loss: 2.6815e-04\n",
      "Epoch 67/100\n",
      "23/23 [==============================] - 3s 147ms/step - loss: 2.4517e-04 - val_loss: 2.7721e-04\n",
      "Epoch 68/100\n",
      "23/23 [==============================] - 3s 147ms/step - loss: 2.6344e-04 - val_loss: 2.8326e-04\n",
      "Epoch 69/100\n",
      "23/23 [==============================] - 3s 147ms/step - loss: 2.3730e-04 - val_loss: 3.3108e-04\n",
      "Epoch 70/100\n",
      "23/23 [==============================] - 3s 147ms/step - loss: 2.6107e-04 - val_loss: 2.2173e-04\n",
      "Epoch 71/100\n",
      "23/23 [==============================] - 3s 152ms/step - loss: 2.6129e-04 - val_loss: 1.8814e-04\n",
      "Epoch 72/100\n",
      "23/23 [==============================] - 3s 148ms/step - loss: 2.8046e-04 - val_loss: 2.4104e-04\n",
      "Epoch 73/100\n",
      "23/23 [==============================] - 3s 148ms/step - loss: 2.6767e-04 - val_loss: 1.8851e-04\n",
      "Epoch 74/100\n",
      "23/23 [==============================] - 3s 146ms/step - loss: 2.3808e-04 - val_loss: 2.5907e-04\n",
      "Epoch 75/100\n",
      "23/23 [==============================] - 3s 146ms/step - loss: 2.2719e-04 - val_loss: 2.1511e-04\n",
      "Epoch 76/100\n",
      "23/23 [==============================] - 3s 148ms/step - loss: 2.5383e-04 - val_loss: 3.1395e-04\n",
      "Epoch 77/100\n",
      "23/23 [==============================] - 3s 146ms/step - loss: 2.3689e-04 - val_loss: 2.3146e-04\n",
      "Epoch 78/100\n",
      "23/23 [==============================] - 3s 147ms/step - loss: 2.2623e-04 - val_loss: 2.8281e-04\n",
      "Epoch 79/100\n",
      "23/23 [==============================] - 3s 148ms/step - loss: 2.6700e-04 - val_loss: 1.9774e-04\n",
      "Epoch 80/100\n",
      "23/23 [==============================] - 3s 146ms/step - loss: 2.2120e-04 - val_loss: 1.8129e-04\n",
      "Epoch 81/100\n",
      "23/23 [==============================] - 3s 152ms/step - loss: 2.4221e-04 - val_loss: 1.9869e-04\n",
      "Epoch 82/100\n",
      "23/23 [==============================] - 3s 149ms/step - loss: 2.3387e-04 - val_loss: 1.9519e-04\n",
      "Epoch 83/100\n",
      "23/23 [==============================] - 3s 146ms/step - loss: 2.1375e-04 - val_loss: 2.1316e-04\n",
      "Epoch 84/100\n",
      "23/23 [==============================] - 3s 146ms/step - loss: 2.1418e-04 - val_loss: 2.6325e-04\n",
      "Epoch 85/100\n",
      "23/23 [==============================] - 4s 153ms/step - loss: 2.3245e-04 - val_loss: 1.6266e-04\n",
      "Epoch 86/100\n",
      "23/23 [==============================] - 4s 165ms/step - loss: 2.6587e-04 - val_loss: 3.0836e-04\n",
      "Epoch 87/100\n",
      "23/23 [==============================] - 4s 180ms/step - loss: 2.3517e-04 - val_loss: 2.1136e-04\n",
      "Epoch 88/100\n",
      "23/23 [==============================] - 4s 166ms/step - loss: 2.4604e-04 - val_loss: 1.9461e-04\n",
      "Epoch 89/100\n",
      "23/23 [==============================] - 4s 171ms/step - loss: 2.1081e-04 - val_loss: 2.0716e-04\n",
      "Epoch 90/100\n",
      "23/23 [==============================] - 4s 172ms/step - loss: 2.0534e-04 - val_loss: 1.7583e-04\n",
      "Epoch 91/100\n",
      "23/23 [==============================] - 4s 173ms/step - loss: 2.1949e-04 - val_loss: 3.0141e-04\n",
      "Epoch 92/100\n",
      "23/23 [==============================] - 4s 177ms/step - loss: 2.8390e-04 - val_loss: 1.9110e-04\n",
      "Epoch 93/100\n",
      "23/23 [==============================] - 4s 175ms/step - loss: 2.0773e-04 - val_loss: 1.7864e-04\n",
      "Epoch 94/100\n",
      "23/23 [==============================] - 4s 176ms/step - loss: 2.2481e-04 - val_loss: 1.8403e-04\n",
      "Epoch 95/100\n",
      "23/23 [==============================] - 4s 173ms/step - loss: 2.0121e-04 - val_loss: 1.4508e-04\n",
      "Epoch 96/100\n",
      "23/23 [==============================] - 4s 179ms/step - loss: 2.0431e-04 - val_loss: 1.7748e-04\n",
      "Epoch 97/100\n",
      "23/23 [==============================] - 4s 168ms/step - loss: 2.0808e-04 - val_loss: 1.5139e-04\n",
      "Epoch 98/100\n",
      "23/23 [==============================] - 3s 152ms/step - loss: 2.2013e-04 - val_loss: 2.4592e-04\n",
      "Epoch 99/100\n",
      "23/23 [==============================] - 3s 151ms/step - loss: 2.0233e-04 - val_loss: 1.6770e-04\n",
      "Epoch 100/100\n",
      "23/23 [==============================] - 4s 154ms/step - loss: 2.1724e-04 - val_loss: 4.2055e-04\n"
     ]
    },
    {
     "data": {
      "text/plain": [
       "<keras.callbacks.History at 0x1358456fc40>"
      ]
     },
     "execution_count": 27,
     "metadata": {},
     "output_type": "execute_result"
    }
   ],
   "source": [
    "model.fit(x_train, y_train, validation_data = (x_test, y_test), epochs = 100, batch_size = 64, verbose = 1)"
   ]
  },
  {
   "cell_type": "markdown",
   "id": "ab1ccc34-2b88-48d3-8f95-713f50d995cb",
   "metadata": {},
   "source": [
    "# Prediction and chcek performance metrices"
   ]
  },
  {
   "cell_type": "code",
   "execution_count": 28,
   "id": "4b54a8c5-dd84-422d-be41-1bb705a308e3",
   "metadata": {},
   "outputs": [
    {
     "name": "stdout",
     "output_type": "stream",
     "text": [
      "45/45 [==============================] - 3s 29ms/step\n",
      "13/13 [==============================] - 0s 32ms/step\n"
     ]
    }
   ],
   "source": [
    "train_predict = model.predict(x_train)\n",
    "test_predict = model.predict(x_test)"
   ]
  },
  {
   "cell_type": "markdown",
   "id": "740e18c7-0b84-4bd0-9da4-6ccd0ed1c8a2",
   "metadata": {},
   "source": [
    "# Transform back to original form"
   ]
  },
  {
   "cell_type": "code",
   "execution_count": 29,
   "id": "ce8b3679-88ae-47d6-b159-2e33b7e0afd1",
   "metadata": {},
   "outputs": [],
   "source": [
    "train_predict = scaler.inverse_transform(train_predict)\n",
    "test_predict = scaler.inverse_transform(test_predict)"
   ]
  },
  {
   "cell_type": "markdown",
   "id": "4291ac0b-9539-47f9-8915-27ecf4c1850b",
   "metadata": {},
   "source": [
    "# RMSE performance metrices"
   ]
  },
  {
   "cell_type": "code",
   "execution_count": 30,
   "id": "a1de440e-c238-4d35-8594-1c30cf984a5a",
   "metadata": {},
   "outputs": [],
   "source": [
    "x = math.sqrt(mean_squared_error(y_train,train_predict))"
   ]
  },
  {
   "cell_type": "code",
   "execution_count": 31,
   "id": "1232db51-061c-473d-9880-670bd383f0bc",
   "metadata": {},
   "outputs": [
    {
     "data": {
      "text/plain": [
       "168.03226163844334"
      ]
     },
     "execution_count": 31,
     "metadata": {},
     "output_type": "execute_result"
    }
   ],
   "source": [
    "x"
   ]
  },
  {
   "cell_type": "code",
   "execution_count": 32,
   "id": "5c85fc8e-a623-442e-8018-28b88cbce66e",
   "metadata": {},
   "outputs": [],
   "source": [
    "### Test Data RMSE\n",
    "y = math.sqrt(mean_squared_error(y_test,test_predict))"
   ]
  },
  {
   "cell_type": "code",
   "execution_count": 33,
   "id": "659c76ca-0c23-40fb-9ba1-00b86f9312a3",
   "metadata": {},
   "outputs": [
    {
     "data": {
      "text/plain": [
       "108.43711453439195"
      ]
     },
     "execution_count": 33,
     "metadata": {},
     "output_type": "execute_result"
    }
   ],
   "source": [
    "y"
   ]
  },
  {
   "cell_type": "markdown",
   "id": "6ce6e727-a4cc-4e7b-a697-e9da3d66d4ec",
   "metadata": {},
   "source": [
    "# Plotting"
   ]
  },
  {
   "cell_type": "code",
   "execution_count": 34,
   "id": "63c2013f-d1e1-4992-a101-d87e5ec9b09d",
   "metadata": {},
   "outputs": [],
   "source": [
    "# Train predictions\n",
    "back = 100\n",
    "trainPredictPlot = numpy.empty_like(df1)\n",
    "trainPredictPlot[:, :] = np.nan\n",
    "trainPredictPlot[back:len(train_predict)+back, :] = train_predict"
   ]
  },
  {
   "cell_type": "code",
   "execution_count": 35,
   "id": "3d5aff4c-cde0-4228-a9b6-48d39bd46f51",
   "metadata": {},
   "outputs": [],
   "source": [
    "# Test predictions\n",
    "testPredictPlot = numpy.empty_like(df1)\n",
    "testPredictPlot[:, :] = numpy.nan\n",
    "testPredictPlot[len(train_predict)+(back*2)+1:len(df1)-1, :] = test_predict"
   ]
  },
  {
   "cell_type": "code",
   "execution_count": 36,
   "id": "60420b7b-05df-4fb6-b547-ab01a5a61820",
   "metadata": {},
   "outputs": [
    {
     "data": {
      "image/png": "[encoded data removed]",
      "text/plain": [
       "<Figure size 1440x576 with 1 Axes>"
      ]
     },
     "metadata": {
      "needs_background": "light"
     },
     "output_type": "display_data"
    }
   ],
   "source": [
    "plt.subplots(figsize=(20,8))\n",
    "plt.plot(trainPredictPlot,color='red')\n",
    "plt.plot(testPredictPlot,color='blue')\n",
    "plt.show()"
   ]
  },
  {
   "cell_type": "code",
   "execution_count": 37,
   "id": "8042e59e-3a96-4870-b2e2-eb9570fc8cef",
   "metadata": {},
   "outputs": [
    {
     "data": {
      "image/png": "[encoded data removed]",
      "text/plain": [
       "<Figure size 1440x576 with 1 Axes>"
      ]
     },
     "metadata": {
      "needs_background": "light"
     },
     "output_type": "display_data"
    }
   ],
   "source": [
    "# Baseline and predictions\n",
    "plt.subplots(figsize=(20,8))\n",
    "plt.plot(scaler.inverse_transform(df1), color = 'black')\n",
    "plt.plot(trainPredictPlot, color = 'red')\n",
    "plt.plot(testPredictPlot, color = 'green')\n",
    "plt.show()"
   ]
  },
  {
   "cell_type": "code",
   "execution_count": 38,
   "id": "12796932-2dab-496f-b85f-e7e1e79d9a12",
   "metadata": {},
   "outputs": [
    {
     "data": {
      "text/plain": [
       "509"
      ]
     },
     "execution_count": 38,
     "metadata": {},
     "output_type": "execute_result"
    }
   ],
   "source": [
    "len(test_data)"
   ]
  },
  {
   "cell_type": "code",
   "execution_count": 39,
   "id": "0f1f0c04-9570-4f06-9043-fdbcf24af8fa",
   "metadata": {},
   "outputs": [
    {
     "data": {
      "text/plain": [
       "(1, 100)"
      ]
     },
     "execution_count": 39,
     "metadata": {},
     "output_type": "execute_result"
    }
   ],
   "source": [
    "x_input=test_data[409:].reshape(1,-1)\n",
    "x_input.shape"
   ]
  },
  {
   "cell_type": "code",
   "execution_count": 40,
   "id": "5416113f-e497-4055-b8cc-d927b55798f6",
   "metadata": {},
   "outputs": [
    {
     "data": {
      "text/plain": [
       "[0.12479575163398693,\n",
       " 0.1384803921568627,\n",
       " 0.14011437908496732,\n",
       " 0.1388888888888889,\n",
       " 0.13541666666666663,\n",
       " 0.14011437908496732,\n",
       " 0.13807189542483655,\n",
       " 0.130718954248366,\n",
       " 0.130718954248366,\n",
       " 0.12867647058823528,\n",
       " 0.11846405228758167,\n",
       " 0.14644607843137253,\n",
       " 0.1480800653594771,\n",
       " 0.159109477124183,\n",
       " 0.15992647058823523,\n",
       " 0.1578839869281045,\n",
       " 0.16441993464052285,\n",
       " 0.178921568627451,\n",
       " 0.17933006535947704,\n",
       " 0.19260620915032678,\n",
       " 0.2081290849673203,\n",
       " 0.18974673202614378,\n",
       " 0.18055555555555558,\n",
       " 0.1823937908496731,\n",
       " 0.17708333333333326,\n",
       " 0.17810457516339862,\n",
       " 0.18055555555555558,\n",
       " 0.17810457516339862,\n",
       " 0.17851307189542487,\n",
       " 0.196078431372549,\n",
       " 0.18913398692810457,\n",
       " 0.1895424836601307,\n",
       " 0.19403594771241828,\n",
       " 0.19444444444444442,\n",
       " 0.20200163398692816,\n",
       " 0.19771241830065356,\n",
       " 0.19934640522875813,\n",
       " 0.19873366013071891,\n",
       " 0.19975490196078427,\n",
       " 0.21282679738562094,\n",
       " 0.21568627450980393,\n",
       " 0.2044526143790849,\n",
       " 0.21772875816993464,\n",
       " 0.21098856209150318,\n",
       " 0.21425653594771243,\n",
       " 0.1975081699346406,\n",
       " 0.1881127450980392,\n",
       " 0.17851307189542487,\n",
       " 0.17381535947712412,\n",
       " 0.16033496732026142,\n",
       " 0.16564542483660127,\n",
       " 0.1711601307189542,\n",
       " 0.17422385620915026,\n",
       " 0.1803513071895424,\n",
       " 0.1740196078431372,\n",
       " 0.16278594771241828,\n",
       " 0.1697303921568627,\n",
       " 0.17810457516339862,\n",
       " 0.1703431372549019,\n",
       " 0.16830065359477125,\n",
       " 0.17279411764705876,\n",
       " 0.1754493464052288,\n",
       " 0.18382352941176472,\n",
       " 0.19138071895424835,\n",
       " 0.18913398692810457,\n",
       " 0.1909722222222222,\n",
       " 0.17238562091503273,\n",
       " 0.16830065359477125,\n",
       " 0.16932189542483655,\n",
       " 0.1717728758169934,\n",
       " 0.16156045751633985,\n",
       " 0.14971405228758167,\n",
       " 0.15032679738562088,\n",
       " 0.1519607843137255,\n",
       " 0.1472630718954248,\n",
       " 0.14501633986928103,\n",
       " 0.14603758169934639,\n",
       " 0.12479575163398693,\n",
       " 0.13112745098039214,\n",
       " 0.11397058823529405,\n",
       " 0.11907679738562088,\n",
       " 0.12377450980392157,\n",
       " 0.13562091503267976,\n",
       " 0.12908496732026142,\n",
       " 0.1345996732026144,\n",
       " 0.12806372549019607,\n",
       " 0.13031045751633985,\n",
       " 0.12724673202614373,\n",
       " 0.13521241830065356,\n",
       " 0.1452205882352941,\n",
       " 0.15257352941176466,\n",
       " 0.14848856209150324,\n",
       " 0.14338235294117646,\n",
       " 0.14562908496732024,\n",
       " 0.1523692810457516,\n",
       " 0.15400326797385622,\n",
       " 0.14971405228758167,\n",
       " 0.16217320261437906,\n",
       " 0.16319444444444448,\n",
       " 0.16584967320261434]"
      ]
     },
     "execution_count": 40,
     "metadata": {},
     "output_type": "execute_result"
    }
   ],
   "source": [
    "temp_input=list(x_input)\n",
    "temp_input=temp_input[0].tolist()\n",
    "temp_input"
   ]
  },
  {
   "cell_type": "markdown",
   "id": "157cce1b-c8d7-49f7-895b-59ae1391ad8b",
   "metadata": {},
   "source": [
    "# Demonstrate prediction for next 30 days"
   ]
  },
  {
   "cell_type": "code",
   "execution_count": 41,
   "id": "1f7157d4-a23d-4cfc-956b-c6dc46aa828b",
   "metadata": {},
   "outputs": [
    {
     "name": "stdout",
     "output_type": "stream",
     "text": [
      "[0.18027423]\n",
      "101\n",
      "1 day input [0.13848039 0.14011438 0.13888889 0.13541667 0.14011438 0.1380719\n",
      " 0.13071895 0.13071895 0.12867647 0.11846405 0.14644608 0.14808007\n",
      " 0.15910948 0.15992647 0.15788399 0.16441993 0.17892157 0.17933007\n",
      " 0.19260621 0.20812908 0.18974673 0.18055556 0.18239379 0.17708333\n",
      " 0.17810458 0.18055556 0.17810458 0.17851307 0.19607843 0.18913399\n",
      " 0.18954248 0.19403595 0.19444444 0.20200163 0.19771242 0.19934641\n",
      " 0.19873366 0.1997549  0.2128268  0.21568627 0.20445261 0.21772876\n",
      " 0.21098856 0.21425654 0.19750817 0.18811275 0.17851307 0.17381536\n",
      " 0.16033497 0.16564542 0.17116013 0.17422386 0.18035131 0.17401961\n",
      " 0.16278595 0.16973039 0.17810458 0.17034314 0.16830065 0.17279412\n",
      " 0.17544935 0.18382353 0.19138072 0.18913399 0.19097222 0.17238562\n",
      " 0.16830065 0.1693219  0.17177288 0.16156046 0.14971405 0.1503268\n",
      " 0.15196078 0.14726307 0.14501634 0.14603758 0.12479575 0.13112745\n",
      " 0.11397059 0.1190768  0.12377451 0.13562092 0.12908497 0.13459967\n",
      " 0.12806373 0.13031046 0.12724673 0.13521242 0.14522059 0.15257353\n",
      " 0.14848856 0.14338235 0.14562908 0.15236928 0.15400327 0.14971405\n",
      " 0.1621732  0.16319444 0.16584967 0.18027423]\n",
      "1 day output [[0.18870038]]\n",
      "2 day input [0.14011438 0.13888889 0.13541667 0.14011438 0.1380719  0.13071895\n",
      " 0.13071895 0.12867647 0.11846405 0.14644608 0.14808007 0.15910948\n",
      " 0.15992647 0.15788399 0.16441993 0.17892157 0.17933007 0.19260621\n",
      " 0.20812908 0.18974673 0.18055556 0.18239379 0.17708333 0.17810458\n",
      " 0.18055556 0.17810458 0.17851307 0.19607843 0.18913399 0.18954248\n",
      " 0.19403595 0.19444444 0.20200163 0.19771242 0.19934641 0.19873366\n",
      " 0.1997549  0.2128268  0.21568627 0.20445261 0.21772876 0.21098856\n",
      " 0.21425654 0.19750817 0.18811275 0.17851307 0.17381536 0.16033497\n",
      " 0.16564542 0.17116013 0.17422386 0.18035131 0.17401961 0.16278595\n",
      " 0.16973039 0.17810458 0.17034314 0.16830065 0.17279412 0.17544935\n",
      " 0.18382353 0.19138072 0.18913399 0.19097222 0.17238562 0.16830065\n",
      " 0.1693219  0.17177288 0.16156046 0.14971405 0.1503268  0.15196078\n",
      " 0.14726307 0.14501634 0.14603758 0.12479575 0.13112745 0.11397059\n",
      " 0.1190768  0.12377451 0.13562092 0.12908497 0.13459967 0.12806373\n",
      " 0.13031046 0.12724673 0.13521242 0.14522059 0.15257353 0.14848856\n",
      " 0.14338235 0.14562908 0.15236928 0.15400327 0.14971405 0.1621732\n",
      " 0.16319444 0.16584967 0.18027423 0.18870038]\n",
      "2 day output [[0.1990403]]\n",
      "3 day input [0.13888889 0.13541667 0.14011438 0.1380719  0.13071895 0.13071895\n",
      " 0.12867647 0.11846405 0.14644608 0.14808007 0.15910948 0.15992647\n",
      " 0.15788399 0.16441993 0.17892157 0.17933007 0.19260621 0.20812908\n",
      " 0.18974673 0.18055556 0.18239379 0.17708333 0.17810458 0.18055556\n",
      " 0.17810458 0.17851307 0.19607843 0.18913399 0.18954248 0.19403595\n",
      " 0.19444444 0.20200163 0.19771242 0.19934641 0.19873366 0.1997549\n",
      " 0.2128268  0.21568627 0.20445261 0.21772876 0.21098856 0.21425654\n",
      " 0.19750817 0.18811275 0.17851307 0.17381536 0.16033497 0.16564542\n",
      " 0.17116013 0.17422386 0.18035131 0.17401961 0.16278595 0.16973039\n",
      " 0.17810458 0.17034314 0.16830065 0.17279412 0.17544935 0.18382353\n",
      " 0.19138072 0.18913399 0.19097222 0.17238562 0.16830065 0.1693219\n",
      " 0.17177288 0.16156046 0.14971405 0.1503268  0.15196078 0.14726307\n",
      " 0.14501634 0.14603758 0.12479575 0.13112745 0.11397059 0.1190768\n",
      " 0.12377451 0.13562092 0.12908497 0.13459967 0.12806373 0.13031046\n",
      " 0.12724673 0.13521242 0.14522059 0.15257353 0.14848856 0.14338235\n",
      " 0.14562908 0.15236928 0.15400327 0.14971405 0.1621732  0.16319444\n",
      " 0.16584967 0.18027423 0.18870038 0.19904029]\n",
      "3 day output [[0.20981762]]\n",
      "4 day input [0.13541667 0.14011438 0.1380719  0.13071895 0.13071895 0.12867647\n",
      " 0.11846405 0.14644608 0.14808007 0.15910948 0.15992647 0.15788399\n",
      " 0.16441993 0.17892157 0.17933007 0.19260621 0.20812908 0.18974673\n",
      " 0.18055556 0.18239379 0.17708333 0.17810458 0.18055556 0.17810458\n",
      " 0.17851307 0.19607843 0.18913399 0.18954248 0.19403595 0.19444444\n",
      " 0.20200163 0.19771242 0.19934641 0.19873366 0.1997549  0.2128268\n",
      " 0.21568627 0.20445261 0.21772876 0.21098856 0.21425654 0.19750817\n",
      " 0.18811275 0.17851307 0.17381536 0.16033497 0.16564542 0.17116013\n",
      " 0.17422386 0.18035131 0.17401961 0.16278595 0.16973039 0.17810458\n",
      " 0.17034314 0.16830065 0.17279412 0.17544935 0.18382353 0.19138072\n",
      " 0.18913399 0.19097222 0.17238562 0.16830065 0.1693219  0.17177288\n",
      " 0.16156046 0.14971405 0.1503268  0.15196078 0.14726307 0.14501634\n",
      " 0.14603758 0.12479575 0.13112745 0.11397059 0.1190768  0.12377451\n",
      " 0.13562092 0.12908497 0.13459967 0.12806373 0.13031046 0.12724673\n",
      " 0.13521242 0.14522059 0.15257353 0.14848856 0.14338235 0.14562908\n",
      " 0.15236928 0.15400327 0.14971405 0.1621732  0.16319444 0.16584967\n",
      " 0.18027423 0.18870038 0.19904029 0.20981762]\n",
      "4 day output [[0.22067726]]\n",
      "5 day input [0.14011438 0.1380719  0.13071895 0.13071895 0.12867647 0.11846405\n",
      " 0.14644608 0.14808007 0.15910948 0.15992647 0.15788399 0.16441993\n",
      " 0.17892157 0.17933007 0.19260621 0.20812908 0.18974673 0.18055556\n",
      " 0.18239379 0.17708333 0.17810458 0.18055556 0.17810458 0.17851307\n",
      " 0.19607843 0.18913399 0.18954248 0.19403595 0.19444444 0.20200163\n",
      " 0.19771242 0.19934641 0.19873366 0.1997549  0.2128268  0.21568627\n",
      " 0.20445261 0.21772876 0.21098856 0.21425654 0.19750817 0.18811275\n",
      " 0.17851307 0.17381536 0.16033497 0.16564542 0.17116013 0.17422386\n",
      " 0.18035131 0.17401961 0.16278595 0.16973039 0.17810458 0.17034314\n",
      " 0.16830065 0.17279412 0.17544935 0.18382353 0.19138072 0.18913399\n",
      " 0.19097222 0.17238562 0.16830065 0.1693219  0.17177288 0.16156046\n",
      " 0.14971405 0.1503268  0.15196078 0.14726307 0.14501634 0.14603758\n",
      " 0.12479575 0.13112745 0.11397059 0.1190768  0.12377451 0.13562092\n",
      " 0.12908497 0.13459967 0.12806373 0.13031046 0.12724673 0.13521242\n",
      " 0.14522059 0.15257353 0.14848856 0.14338235 0.14562908 0.15236928\n",
      " 0.15400327 0.14971405 0.1621732  0.16319444 0.16584967 0.18027423\n",
      " 0.18870038 0.19904029 0.20981762 0.22067726]\n",
      "5 day output [[0.2315482]]\n",
      "6 day input [0.1380719  0.13071895 0.13071895 0.12867647 0.11846405 0.14644608\n",
      " 0.14808007 0.15910948 0.15992647 0.15788399 0.16441993 0.17892157\n",
      " 0.17933007 0.19260621 0.20812908 0.18974673 0.18055556 0.18239379\n",
      " 0.17708333 0.17810458 0.18055556 0.17810458 0.17851307 0.19607843\n",
      " 0.18913399 0.18954248 0.19403595 0.19444444 0.20200163 0.19771242\n",
      " 0.19934641 0.19873366 0.1997549  0.2128268  0.21568627 0.20445261\n",
      " 0.21772876 0.21098856 0.21425654 0.19750817 0.18811275 0.17851307\n",
      " 0.17381536 0.16033497 0.16564542 0.17116013 0.17422386 0.18035131\n",
      " 0.17401961 0.16278595 0.16973039 0.17810458 0.17034314 0.16830065\n",
      " 0.17279412 0.17544935 0.18382353 0.19138072 0.18913399 0.19097222\n",
      " 0.17238562 0.16830065 0.1693219  0.17177288 0.16156046 0.14971405\n",
      " 0.1503268  0.15196078 0.14726307 0.14501634 0.14603758 0.12479575\n",
      " 0.13112745 0.11397059 0.1190768  0.12377451 0.13562092 0.12908497\n",
      " 0.13459967 0.12806373 0.13031046 0.12724673 0.13521242 0.14522059\n",
      " 0.15257353 0.14848856 0.14338235 0.14562908 0.15236928 0.15400327\n",
      " 0.14971405 0.1621732  0.16319444 0.16584967 0.18027423 0.18870038\n",
      " 0.19904029 0.20981762 0.22067726 0.23154821]\n",
      "6 day output [[0.24240093]]\n",
      "7 day input [0.13071895 0.13071895 0.12867647 0.11846405 0.14644608 0.14808007\n",
      " 0.15910948 0.15992647 0.15788399 0.16441993 0.17892157 0.17933007\n",
      " 0.19260621 0.20812908 0.18974673 0.18055556 0.18239379 0.17708333\n",
      " 0.17810458 0.18055556 0.17810458 0.17851307 0.19607843 0.18913399\n",
      " 0.18954248 0.19403595 0.19444444 0.20200163 0.19771242 0.19934641\n",
      " 0.19873366 0.1997549  0.2128268  0.21568627 0.20445261 0.21772876\n",
      " 0.21098856 0.21425654 0.19750817 0.18811275 0.17851307 0.17381536\n",
      " 0.16033497 0.16564542 0.17116013 0.17422386 0.18035131 0.17401961\n",
      " 0.16278595 0.16973039 0.17810458 0.17034314 0.16830065 0.17279412\n",
      " 0.17544935 0.18382353 0.19138072 0.18913399 0.19097222 0.17238562\n",
      " 0.16830065 0.1693219  0.17177288 0.16156046 0.14971405 0.1503268\n",
      " 0.15196078 0.14726307 0.14501634 0.14603758 0.12479575 0.13112745\n",
      " 0.11397059 0.1190768  0.12377451 0.13562092 0.12908497 0.13459967\n",
      " 0.12806373 0.13031046 0.12724673 0.13521242 0.14522059 0.15257353\n",
      " 0.14848856 0.14338235 0.14562908 0.15236928 0.15400327 0.14971405\n",
      " 0.1621732  0.16319444 0.16584967 0.18027423 0.18870038 0.19904029\n",
      " 0.20981762 0.22067726 0.23154821 0.24240093]\n",
      "7 day output [[0.25323012]]\n",
      "8 day input [0.13071895 0.12867647 0.11846405 0.14644608 0.14808007 0.15910948\n",
      " 0.15992647 0.15788399 0.16441993 0.17892157 0.17933007 0.19260621\n",
      " 0.20812908 0.18974673 0.18055556 0.18239379 0.17708333 0.17810458\n",
      " 0.18055556 0.17810458 0.17851307 0.19607843 0.18913399 0.18954248\n",
      " 0.19403595 0.19444444 0.20200163 0.19771242 0.19934641 0.19873366\n",
      " 0.1997549  0.2128268  0.21568627 0.20445261 0.21772876 0.21098856\n",
      " 0.21425654 0.19750817 0.18811275 0.17851307 0.17381536 0.16033497\n",
      " 0.16564542 0.17116013 0.17422386 0.18035131 0.17401961 0.16278595\n",
      " 0.16973039 0.17810458 0.17034314 0.16830065 0.17279412 0.17544935\n",
      " 0.18382353 0.19138072 0.18913399 0.19097222 0.17238562 0.16830065\n",
      " 0.1693219  0.17177288 0.16156046 0.14971405 0.1503268  0.15196078\n",
      " 0.14726307 0.14501634 0.14603758 0.12479575 0.13112745 0.11397059\n",
      " 0.1190768  0.12377451 0.13562092 0.12908497 0.13459967 0.12806373\n",
      " 0.13031046 0.12724673 0.13521242 0.14522059 0.15257353 0.14848856\n",
      " 0.14338235 0.14562908 0.15236928 0.15400327 0.14971405 0.1621732\n",
      " 0.16319444 0.16584967 0.18027423 0.18870038 0.19904029 0.20981762\n",
      " 0.22067726 0.23154821 0.24240093 0.25323012]\n",
      "8 day output [[0.2640598]]\n",
      "9 day input [0.12867647 0.11846405 0.14644608 0.14808007 0.15910948 0.15992647\n",
      " 0.15788399 0.16441993 0.17892157 0.17933007 0.19260621 0.20812908\n",
      " 0.18974673 0.18055556 0.18239379 0.17708333 0.17810458 0.18055556\n",
      " 0.17810458 0.17851307 0.19607843 0.18913399 0.18954248 0.19403595\n",
      " 0.19444444 0.20200163 0.19771242 0.19934641 0.19873366 0.1997549\n",
      " 0.2128268  0.21568627 0.20445261 0.21772876 0.21098856 0.21425654\n",
      " 0.19750817 0.18811275 0.17851307 0.17381536 0.16033497 0.16564542\n",
      " 0.17116013 0.17422386 0.18035131 0.17401961 0.16278595 0.16973039\n",
      " 0.17810458 0.17034314 0.16830065 0.17279412 0.17544935 0.18382353\n",
      " 0.19138072 0.18913399 0.19097222 0.17238562 0.16830065 0.1693219\n",
      " 0.17177288 0.16156046 0.14971405 0.1503268  0.15196078 0.14726307\n",
      " 0.14501634 0.14603758 0.12479575 0.13112745 0.11397059 0.1190768\n",
      " 0.12377451 0.13562092 0.12908497 0.13459967 0.12806373 0.13031046\n",
      " 0.12724673 0.13521242 0.14522059 0.15257353 0.14848856 0.14338235\n",
      " 0.14562908 0.15236928 0.15400327 0.14971405 0.1621732  0.16319444\n",
      " 0.16584967 0.18027423 0.18870038 0.19904029 0.20981762 0.22067726\n",
      " 0.23154821 0.24240093 0.25323012 0.26405981]\n",
      "9 day output [[0.27493677]]\n",
      "10 day input [0.11846405 0.14644608 0.14808007 0.15910948 0.15992647 0.15788399\n",
      " 0.16441993 0.17892157 0.17933007 0.19260621 0.20812908 0.18974673\n",
      " 0.18055556 0.18239379 0.17708333 0.17810458 0.18055556 0.17810458\n",
      " 0.17851307 0.19607843 0.18913399 0.18954248 0.19403595 0.19444444\n",
      " 0.20200163 0.19771242 0.19934641 0.19873366 0.1997549  0.2128268\n",
      " 0.21568627 0.20445261 0.21772876 0.21098856 0.21425654 0.19750817\n",
      " 0.18811275 0.17851307 0.17381536 0.16033497 0.16564542 0.17116013\n",
      " 0.17422386 0.18035131 0.17401961 0.16278595 0.16973039 0.17810458\n",
      " 0.17034314 0.16830065 0.17279412 0.17544935 0.18382353 0.19138072\n",
      " 0.18913399 0.19097222 0.17238562 0.16830065 0.1693219  0.17177288\n",
      " 0.16156046 0.14971405 0.1503268  0.15196078 0.14726307 0.14501634\n",
      " 0.14603758 0.12479575 0.13112745 0.11397059 0.1190768  0.12377451\n",
      " 0.13562092 0.12908497 0.13459967 0.12806373 0.13031046 0.12724673\n",
      " 0.13521242 0.14522059 0.15257353 0.14848856 0.14338235 0.14562908\n",
      " 0.15236928 0.15400327 0.14971405 0.1621732  0.16319444 0.16584967\n",
      " 0.18027423 0.18870038 0.19904029 0.20981762 0.22067726 0.23154821\n",
      " 0.24240093 0.25323012 0.26405981 0.27493677]\n",
      "10 day output [[0.28591856]]\n",
      "11 day input [0.14644608 0.14808007 0.15910948 0.15992647 0.15788399 0.16441993\n",
      " 0.17892157 0.17933007 0.19260621 0.20812908 0.18974673 0.18055556\n",
      " 0.18239379 0.17708333 0.17810458 0.18055556 0.17810458 0.17851307\n",
      " 0.19607843 0.18913399 0.18954248 0.19403595 0.19444444 0.20200163\n",
      " 0.19771242 0.19934641 0.19873366 0.1997549  0.2128268  0.21568627\n",
      " 0.20445261 0.21772876 0.21098856 0.21425654 0.19750817 0.18811275\n",
      " 0.17851307 0.17381536 0.16033497 0.16564542 0.17116013 0.17422386\n",
      " 0.18035131 0.17401961 0.16278595 0.16973039 0.17810458 0.17034314\n",
      " 0.16830065 0.17279412 0.17544935 0.18382353 0.19138072 0.18913399\n",
      " 0.19097222 0.17238562 0.16830065 0.1693219  0.17177288 0.16156046\n",
      " 0.14971405 0.1503268  0.15196078 0.14726307 0.14501634 0.14603758\n",
      " 0.12479575 0.13112745 0.11397059 0.1190768  0.12377451 0.13562092\n",
      " 0.12908497 0.13459967 0.12806373 0.13031046 0.12724673 0.13521242\n",
      " 0.14522059 0.15257353 0.14848856 0.14338235 0.14562908 0.15236928\n",
      " 0.15400327 0.14971405 0.1621732  0.16319444 0.16584967 0.18027423\n",
      " 0.18870038 0.19904029 0.20981762 0.22067726 0.23154821 0.24240093\n",
      " 0.25323012 0.26405981 0.27493677 0.28591856]\n",
      "11 day output [[0.29706335]]\n",
      "12 day input [0.14808007 0.15910948 0.15992647 0.15788399 0.16441993 0.17892157\n",
      " 0.17933007 0.19260621 0.20812908 0.18974673 0.18055556 0.18239379\n",
      " 0.17708333 0.17810458 0.18055556 0.17810458 0.17851307 0.19607843\n",
      " 0.18913399 0.18954248 0.19403595 0.19444444 0.20200163 0.19771242\n",
      " 0.19934641 0.19873366 0.1997549  0.2128268  0.21568627 0.20445261\n",
      " 0.21772876 0.21098856 0.21425654 0.19750817 0.18811275 0.17851307\n",
      " 0.17381536 0.16033497 0.16564542 0.17116013 0.17422386 0.18035131\n",
      " 0.17401961 0.16278595 0.16973039 0.17810458 0.17034314 0.16830065\n",
      " 0.17279412 0.17544935 0.18382353 0.19138072 0.18913399 0.19097222\n",
      " 0.17238562 0.16830065 0.1693219  0.17177288 0.16156046 0.14971405\n",
      " 0.1503268  0.15196078 0.14726307 0.14501634 0.14603758 0.12479575\n",
      " 0.13112745 0.11397059 0.1190768  0.12377451 0.13562092 0.12908497\n",
      " 0.13459967 0.12806373 0.13031046 0.12724673 0.13521242 0.14522059\n",
      " 0.15257353 0.14848856 0.14338235 0.14562908 0.15236928 0.15400327\n",
      " 0.14971405 0.1621732  0.16319444 0.16584967 0.18027423 0.18870038\n",
      " 0.19904029 0.20981762 0.22067726 0.23154821 0.24240093 0.25323012\n",
      " 0.26405981 0.27493677 0.28591856 0.29706335]\n",
      "12 day output [[0.30842218]]\n",
      "13 day input [0.15910948 0.15992647 0.15788399 0.16441993 0.17892157 0.17933007\n",
      " 0.19260621 0.20812908 0.18974673 0.18055556 0.18239379 0.17708333\n",
      " 0.17810458 0.18055556 0.17810458 0.17851307 0.19607843 0.18913399\n",
      " 0.18954248 0.19403595 0.19444444 0.20200163 0.19771242 0.19934641\n",
      " 0.19873366 0.1997549  0.2128268  0.21568627 0.20445261 0.21772876\n",
      " 0.21098856 0.21425654 0.19750817 0.18811275 0.17851307 0.17381536\n",
      " 0.16033497 0.16564542 0.17116013 0.17422386 0.18035131 0.17401961\n",
      " 0.16278595 0.16973039 0.17810458 0.17034314 0.16830065 0.17279412\n",
      " 0.17544935 0.18382353 0.19138072 0.18913399 0.19097222 0.17238562\n",
      " 0.16830065 0.1693219  0.17177288 0.16156046 0.14971405 0.1503268\n",
      " 0.15196078 0.14726307 0.14501634 0.14603758 0.12479575 0.13112745\n",
      " 0.11397059 0.1190768  0.12377451 0.13562092 0.12908497 0.13459967\n",
      " 0.12806373 0.13031046 0.12724673 0.13521242 0.14522059 0.15257353\n",
      " 0.14848856 0.14338235 0.14562908 0.15236928 0.15400327 0.14971405\n",
      " 0.1621732  0.16319444 0.16584967 0.18027423 0.18870038 0.19904029\n",
      " 0.20981762 0.22067726 0.23154821 0.24240093 0.25323012 0.26405981\n",
      " 0.27493677 0.28591856 0.29706335 0.30842218]\n",
      "13 day output [[0.32003543]]\n",
      "14 day input [0.15992647 0.15788399 0.16441993 0.17892157 0.17933007 0.19260621\n",
      " 0.20812908 0.18974673 0.18055556 0.18239379 0.17708333 0.17810458\n",
      " 0.18055556 0.17810458 0.17851307 0.19607843 0.18913399 0.18954248\n",
      " 0.19403595 0.19444444 0.20200163 0.19771242 0.19934641 0.19873366\n",
      " 0.1997549  0.2128268  0.21568627 0.20445261 0.21772876 0.21098856\n",
      " 0.21425654 0.19750817 0.18811275 0.17851307 0.17381536 0.16033497\n",
      " 0.16564542 0.17116013 0.17422386 0.18035131 0.17401961 0.16278595\n",
      " 0.16973039 0.17810458 0.17034314 0.16830065 0.17279412 0.17544935\n",
      " 0.18382353 0.19138072 0.18913399 0.19097222 0.17238562 0.16830065\n",
      " 0.1693219  0.17177288 0.16156046 0.14971405 0.1503268  0.15196078\n",
      " 0.14726307 0.14501634 0.14603758 0.12479575 0.13112745 0.11397059\n",
      " 0.1190768  0.12377451 0.13562092 0.12908497 0.13459967 0.12806373\n",
      " 0.13031046 0.12724673 0.13521242 0.14522059 0.15257353 0.14848856\n",
      " 0.14338235 0.14562908 0.15236928 0.15400327 0.14971405 0.1621732\n",
      " 0.16319444 0.16584967 0.18027423 0.18870038 0.19904029 0.20981762\n",
      " 0.22067726 0.23154821 0.24240093 0.25323012 0.26405981 0.27493677\n",
      " 0.28591856 0.29706335 0.30842218 0.32003543]\n",
      "14 day output [[0.33193162]]\n",
      "15 day input [0.15788399 0.16441993 0.17892157 0.17933007 0.19260621 0.20812908\n",
      " 0.18974673 0.18055556 0.18239379 0.17708333 0.17810458 0.18055556\n",
      " 0.17810458 0.17851307 0.19607843 0.18913399 0.18954248 0.19403595\n",
      " 0.19444444 0.20200163 0.19771242 0.19934641 0.19873366 0.1997549\n",
      " 0.2128268  0.21568627 0.20445261 0.21772876 0.21098856 0.21425654\n",
      " 0.19750817 0.18811275 0.17851307 0.17381536 0.16033497 0.16564542\n",
      " 0.17116013 0.17422386 0.18035131 0.17401961 0.16278595 0.16973039\n",
      " 0.17810458 0.17034314 0.16830065 0.17279412 0.17544935 0.18382353\n",
      " 0.19138072 0.18913399 0.19097222 0.17238562 0.16830065 0.1693219\n",
      " 0.17177288 0.16156046 0.14971405 0.1503268  0.15196078 0.14726307\n",
      " 0.14501634 0.14603758 0.12479575 0.13112745 0.11397059 0.1190768\n",
      " 0.12377451 0.13562092 0.12908497 0.13459967 0.12806373 0.13031046\n",
      " 0.12724673 0.13521242 0.14522059 0.15257353 0.14848856 0.14338235\n",
      " 0.14562908 0.15236928 0.15400327 0.14971405 0.1621732  0.16319444\n",
      " 0.16584967 0.18027423 0.18870038 0.19904029 0.20981762 0.22067726\n",
      " 0.23154821 0.24240093 0.25323012 0.26405981 0.27493677 0.28591856\n",
      " 0.29706335 0.30842218 0.32003543 0.33193162]\n",
      "15 day output [[0.34412888]]\n",
      "16 day input [0.16441993 0.17892157 0.17933007 0.19260621 0.20812908 0.18974673\n",
      " 0.18055556 0.18239379 0.17708333 0.17810458 0.18055556 0.17810458\n",
      " 0.17851307 0.19607843 0.18913399 0.18954248 0.19403595 0.19444444\n",
      " 0.20200163 0.19771242 0.19934641 0.19873366 0.1997549  0.2128268\n",
      " 0.21568627 0.20445261 0.21772876 0.21098856 0.21425654 0.19750817\n",
      " 0.18811275 0.17851307 0.17381536 0.16033497 0.16564542 0.17116013\n",
      " 0.17422386 0.18035131 0.17401961 0.16278595 0.16973039 0.17810458\n",
      " 0.17034314 0.16830065 0.17279412 0.17544935 0.18382353 0.19138072\n",
      " 0.18913399 0.19097222 0.17238562 0.16830065 0.1693219  0.17177288\n",
      " 0.16156046 0.14971405 0.1503268  0.15196078 0.14726307 0.14501634\n",
      " 0.14603758 0.12479575 0.13112745 0.11397059 0.1190768  0.12377451\n",
      " 0.13562092 0.12908497 0.13459967 0.12806373 0.13031046 0.12724673\n",
      " 0.13521242 0.14522059 0.15257353 0.14848856 0.14338235 0.14562908\n",
      " 0.15236928 0.15400327 0.14971405 0.1621732  0.16319444 0.16584967\n",
      " 0.18027423 0.18870038 0.19904029 0.20981762 0.22067726 0.23154821\n",
      " 0.24240093 0.25323012 0.26405981 0.27493677 0.28591856 0.29706335\n",
      " 0.30842218 0.32003543 0.33193162 0.34412888]\n",
      "16 day output [[0.35663745]]\n",
      "17 day input [0.17892157 0.17933007 0.19260621 0.20812908 0.18974673 0.18055556\n",
      " 0.18239379 0.17708333 0.17810458 0.18055556 0.17810458 0.17851307\n",
      " 0.19607843 0.18913399 0.18954248 0.19403595 0.19444444 0.20200163\n",
      " 0.19771242 0.19934641 0.19873366 0.1997549  0.2128268  0.21568627\n",
      " 0.20445261 0.21772876 0.21098856 0.21425654 0.19750817 0.18811275\n",
      " 0.17851307 0.17381536 0.16033497 0.16564542 0.17116013 0.17422386\n",
      " 0.18035131 0.17401961 0.16278595 0.16973039 0.17810458 0.17034314\n",
      " 0.16830065 0.17279412 0.17544935 0.18382353 0.19138072 0.18913399\n",
      " 0.19097222 0.17238562 0.16830065 0.1693219  0.17177288 0.16156046\n",
      " 0.14971405 0.1503268  0.15196078 0.14726307 0.14501634 0.14603758\n",
      " 0.12479575 0.13112745 0.11397059 0.1190768  0.12377451 0.13562092\n",
      " 0.12908497 0.13459967 0.12806373 0.13031046 0.12724673 0.13521242\n",
      " 0.14522059 0.15257353 0.14848856 0.14338235 0.14562908 0.15236928\n",
      " 0.15400327 0.14971405 0.1621732  0.16319444 0.16584967 0.18027423\n",
      " 0.18870038 0.19904029 0.20981762 0.22067726 0.23154821 0.24240093\n",
      " 0.25323012 0.26405981 0.27493677 0.28591856 0.29706335 0.30842218\n",
      " 0.32003543 0.33193162 0.34412888 0.35663745]\n",
      "17 day output [[0.36946392]]\n",
      "18 day input [0.17933007 0.19260621 0.20812908 0.18974673 0.18055556 0.18239379\n",
      " 0.17708333 0.17810458 0.18055556 0.17810458 0.17851307 0.19607843\n",
      " 0.18913399 0.18954248 0.19403595 0.19444444 0.20200163 0.19771242\n",
      " 0.19934641 0.19873366 0.1997549  0.2128268  0.21568627 0.20445261\n",
      " 0.21772876 0.21098856 0.21425654 0.19750817 0.18811275 0.17851307\n",
      " 0.17381536 0.16033497 0.16564542 0.17116013 0.17422386 0.18035131\n",
      " 0.17401961 0.16278595 0.16973039 0.17810458 0.17034314 0.16830065\n",
      " 0.17279412 0.17544935 0.18382353 0.19138072 0.18913399 0.19097222\n",
      " 0.17238562 0.16830065 0.1693219  0.17177288 0.16156046 0.14971405\n",
      " 0.1503268  0.15196078 0.14726307 0.14501634 0.14603758 0.12479575\n",
      " 0.13112745 0.11397059 0.1190768  0.12377451 0.13562092 0.12908497\n",
      " 0.13459967 0.12806373 0.13031046 0.12724673 0.13521242 0.14522059\n",
      " 0.15257353 0.14848856 0.14338235 0.14562908 0.15236928 0.15400327\n",
      " 0.14971405 0.1621732  0.16319444 0.16584967 0.18027423 0.18870038\n",
      " 0.19904029 0.20981762 0.22067726 0.23154821 0.24240093 0.25323012\n",
      " 0.26405981 0.27493677 0.28591856 0.29706335 0.30842218 0.32003543\n",
      " 0.33193162 0.34412888 0.35663745 0.36946392]\n",
      "18 day output [[0.3826131]]\n",
      "19 day input [0.19260621 0.20812908 0.18974673 0.18055556 0.18239379 0.17708333\n",
      " 0.17810458 0.18055556 0.17810458 0.17851307 0.19607843 0.18913399\n",
      " 0.18954248 0.19403595 0.19444444 0.20200163 0.19771242 0.19934641\n",
      " 0.19873366 0.1997549  0.2128268  0.21568627 0.20445261 0.21772876\n",
      " 0.21098856 0.21425654 0.19750817 0.18811275 0.17851307 0.17381536\n",
      " 0.16033497 0.16564542 0.17116013 0.17422386 0.18035131 0.17401961\n",
      " 0.16278595 0.16973039 0.17810458 0.17034314 0.16830065 0.17279412\n",
      " 0.17544935 0.18382353 0.19138072 0.18913399 0.19097222 0.17238562\n",
      " 0.16830065 0.1693219  0.17177288 0.16156046 0.14971405 0.1503268\n",
      " 0.15196078 0.14726307 0.14501634 0.14603758 0.12479575 0.13112745\n",
      " 0.11397059 0.1190768  0.12377451 0.13562092 0.12908497 0.13459967\n",
      " 0.12806373 0.13031046 0.12724673 0.13521242 0.14522059 0.15257353\n",
      " 0.14848856 0.14338235 0.14562908 0.15236928 0.15400327 0.14971405\n",
      " 0.1621732  0.16319444 0.16584967 0.18027423 0.18870038 0.19904029\n",
      " 0.20981762 0.22067726 0.23154821 0.24240093 0.25323012 0.26405981\n",
      " 0.27493677 0.28591856 0.29706335 0.30842218 0.32003543 0.33193162\n",
      " 0.34412888 0.35663745 0.36946392 0.38261309]\n",
      "19 day output [[0.39609224]]\n",
      "20 day input [0.20812908 0.18974673 0.18055556 0.18239379 0.17708333 0.17810458\n",
      " 0.18055556 0.17810458 0.17851307 0.19607843 0.18913399 0.18954248\n",
      " 0.19403595 0.19444444 0.20200163 0.19771242 0.19934641 0.19873366\n",
      " 0.1997549  0.2128268  0.21568627 0.20445261 0.21772876 0.21098856\n",
      " 0.21425654 0.19750817 0.18811275 0.17851307 0.17381536 0.16033497\n",
      " 0.16564542 0.17116013 0.17422386 0.18035131 0.17401961 0.16278595\n",
      " 0.16973039 0.17810458 0.17034314 0.16830065 0.17279412 0.17544935\n",
      " 0.18382353 0.19138072 0.18913399 0.19097222 0.17238562 0.16830065\n",
      " 0.1693219  0.17177288 0.16156046 0.14971405 0.1503268  0.15196078\n",
      " 0.14726307 0.14501634 0.14603758 0.12479575 0.13112745 0.11397059\n",
      " 0.1190768  0.12377451 0.13562092 0.12908497 0.13459967 0.12806373\n",
      " 0.13031046 0.12724673 0.13521242 0.14522059 0.15257353 0.14848856\n",
      " 0.14338235 0.14562908 0.15236928 0.15400327 0.14971405 0.1621732\n",
      " 0.16319444 0.16584967 0.18027423 0.18870038 0.19904029 0.20981762\n",
      " 0.22067726 0.23154821 0.24240093 0.25323012 0.26405981 0.27493677\n",
      " 0.28591856 0.29706335 0.30842218 0.32003543 0.33193162 0.34412888\n",
      " 0.35663745 0.36946392 0.38261309 0.39609224]\n",
      "20 day output [[0.40991145]]\n",
      "21 day input [0.18974673 0.18055556 0.18239379 0.17708333 0.17810458 0.18055556\n",
      " 0.17810458 0.17851307 0.19607843 0.18913399 0.18954248 0.19403595\n",
      " 0.19444444 0.20200163 0.19771242 0.19934641 0.19873366 0.1997549\n",
      " 0.2128268  0.21568627 0.20445261 0.21772876 0.21098856 0.21425654\n",
      " 0.19750817 0.18811275 0.17851307 0.17381536 0.16033497 0.16564542\n",
      " 0.17116013 0.17422386 0.18035131 0.17401961 0.16278595 0.16973039\n",
      " 0.17810458 0.17034314 0.16830065 0.17279412 0.17544935 0.18382353\n",
      " 0.19138072 0.18913399 0.19097222 0.17238562 0.16830065 0.1693219\n",
      " 0.17177288 0.16156046 0.14971405 0.1503268  0.15196078 0.14726307\n",
      " 0.14501634 0.14603758 0.12479575 0.13112745 0.11397059 0.1190768\n",
      " 0.12377451 0.13562092 0.12908497 0.13459967 0.12806373 0.13031046\n",
      " 0.12724673 0.13521242 0.14522059 0.15257353 0.14848856 0.14338235\n",
      " 0.14562908 0.15236928 0.15400327 0.14971405 0.1621732  0.16319444\n",
      " 0.16584967 0.18027423 0.18870038 0.19904029 0.20981762 0.22067726\n",
      " 0.23154821 0.24240093 0.25323012 0.26405981 0.27493677 0.28591856\n",
      " 0.29706335 0.30842218 0.32003543 0.33193162 0.34412888 0.35663745\n",
      " 0.36946392 0.38261309 0.39609224 0.40991145]\n",
      "21 day output [[0.42408538]]\n",
      "22 day input [0.18055556 0.18239379 0.17708333 0.17810458 0.18055556 0.17810458\n",
      " 0.17851307 0.19607843 0.18913399 0.18954248 0.19403595 0.19444444\n",
      " 0.20200163 0.19771242 0.19934641 0.19873366 0.1997549  0.2128268\n",
      " 0.21568627 0.20445261 0.21772876 0.21098856 0.21425654 0.19750817\n",
      " 0.18811275 0.17851307 0.17381536 0.16033497 0.16564542 0.17116013\n",
      " 0.17422386 0.18035131 0.17401961 0.16278595 0.16973039 0.17810458\n",
      " 0.17034314 0.16830065 0.17279412 0.17544935 0.18382353 0.19138072\n",
      " 0.18913399 0.19097222 0.17238562 0.16830065 0.1693219  0.17177288\n",
      " 0.16156046 0.14971405 0.1503268  0.15196078 0.14726307 0.14501634\n",
      " 0.14603758 0.12479575 0.13112745 0.11397059 0.1190768  0.12377451\n",
      " 0.13562092 0.12908497 0.13459967 0.12806373 0.13031046 0.12724673\n",
      " 0.13521242 0.14522059 0.15257353 0.14848856 0.14338235 0.14562908\n",
      " 0.15236928 0.15400327 0.14971405 0.1621732  0.16319444 0.16584967\n",
      " 0.18027423 0.18870038 0.19904029 0.20981762 0.22067726 0.23154821\n",
      " 0.24240093 0.25323012 0.26405981 0.27493677 0.28591856 0.29706335\n",
      " 0.30842218 0.32003543 0.33193162 0.34412888 0.35663745 0.36946392\n",
      " 0.38261309 0.39609224 0.40991145 0.42408538]\n",
      "22 day output [[0.43863308]]\n",
      "23 day input [0.18239379 0.17708333 0.17810458 0.18055556 0.17810458 0.17851307\n",
      " 0.19607843 0.18913399 0.18954248 0.19403595 0.19444444 0.20200163\n",
      " 0.19771242 0.19934641 0.19873366 0.1997549  0.2128268  0.21568627\n",
      " 0.20445261 0.21772876 0.21098856 0.21425654 0.19750817 0.18811275\n",
      " 0.17851307 0.17381536 0.16033497 0.16564542 0.17116013 0.17422386\n",
      " 0.18035131 0.17401961 0.16278595 0.16973039 0.17810458 0.17034314\n",
      " 0.16830065 0.17279412 0.17544935 0.18382353 0.19138072 0.18913399\n",
      " 0.19097222 0.17238562 0.16830065 0.1693219  0.17177288 0.16156046\n",
      " 0.14971405 0.1503268  0.15196078 0.14726307 0.14501634 0.14603758\n",
      " 0.12479575 0.13112745 0.11397059 0.1190768  0.12377451 0.13562092\n",
      " 0.12908497 0.13459967 0.12806373 0.13031046 0.12724673 0.13521242\n",
      " 0.14522059 0.15257353 0.14848856 0.14338235 0.14562908 0.15236928\n",
      " 0.15400327 0.14971405 0.1621732  0.16319444 0.16584967 0.18027423\n",
      " 0.18870038 0.19904029 0.20981762 0.22067726 0.23154821 0.24240093\n",
      " 0.25323012 0.26405981 0.27493677 0.28591856 0.29706335 0.30842218\n",
      " 0.32003543 0.33193162 0.34412888 0.35663745 0.36946392 0.38261309\n",
      " 0.39609224 0.40991145 0.42408538 0.43863308]\n",
      "23 day output [[0.45357773]]\n",
      "24 day input [0.17708333 0.17810458 0.18055556 0.17810458 0.17851307 0.19607843\n",
      " 0.18913399 0.18954248 0.19403595 0.19444444 0.20200163 0.19771242\n",
      " 0.19934641 0.19873366 0.1997549  0.2128268  0.21568627 0.20445261\n",
      " 0.21772876 0.21098856 0.21425654 0.19750817 0.18811275 0.17851307\n",
      " 0.17381536 0.16033497 0.16564542 0.17116013 0.17422386 0.18035131\n",
      " 0.17401961 0.16278595 0.16973039 0.17810458 0.17034314 0.16830065\n",
      " 0.17279412 0.17544935 0.18382353 0.19138072 0.18913399 0.19097222\n",
      " 0.17238562 0.16830065 0.1693219  0.17177288 0.16156046 0.14971405\n",
      " 0.1503268  0.15196078 0.14726307 0.14501634 0.14603758 0.12479575\n",
      " 0.13112745 0.11397059 0.1190768  0.12377451 0.13562092 0.12908497\n",
      " 0.13459967 0.12806373 0.13031046 0.12724673 0.13521242 0.14522059\n",
      " 0.15257353 0.14848856 0.14338235 0.14562908 0.15236928 0.15400327\n",
      " 0.14971405 0.1621732  0.16319444 0.16584967 0.18027423 0.18870038\n",
      " 0.19904029 0.20981762 0.22067726 0.23154821 0.24240093 0.25323012\n",
      " 0.26405981 0.27493677 0.28591856 0.29706335 0.30842218 0.32003543\n",
      " 0.33193162 0.34412888 0.35663745 0.36946392 0.38261309 0.39609224\n",
      " 0.40991145 0.42408538 0.43863308 0.45357773]\n",
      "24 day output [[0.4689454]]\n",
      "25 day input [0.17810458 0.18055556 0.17810458 0.17851307 0.19607843 0.18913399\n",
      " 0.18954248 0.19403595 0.19444444 0.20200163 0.19771242 0.19934641\n",
      " 0.19873366 0.1997549  0.2128268  0.21568627 0.20445261 0.21772876\n",
      " 0.21098856 0.21425654 0.19750817 0.18811275 0.17851307 0.17381536\n",
      " 0.16033497 0.16564542 0.17116013 0.17422386 0.18035131 0.17401961\n",
      " 0.16278595 0.16973039 0.17810458 0.17034314 0.16830065 0.17279412\n",
      " 0.17544935 0.18382353 0.19138072 0.18913399 0.19097222 0.17238562\n",
      " 0.16830065 0.1693219  0.17177288 0.16156046 0.14971405 0.1503268\n",
      " 0.15196078 0.14726307 0.14501634 0.14603758 0.12479575 0.13112745\n",
      " 0.11397059 0.1190768  0.12377451 0.13562092 0.12908497 0.13459967\n",
      " 0.12806373 0.13031046 0.12724673 0.13521242 0.14522059 0.15257353\n",
      " 0.14848856 0.14338235 0.14562908 0.15236928 0.15400327 0.14971405\n",
      " 0.1621732  0.16319444 0.16584967 0.18027423 0.18870038 0.19904029\n",
      " 0.20981762 0.22067726 0.23154821 0.24240093 0.25323012 0.26405981\n",
      " 0.27493677 0.28591856 0.29706335 0.30842218 0.32003543 0.33193162\n",
      " 0.34412888 0.35663745 0.36946392 0.38261309 0.39609224 0.40991145\n",
      " 0.42408538 0.43863308 0.45357773 0.46894541]\n",
      "25 day output [[0.48476377]]\n",
      "26 day input [0.18055556 0.17810458 0.17851307 0.19607843 0.18913399 0.18954248\n",
      " 0.19403595 0.19444444 0.20200163 0.19771242 0.19934641 0.19873366\n",
      " 0.1997549  0.2128268  0.21568627 0.20445261 0.21772876 0.21098856\n",
      " 0.21425654 0.19750817 0.18811275 0.17851307 0.17381536 0.16033497\n",
      " 0.16564542 0.17116013 0.17422386 0.18035131 0.17401961 0.16278595\n",
      " 0.16973039 0.17810458 0.17034314 0.16830065 0.17279412 0.17544935\n",
      " 0.18382353 0.19138072 0.18913399 0.19097222 0.17238562 0.16830065\n",
      " 0.1693219  0.17177288 0.16156046 0.14971405 0.1503268  0.15196078\n",
      " 0.14726307 0.14501634 0.14603758 0.12479575 0.13112745 0.11397059\n",
      " 0.1190768  0.12377451 0.13562092 0.12908497 0.13459967 0.12806373\n",
      " 0.13031046 0.12724673 0.13521242 0.14522059 0.15257353 0.14848856\n",
      " 0.14338235 0.14562908 0.15236928 0.15400327 0.14971405 0.1621732\n",
      " 0.16319444 0.16584967 0.18027423 0.18870038 0.19904029 0.20981762\n",
      " 0.22067726 0.23154821 0.24240093 0.25323012 0.26405981 0.27493677\n",
      " 0.28591856 0.29706335 0.30842218 0.32003543 0.33193162 0.34412888\n",
      " 0.35663745 0.36946392 0.38261309 0.39609224 0.40991145 0.42408538\n",
      " 0.43863308 0.45357773 0.46894541 0.48476377]\n",
      "26 day output [[0.50106263]]\n",
      "27 day input [0.17810458 0.17851307 0.19607843 0.18913399 0.18954248 0.19403595\n",
      " 0.19444444 0.20200163 0.19771242 0.19934641 0.19873366 0.1997549\n",
      " 0.2128268  0.21568627 0.20445261 0.21772876 0.21098856 0.21425654\n",
      " 0.19750817 0.18811275 0.17851307 0.17381536 0.16033497 0.16564542\n",
      " 0.17116013 0.17422386 0.18035131 0.17401961 0.16278595 0.16973039\n",
      " 0.17810458 0.17034314 0.16830065 0.17279412 0.17544935 0.18382353\n",
      " 0.19138072 0.18913399 0.19097222 0.17238562 0.16830065 0.1693219\n",
      " 0.17177288 0.16156046 0.14971405 0.1503268  0.15196078 0.14726307\n",
      " 0.14501634 0.14603758 0.12479575 0.13112745 0.11397059 0.1190768\n",
      " 0.12377451 0.13562092 0.12908497 0.13459967 0.12806373 0.13031046\n",
      " 0.12724673 0.13521242 0.14522059 0.15257353 0.14848856 0.14338235\n",
      " 0.14562908 0.15236928 0.15400327 0.14971405 0.1621732  0.16319444\n",
      " 0.16584967 0.18027423 0.18870038 0.19904029 0.20981762 0.22067726\n",
      " 0.23154821 0.24240093 0.25323012 0.26405981 0.27493677 0.28591856\n",
      " 0.29706335 0.30842218 0.32003543 0.33193162 0.34412888 0.35663745\n",
      " 0.36946392 0.38261309 0.39609224 0.40991145 0.42408538 0.43863308\n",
      " 0.45357773 0.46894541 0.48476377 0.50106263]\n",
      "27 day output [[0.5178713]]\n",
      "28 day input [0.17851307 0.19607843 0.18913399 0.18954248 0.19403595 0.19444444\n",
      " 0.20200163 0.19771242 0.19934641 0.19873366 0.1997549  0.2128268\n",
      " 0.21568627 0.20445261 0.21772876 0.21098856 0.21425654 0.19750817\n",
      " 0.18811275 0.17851307 0.17381536 0.16033497 0.16564542 0.17116013\n",
      " 0.17422386 0.18035131 0.17401961 0.16278595 0.16973039 0.17810458\n",
      " 0.17034314 0.16830065 0.17279412 0.17544935 0.18382353 0.19138072\n",
      " 0.18913399 0.19097222 0.17238562 0.16830065 0.1693219  0.17177288\n",
      " 0.16156046 0.14971405 0.1503268  0.15196078 0.14726307 0.14501634\n",
      " 0.14603758 0.12479575 0.13112745 0.11397059 0.1190768  0.12377451\n",
      " 0.13562092 0.12908497 0.13459967 0.12806373 0.13031046 0.12724673\n",
      " 0.13521242 0.14522059 0.15257353 0.14848856 0.14338235 0.14562908\n",
      " 0.15236928 0.15400327 0.14971405 0.1621732  0.16319444 0.16584967\n",
      " 0.18027423 0.18870038 0.19904029 0.20981762 0.22067726 0.23154821\n",
      " 0.24240093 0.25323012 0.26405981 0.27493677 0.28591856 0.29706335\n",
      " 0.30842218 0.32003543 0.33193162 0.34412888 0.35663745 0.36946392\n",
      " 0.38261309 0.39609224 0.40991145 0.42408538 0.43863308 0.45357773\n",
      " 0.46894541 0.48476377 0.50106263 0.51787132]\n",
      "28 day output [[0.5352198]]\n",
      "29 day input [0.19607843 0.18913399 0.18954248 0.19403595 0.19444444 0.20200163\n",
      " 0.19771242 0.19934641 0.19873366 0.1997549  0.2128268  0.21568627\n",
      " 0.20445261 0.21772876 0.21098856 0.21425654 0.19750817 0.18811275\n",
      " 0.17851307 0.17381536 0.16033497 0.16564542 0.17116013 0.17422386\n",
      " 0.18035131 0.17401961 0.16278595 0.16973039 0.17810458 0.17034314\n",
      " 0.16830065 0.17279412 0.17544935 0.18382353 0.19138072 0.18913399\n",
      " 0.19097222 0.17238562 0.16830065 0.1693219  0.17177288 0.16156046\n",
      " 0.14971405 0.1503268  0.15196078 0.14726307 0.14501634 0.14603758\n",
      " 0.12479575 0.13112745 0.11397059 0.1190768  0.12377451 0.13562092\n",
      " 0.12908497 0.13459967 0.12806373 0.13031046 0.12724673 0.13521242\n",
      " 0.14522059 0.15257353 0.14848856 0.14338235 0.14562908 0.15236928\n",
      " 0.15400327 0.14971405 0.1621732  0.16319444 0.16584967 0.18027423\n",
      " 0.18870038 0.19904029 0.20981762 0.22067726 0.23154821 0.24240093\n",
      " 0.25323012 0.26405981 0.27493677 0.28591856 0.29706335 0.30842218\n",
      " 0.32003543 0.33193162 0.34412888 0.35663745 0.36946392 0.38261309\n",
      " 0.39609224 0.40991145 0.42408538 0.43863308 0.45357773 0.46894541\n",
      " 0.48476377 0.50106263 0.51787132 0.53521979]\n",
      "29 day output [[0.55313766]]\n",
      "[[0.18027423322200775], [0.1887003779411316], [0.19904029369354248], [0.20981761813163757], [0.22067725658416748], [0.23154820501804352], [0.24240092933177948], [0.25323012471199036], [0.26405981183052063], [0.2749367654323578], [0.28591856360435486], [0.29706335067749023], [0.30842217803001404], [0.3200354278087616], [0.33193162083625793], [0.34412887692451477], [0.35663744807243347], [0.3694639205932617], [0.38261309266090393], [0.3960922360420227], [0.40991145372390747], [0.4240853786468506], [0.4386330842971802], [0.4535777270793915], [0.4689454138278961], [0.4847637712955475], [0.5010626316070557], [0.5178713202476501], [0.5352197885513306], [0.5531376600265503]]\n"
     ]
    }
   ],
   "source": [
    "from numpy import array\n",
    "\n",
    "list_output=[]\n",
    "n_steps=100\n",
    "i=0\n",
    "while(i<30):\n",
    "    \n",
    "    if(len(temp_input)>100):\n",
    "        x_input=np.array(temp_input[1:])\n",
    "        print(\"{} day input {}\".format(i,x_input))\n",
    "        x_input = x_input.reshape(1,-1)\n",
    "        x_input = x_input.reshape((1, n_steps, 1))\n",
    "        yhat = model.predict(x_input, verbose=0)\n",
    "        print(\"{} day output {}\".format(i,yhat))\n",
    "        temp_input.extend(yhat[0].tolist())\n",
    "        temp_input=temp_input[1:]\n",
    "        list_output.extend(yhat.tolist())\n",
    "        i=i+1\n",
    "    else:\n",
    "        x_input = x_input.reshape((1, n_steps,1))\n",
    "        yhat = model.predict(x_input, verbose=0)\n",
    "        print(yhat[0])\n",
    "        temp_input.extend(yhat[0].tolist())\n",
    "        print(len(temp_input))\n",
    "        list_output.extend(yhat.tolist())\n",
    "        i=i+1\n",
    "    \n",
    "print(list_output)"
   ]
  },
  {
   "cell_type": "code",
   "execution_count": 42,
   "id": "55a5cc48-6afd-4e95-a352-7c59606a22b4",
   "metadata": {},
   "outputs": [],
   "source": [
    "day_new = np.arange(1,101)\n",
    "day_pred = np.arange(101,131)"
   ]
  },
  {
   "cell_type": "code",
   "execution_count": 43,
   "id": "726e58dc-2b1a-4944-887e-cb281dc9a8f2",
   "metadata": {},
   "outputs": [
    {
     "data": {
      "text/plain": [
       "2035"
      ]
     },
     "execution_count": 43,
     "metadata": {},
     "output_type": "execute_result"
    }
   ],
   "source": [
    "len(df1)"
   ]
  },
  {
   "cell_type": "code",
   "execution_count": 44,
   "id": "d00af992-75d2-4b14-8fa3-90673446912e",
   "metadata": {},
   "outputs": [
    {
     "data": {
      "text/plain": [
       "[<matplotlib.lines.Line2D at 0x1358ce2c700>]"
      ]
     },
     "execution_count": 44,
     "metadata": {},
     "output_type": "execute_result"
    },
    {
     "data": {
      "image/png": "[encoded data removed]",
      "text/plain": [
       "<Figure size 1440x576 with 1 Axes>"
      ]
     },
     "metadata": {
      "needs_background": "light"
     },
     "output_type": "display_data"
    }
   ],
   "source": [
    "plt.subplots(figsize=(20,8))\n",
    "plt.plot(day_new,scaler.inverse_transform(df1[1935:]))\n",
    "plt.plot(day_pred,scaler.inverse_transform(list_output))"
   ]
  },
  {
   "cell_type": "markdown",
   "id": "e408928f-ce7c-4b73-8cda-ef4950fe7602",
   "metadata": {},
   "source": [
    "# THANK YOU"
   ]
  },
  {
   "cell_type": "code",
   "execution_count": null,
   "id": "9413e069-207a-4459-a5c6-ab4cb64c563c",
   "metadata": {},
   "outputs": [],
   "source": []
  }
 ],
 "metadata": {
  "kernelspec": {
   "display_name": "Python 3 (ipykernel)",
   "language": "python",
   "name": "python3"
  },
  "language_info": {
   "codemirror_mode": {
    "name": "ipython",
    "version": 3
   },
   "file_extension": ".py",
   "mimetype": "text/x-python",
   "name": "python",
   "nbconvert_exporter": "python",
   "pygments_lexer": "ipython3",
   "version": "3.9.12"
  }
 },
 "nbformat": 4,
 "nbformat_minor": 5
}
