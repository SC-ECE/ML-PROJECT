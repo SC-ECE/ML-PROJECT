{
 "cells": [
  {
   "cell_type": "code",
   "execution_count": 1,
   "metadata": {},
   "outputs": [],
   "source": [
    "#    Next Word Prediction"
   ]
  },
  {
   "cell_type": "code",
   "execution_count": 2,
   "metadata": {},
   "outputs": [
    {
     "name": "stderr",
     "output_type": "stream",
     "text": [
      "C:\\Users\\tridi\\anaconda3\\lib\\site-packages\\pandas\\core\\computation\\expressions.py:21: UserWarning: Pandas requires version '2.7.3' or newer of 'numexpr' (version '2.7.1' currently installed).\n",
      "  from pandas.core.computation.check import NUMEXPR_INSTALLED\n"
     ]
    }
   ],
   "source": [
    "import numpy as np\n",
    "import pandas as pd"
   ]
  },
  {
   "cell_type": "code",
   "execution_count": 3,
   "metadata": {},
   "outputs": [
    {
     "name": "stdout",
     "output_type": "stream",
     "text": [
      "corpus length: 581888\n"
     ]
    }
   ],
   "source": [
    "#loading the data\n",
    "\n",
    "text= open('1661-0.txt',encoding='UTF-8').read().lower()\n",
    "print('corpus length:', len(text))"
   ]
  },
  {
   "cell_type": "code",
   "execution_count": 4,
   "metadata": {},
   "outputs": [],
   "source": [
    "from nltk.tokenize import RegexpTokenizer"
   ]
  },
  {
   "cell_type": "code",
   "execution_count": 5,
   "metadata": {},
   "outputs": [],
   "source": [
    "#splitting dataset into one word each\n",
    "\n",
    "tokenizer = RegexpTokenizer(r'\\w+')\n",
    "words = tokenizer.tokenize(text)"
   ]
  },
  {
   "cell_type": "code",
   "execution_count": 6,
   "metadata": {},
   "outputs": [],
   "source": [
    "#making list of sorted unique words\n",
    "\n",
    "unique_words = np.unique(words)\n",
    "unique_word_index = dict((c, i) for i, c in enumerate(unique_words))"
   ]
  },
  {
   "cell_type": "code",
   "execution_count": 7,
   "metadata": {},
   "outputs": [
    {
     "name": "stdout",
     "output_type": "stream",
     "text": [
      "['project', 'gutenberg', 's', 'the', 'adventures']\n",
      "of\n"
     ]
    }
   ],
   "source": [
    "#feature Engineering and OneHotEncoding\n",
    "\n",
    "WORD_LENGTH=5\n",
    "prev_words=[]\n",
    "next_words=[]\n",
    "for i in range(len(words)-WORD_LENGTH):\n",
    "    prev_words.append(words[i:i+WORD_LENGTH])\n",
    "    next_words.append(words[i+WORD_LENGTH])\n",
    "print(prev_words[0])\n",
    "print(next_words[0])"
   ]
  },
  {
   "cell_type": "code",
   "execution_count": 8,
   "metadata": {},
   "outputs": [],
   "source": [
    "#storing features and corresponding labels\n",
    "\n",
    "x=np.zeros((len(prev_words),WORD_LENGTH,len(unique_words)),dtype=bool)\n",
    "y=np.zeros((len(next_words),len(unique_words)),dtype=bool)\n",
    "\n",
    "for i,each_words in enumerate(prev_words):\n",
    "    for j,each_word in enumerate(each_words):\n",
    "        x[i,j, unique_word_index[each_word]]=1\n",
    "    y[i,unique_word_index[next_words[i]]]=1"
   ]
  },
  {
   "cell_type": "code",
   "execution_count": 9,
   "metadata": {},
   "outputs": [
    {
     "name": "stdout",
     "output_type": "stream",
     "text": [
      "[False False False ... False False False]\n"
     ]
    }
   ],
   "source": [
    "print(x[4][0])"
   ]
  },
  {
   "cell_type": "code",
   "execution_count": 10,
   "metadata": {},
   "outputs": [],
   "source": [
    "from keras.models import load_model,Sequential\n",
    "from keras.layers import LSTM\n",
    "from keras.layers.core import Dense,Activation\n",
    "from tensorflow.keras.optimizers import RMSprop"
   ]
  },
  {
   "cell_type": "code",
   "execution_count": 11,
   "metadata": {},
   "outputs": [],
   "source": [
    "# building the model\n",
    "\n",
    "model=Sequential()\n",
    "model.add(LSTM(128,input_shape=(WORD_LENGTH,len(unique_words))))\n",
    "model.add(Dense(len(unique_words)))\n",
    "model.add(Activation('softmax'))"
   ]
  },
  {
   "cell_type": "code",
   "execution_count": 12,
   "metadata": {},
   "outputs": [
    {
     "name": "stdout",
     "output_type": "stream",
     "text": [
      "Model: \"sequential\"\n",
      "_________________________________________________________________\n",
      " Layer (type)                Output Shape              Param #   \n",
      "=================================================================\n",
      " lstm (LSTM)                 (None, 128)               4264960   \n",
      "                                                                 \n",
      " dense (Dense)               (None, 8201)              1057929   \n",
      "                                                                 \n",
      " activation (Activation)     (None, 8201)              0         \n",
      "                                                                 \n",
      "=================================================================\n",
      "Total params: 5,322,889\n",
      "Trainable params: 5,322,889\n",
      "Non-trainable params: 0\n",
      "_________________________________________________________________\n"
     ]
    }
   ],
   "source": [
    "model.summary()"
   ]
  },
  {
   "cell_type": "code",
   "execution_count": 13,
   "metadata": {},
   "outputs": [
    {
     "name": "stderr",
     "output_type": "stream",
     "text": [
      "C:\\Users\\tridi\\anaconda3\\lib\\site-packages\\keras\\optimizers\\optimizer_v2\\rmsprop.py:140: UserWarning: The `lr` argument is deprecated, use `learning_rate` instead.\n",
      "  super().__init__(name, **kwargs)\n"
     ]
    }
   ],
   "source": [
    "#create the optimizer\n",
    "\n",
    "optimizer = RMSprop(lr=0.01)"
   ]
  },
  {
   "cell_type": "code",
   "execution_count": 14,
   "metadata": {},
   "outputs": [],
   "source": [
    "# compiling  the model\n",
    "\n",
    "model.compile(loss='categorical_crossentropy', optimizer=optimizer, metrics=['accuracy'])"
   ]
  },
  {
   "cell_type": "code",
   "execution_count": 15,
   "metadata": {},
   "outputs": [
    {
     "name": "stdout",
     "output_type": "stream",
     "text": [
      "Epoch 1/10\n",
      "811/811 [==============================] - 159s 191ms/step - loss: 6.0140 - accuracy: 0.1065 - val_loss: 7.0234 - val_accuracy: 0.1022\n",
      "Epoch 2/10\n",
      "811/811 [==============================] - 168s 207ms/step - loss: 5.7839 - accuracy: 0.1478 - val_loss: 7.9116 - val_accuracy: 0.1031\n",
      "Epoch 3/10\n",
      "811/811 [==============================] - 187s 231ms/step - loss: 5.7496 - accuracy: 0.1755 - val_loss: 7.9284 - val_accuracy: 0.1062\n",
      "Epoch 4/10\n",
      "811/811 [==============================] - 207s 255ms/step - loss: 5.4204 - accuracy: 0.2102 - val_loss: 8.1944 - val_accuracy: 0.0992\n",
      "Epoch 5/10\n",
      "811/811 [==============================] - 217s 268ms/step - loss: 5.0814 - accuracy: 0.2497 - val_loss: 8.3239 - val_accuracy: 0.1005\n",
      "Epoch 6/10\n",
      "811/811 [==============================] - 218s 268ms/step - loss: 4.7912 - accuracy: 0.2891 - val_loss: 8.4579 - val_accuracy: 0.0917\n",
      "Epoch 7/10\n",
      "811/811 [==============================] - 203s 251ms/step - loss: 4.5003 - accuracy: 0.3309 - val_loss: 9.0164 - val_accuracy: 0.0818\n",
      "Epoch 8/10\n",
      "811/811 [==============================] - 208s 257ms/step - loss: 4.2456 - accuracy: 0.3701 - val_loss: 9.1836 - val_accuracy: 0.0850\n",
      "Epoch 9/10\n",
      "811/811 [==============================] - 213s 262ms/step - loss: 4.0383 - accuracy: 0.4048 - val_loss: 9.3487 - val_accuracy: 0.0798\n",
      "Epoch 10/10\n",
      "811/811 [==============================] - 203s 250ms/step - loss: 3.8836 - accuracy: 0.4359 - val_loss: 9.3921 - val_accuracy: 0.0747\n"
     ]
    }
   ],
   "source": [
    "#training the model\n",
    "\n",
    "history = model.fit(x, y, validation_split=0.05, batch_size=128, epochs=10, shuffle=True).history"
   ]
  },
  {
   "cell_type": "code",
   "execution_count": 16,
   "metadata": {},
   "outputs": [],
   "source": [
    "#saving the model\n",
    "\n",
    "import pickle\n",
    "import heapq"
   ]
  },
  {
   "cell_type": "code",
   "execution_count": 17,
   "metadata": {},
   "outputs": [],
   "source": [
    "model.save('keras_next_word_model.h5')\n",
    "pickle.dump(history, open(\"history.p\", \"wb\"))\n",
    "model = load_model('keras_next_word_model.h5')\n",
    "history = pickle.load(open(\"history.p\", \"rb\"))"
   ]
  },
  {
   "cell_type": "code",
   "execution_count": 18,
   "metadata": {},
   "outputs": [
    {
     "data": {
      "text/plain": [
       "{'loss': [6.014045715332031,\n",
       "  5.783892631530762,\n",
       "  5.749584197998047,\n",
       "  5.420408248901367,\n",
       "  5.0814056396484375,\n",
       "  4.79118537902832,\n",
       "  4.5003437995910645,\n",
       "  4.245604515075684,\n",
       "  4.0383100509643555,\n",
       "  3.8835670948028564],\n",
       " 'accuracy': [0.10648714751005173,\n",
       "  0.14775586128234863,\n",
       "  0.17554140090942383,\n",
       "  0.21019862592220306,\n",
       "  0.24968436360359192,\n",
       "  0.2890737056732178,\n",
       "  0.330872505903244,\n",
       "  0.37006911635398865,\n",
       "  0.40484198927879333,\n",
       "  0.4359429180622101],\n",
       " 'val_loss': [7.023428440093994,\n",
       "  7.911618232727051,\n",
       "  7.928402423858643,\n",
       "  8.194436073303223,\n",
       "  8.323945999145508,\n",
       "  8.457944869995117,\n",
       "  9.016399383544922,\n",
       "  9.183624267578125,\n",
       "  9.348711013793945,\n",
       "  9.392136573791504],\n",
       " 'val_accuracy': [0.10216037929058075,\n",
       "  0.1030757948756218,\n",
       "  0.10618820786476135,\n",
       "  0.0992310494184494,\n",
       "  0.10051263123750687,\n",
       "  0.09172464162111282,\n",
       "  0.08183815330266953,\n",
       "  0.08495056629180908,\n",
       "  0.07982423901557922,\n",
       "  0.07469791173934937]}"
      ]
     },
     "execution_count": 18,
     "metadata": {},
     "output_type": "execute_result"
    }
   ],
   "source": [
    "history"
   ]
  },
  {
   "cell_type": "code",
   "execution_count": 19,
   "metadata": {},
   "outputs": [],
   "source": [
    "import matplotlib.pyplot as plt\n",
    "%matplotlib inline"
   ]
  },
  {
   "cell_type": "code",
   "execution_count": 22,
   "metadata": {},
   "outputs": [
    {
     "data": {
      "text/plain": [
       "<matplotlib.legend.Legend at 0x1c115b90700>"
      ]
     },
     "execution_count": 22,
     "metadata": {},
     "output_type": "execute_result"
    },
    {
     "data": {
      "image/png": "[encoded data removed]",
      "text/plain": [
       "<Figure size 432x288 with 1 Axes>"
      ]
     },
     "metadata": {
      "needs_background": "light"
     },
     "output_type": "display_data"
    }
   ],
   "source": [
    "# visualization of behaviour based on its accuracy\n",
    "\n",
    "plt.plot(history['accuracy'])\n",
    "plt.title('model accuracy')\n",
    "plt.ylabel('accuracy')\n",
    "plt.xlabel('epoch')\n",
    "plt.legend(['train', 'test'], loc='upper right')"
   ]
  },
  {
   "cell_type": "code",
   "execution_count": 23,
   "metadata": {},
   "outputs": [
    {
     "data": {
      "text/plain": [
       "<matplotlib.legend.Legend at 0x1c115c05610>"
      ]
     },
     "execution_count": 23,
     "metadata": {},
     "output_type": "execute_result"
    },
    {
     "data": {
      "image/png": "[encoded data removed]",
      "text/plain": [
       "<Figure size 432x288 with 1 Axes>"
      ]
     },
     "metadata": {
      "needs_background": "light"
     },
     "output_type": "display_data"
    }
   ],
   "source": [
    "plt.plot(history['loss'])\n",
    "plt.title('model loss')\n",
    "plt.ylabel('loss')\n",
    "plt.xlabel('epoch')\n",
    "plt.legend(['train', 'test'], loc='upper left')"
   ]
  },
  {
   "cell_type": "code",
   "execution_count": 24,
   "metadata": {},
   "outputs": [
    {
     "name": "stdout",
     "output_type": "stream",
     "text": [
      "how\n",
      "are\n",
      "you\n"
     ]
    },
    {
     "data": {
      "text/plain": [
       "array([[[0., 0., 0., ..., 0., 0., 0.],\n",
       "        [0., 0., 0., ..., 0., 0., 0.],\n",
       "        [0., 0., 0., ..., 0., 0., 0.],\n",
       "        [0., 0., 0., ..., 0., 0., 0.],\n",
       "        [0., 0., 0., ..., 0., 0., 0.]]])"
      ]
     },
     "execution_count": 24,
     "metadata": {},
     "output_type": "execute_result"
    }
   ],
   "source": [
    "#making prediction\n",
    "\n",
    "def prepare_input(text):\n",
    "    x = np.zeros((1, WORD_LENGTH, len(unique_words)))\n",
    "    for t, word in enumerate(text.split()):\n",
    "        print(word)\n",
    "        x[0, t, unique_word_index[word]] = 1\n",
    "    return x\n",
    "prepare_input(\"How are you \".lower())"
   ]
  },
  {
   "cell_type": "code",
   "execution_count": 27,
   "metadata": {},
   "outputs": [],
   "source": [
    "def sample(preds, top_n=3):\n",
    "    preds = np.asarray(preds).astype('float64')\n",
    "    preds = np.log(preds)\n",
    "    exp_preds = np.exp(preds)\n",
    "    preds = exp_preds / np.sum(exp_preds)\n",
    "    return heapq.nlargest(top_n, range(len(preds)), preds.take)"
   ]
  },
  {
   "cell_type": "code",
   "execution_count": 28,
   "metadata": {},
   "outputs": [],
   "source": [
    "#function for Prediction"
   ]
  },
  {
   "cell_type": "code",
   "execution_count": 29,
   "metadata": {},
   "outputs": [],
   "source": [
    "def predict_completions(text,n=3):\n",
    "    if text ==\"\":\n",
    "        return(\"0\")\n",
    "    x=prepare_input(text)\n",
    "    preds=model.predict(x,verbose=0)[0]\n",
    "    next_indices = sample(preds,n)\n",
    "    return [unique_words[idx] for idx in next_indices]"
   ]
  },
  {
   "cell_type": "code",
   "execution_count": 30,
   "metadata": {},
   "outputs": [],
   "source": [
    "#Result"
   ]
  },
  {
   "cell_type": "code",
   "execution_count": 34,
   "metadata": {},
   "outputs": [
    {
     "name": "stdout",
     "output_type": "stream",
     "text": [
      "correct sentence:  Do your work by your own instead of depending on someone\n",
      "Sequence:  do your work by your\n",
      "do\n",
      "your\n",
      "work\n",
      "by\n",
      "your\n",
      "next possible words:  ['own', 'good', 'case', 'time', 'experience']\n"
     ]
    }
   ],
   "source": [
    "#1\n",
    "q =  \"Do your work by your own instead of depending on someone\"\n",
    "print(\"correct sentence: \",q)\n",
    "seq = \" \".join(tokenizer.tokenize(q.lower())[0:5])\n",
    "print(\"Sequence: \",seq)\n",
    "print(\"next possible words: \", predict_completions(seq, 5))"
   ]
  },
  {
   "cell_type": "code",
   "execution_count": 38,
   "metadata": {},
   "outputs": [
    {
     "name": "stdout",
     "output_type": "stream",
     "text": [
      "correct sentence:  I had seen little of Holmes lately\n",
      "Sequence:  i had seen little\n",
      "i\n",
      "had\n",
      "seen\n",
      "little\n",
      "next possible words:  ['of', 'in', 'more']\n"
     ]
    }
   ],
   "source": [
    "#2\n",
    "q=  \"I had seen little of Holmes lately\"\n",
    "print(\"correct sentence: \",q)\n",
    "seq = \" \".join(tokenizer.tokenize(q.lower())[0:4])\n",
    "print(\"Sequence: \",seq)\n",
    "print(\"next possible words: \", predict_completions(seq, 3))"
   ]
  },
  {
   "cell_type": "code",
   "execution_count": 43,
   "metadata": {},
   "outputs": [
    {
     "name": "stdout",
     "output_type": "stream",
     "text": [
      "correct sentence:   It is a capital mistake to theorise before one has data\n",
      "Sequence:  it is a capital mistake\n",
      "it\n",
      "is\n",
      "a\n",
      "capital\n",
      "mistake\n",
      "next possible words:  ['to', 'and', 'in', 'said']\n"
     ]
    }
   ],
   "source": [
    "#3\n",
    "q=  \" It is a capital mistake to theorise before one has data\"\n",
    "print(\"correct sentence: \",q)\n",
    "seq = \" \".join(tokenizer.tokenize(q.lower())[0:5])\n",
    "print(\"Sequence: \",seq)\n",
    "print(\"next possible words: \", predict_completions(seq, 4))"
   ]
  },
  {
   "cell_type": "code",
   "execution_count": null,
   "metadata": {},
   "outputs": [],
   "source": [
    "#Thank You"
   ]
  }
 ],
 "metadata": {
  "kernelspec": {
   "display_name": "Python 3",
   "language": "python",
   "name": "python3"
  },
  "language_info": {
   "codemirror_mode": {
    "name": "ipython",
    "version": 3
   },
   "file_extension": ".py",
   "mimetype": "text/x-python",
   "name": "python",
   "nbconvert_exporter": "python",
   "pygments_lexer": "ipython3",
   "version": "3.8.3"
  }
 },
 "nbformat": 4,
 "nbformat_minor": 4
}
