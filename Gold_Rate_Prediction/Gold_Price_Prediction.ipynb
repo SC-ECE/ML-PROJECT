{
 "cells": [
  {
   "cell_type": "code",
   "execution_count": 1,
   "id": "67b8e59b-66b0-4f22-9431-fa9684668eb3",
   "metadata": {},
   "outputs": [],
   "source": [
    "import numpy as np\n",
    "import pandas as pd\n",
    "import matplotlib.pyplot as plt\n",
    "import seaborn as sns\n",
    "from sklearn.model_selection import train_test_split\n",
    "from sklearn.ensemble import RandomForestRegressor\n",
    "from sklearn import metrics"
   ]
  },
  {
   "cell_type": "code",
   "execution_count": 3,
   "id": "1dfbb6f4-a899-4d51-8607-418a7cea070b",
   "metadata": {},
   "outputs": [],
   "source": [
    "gold_data = pd.read_csv('gld_price_data.csv')"
   ]
  },
  {
   "cell_type": "code",
   "execution_count": 4,
   "id": "fa14bb10-83d5-4e14-8472-5d0b3bc82d0e",
   "metadata": {},
   "outputs": [
    {
     "data": {
      "text/html": [
       "<div>\n",
       "<style scoped>\n",
       "    .dataframe tbody tr th:only-of-type {\n",
       "        vertical-align: middle;\n",
       "    }\n",
       "\n",
       "    .dataframe tbody tr th {\n",
       "        vertical-align: top;\n",
       "    }\n",
       "\n",
       "    .dataframe thead th {\n",
       "        text-align: right;\n",
       "    }\n",
       "</style>\n",
       "<table border=\"1\" class=\"dataframe\">\n",
       "  <thead>\n",
       "    <tr style=\"text-align: right;\">\n",
       "      <th></th>\n",
       "      <th>Date</th>\n",
       "      <th>SPX</th>\n",
       "      <th>GLD</th>\n",
       "      <th>USO</th>\n",
       "      <th>SLV</th>\n",
       "      <th>EUR/USD</th>\n",
       "    </tr>\n",
       "  </thead>\n",
       "  <tbody>\n",
       "    <tr>\n",
       "      <th>0</th>\n",
       "      <td>1/2/2008</td>\n",
       "      <td>1447.160034</td>\n",
       "      <td>84.860001</td>\n",
       "      <td>78.470001</td>\n",
       "      <td>15.180</td>\n",
       "      <td>1.471692</td>\n",
       "    </tr>\n",
       "    <tr>\n",
       "      <th>1</th>\n",
       "      <td>1/3/2008</td>\n",
       "      <td>1447.160034</td>\n",
       "      <td>85.570000</td>\n",
       "      <td>78.370003</td>\n",
       "      <td>15.285</td>\n",
       "      <td>1.474491</td>\n",
       "    </tr>\n",
       "    <tr>\n",
       "      <th>2</th>\n",
       "      <td>1/4/2008</td>\n",
       "      <td>1411.630005</td>\n",
       "      <td>85.129997</td>\n",
       "      <td>77.309998</td>\n",
       "      <td>15.167</td>\n",
       "      <td>1.475492</td>\n",
       "    </tr>\n",
       "    <tr>\n",
       "      <th>3</th>\n",
       "      <td>1/7/2008</td>\n",
       "      <td>1416.180054</td>\n",
       "      <td>84.769997</td>\n",
       "      <td>75.500000</td>\n",
       "      <td>15.053</td>\n",
       "      <td>1.468299</td>\n",
       "    </tr>\n",
       "    <tr>\n",
       "      <th>4</th>\n",
       "      <td>1/8/2008</td>\n",
       "      <td>1390.189941</td>\n",
       "      <td>86.779999</td>\n",
       "      <td>76.059998</td>\n",
       "      <td>15.590</td>\n",
       "      <td>1.557099</td>\n",
       "    </tr>\n",
       "  </tbody>\n",
       "</table>\n",
       "</div>"
      ],
      "text/plain": [
       "       Date          SPX        GLD        USO     SLV   EUR/USD\n",
       "0  1/2/2008  1447.160034  84.860001  78.470001  15.180  1.471692\n",
       "1  1/3/2008  1447.160034  85.570000  78.370003  15.285  1.474491\n",
       "2  1/4/2008  1411.630005  85.129997  77.309998  15.167  1.475492\n",
       "3  1/7/2008  1416.180054  84.769997  75.500000  15.053  1.468299\n",
       "4  1/8/2008  1390.189941  86.779999  76.059998  15.590  1.557099"
      ]
     },
     "execution_count": 4,
     "metadata": {},
     "output_type": "execute_result"
    }
   ],
   "source": [
    "gold_data.head()"
   ]
  },
  {
   "cell_type": "code",
   "execution_count": 5,
   "id": "ae52b06c-f755-49ea-b4be-c16839840887",
   "metadata": {},
   "outputs": [
    {
     "name": "stdout",
     "output_type": "stream",
     "text": [
      "<class 'pandas.core.frame.DataFrame'>\n",
      "RangeIndex: 2290 entries, 0 to 2289\n",
      "Data columns (total 6 columns):\n",
      " #   Column   Non-Null Count  Dtype  \n",
      "---  ------   --------------  -----  \n",
      " 0   Date     2290 non-null   object \n",
      " 1   SPX      2290 non-null   float64\n",
      " 2   GLD      2290 non-null   float64\n",
      " 3   USO      2290 non-null   float64\n",
      " 4   SLV      2290 non-null   float64\n",
      " 5   EUR/USD  2290 non-null   float64\n",
      "dtypes: float64(5), object(1)\n",
      "memory usage: 107.5+ KB\n"
     ]
    }
   ],
   "source": [
    "gold_data.info()"
   ]
  },
  {
   "cell_type": "code",
   "execution_count": 6,
   "id": "269965bc-ecd8-4640-aeae-61352bc015c5",
   "metadata": {},
   "outputs": [
    {
     "data": {
      "text/html": [
       "<div>\n",
       "<style scoped>\n",
       "    .dataframe tbody tr th:only-of-type {\n",
       "        vertical-align: middle;\n",
       "    }\n",
       "\n",
       "    .dataframe tbody tr th {\n",
       "        vertical-align: top;\n",
       "    }\n",
       "\n",
       "    .dataframe thead th {\n",
       "        text-align: right;\n",
       "    }\n",
       "</style>\n",
       "<table border=\"1\" class=\"dataframe\">\n",
       "  <thead>\n",
       "    <tr style=\"text-align: right;\">\n",
       "      <th></th>\n",
       "      <th>SPX</th>\n",
       "      <th>GLD</th>\n",
       "      <th>USO</th>\n",
       "      <th>SLV</th>\n",
       "      <th>EUR/USD</th>\n",
       "    </tr>\n",
       "  </thead>\n",
       "  <tbody>\n",
       "    <tr>\n",
       "      <th>count</th>\n",
       "      <td>2290.000000</td>\n",
       "      <td>2290.000000</td>\n",
       "      <td>2290.000000</td>\n",
       "      <td>2290.000000</td>\n",
       "      <td>2290.000000</td>\n",
       "    </tr>\n",
       "    <tr>\n",
       "      <th>mean</th>\n",
       "      <td>1654.315776</td>\n",
       "      <td>122.732875</td>\n",
       "      <td>31.842221</td>\n",
       "      <td>20.084997</td>\n",
       "      <td>1.283653</td>\n",
       "    </tr>\n",
       "    <tr>\n",
       "      <th>std</th>\n",
       "      <td>519.111540</td>\n",
       "      <td>23.283346</td>\n",
       "      <td>19.523517</td>\n",
       "      <td>7.092566</td>\n",
       "      <td>0.131547</td>\n",
       "    </tr>\n",
       "    <tr>\n",
       "      <th>min</th>\n",
       "      <td>676.530029</td>\n",
       "      <td>70.000000</td>\n",
       "      <td>7.960000</td>\n",
       "      <td>8.850000</td>\n",
       "      <td>1.039047</td>\n",
       "    </tr>\n",
       "    <tr>\n",
       "      <th>25%</th>\n",
       "      <td>1239.874969</td>\n",
       "      <td>109.725000</td>\n",
       "      <td>14.380000</td>\n",
       "      <td>15.570000</td>\n",
       "      <td>1.171313</td>\n",
       "    </tr>\n",
       "    <tr>\n",
       "      <th>50%</th>\n",
       "      <td>1551.434998</td>\n",
       "      <td>120.580002</td>\n",
       "      <td>33.869999</td>\n",
       "      <td>17.268500</td>\n",
       "      <td>1.303297</td>\n",
       "    </tr>\n",
       "    <tr>\n",
       "      <th>75%</th>\n",
       "      <td>2073.010070</td>\n",
       "      <td>132.840004</td>\n",
       "      <td>37.827501</td>\n",
       "      <td>22.882500</td>\n",
       "      <td>1.369971</td>\n",
       "    </tr>\n",
       "    <tr>\n",
       "      <th>max</th>\n",
       "      <td>2872.870117</td>\n",
       "      <td>184.589996</td>\n",
       "      <td>117.480003</td>\n",
       "      <td>47.259998</td>\n",
       "      <td>1.598798</td>\n",
       "    </tr>\n",
       "  </tbody>\n",
       "</table>\n",
       "</div>"
      ],
      "text/plain": [
       "               SPX          GLD          USO          SLV      EUR/USD\n",
       "count  2290.000000  2290.000000  2290.000000  2290.000000  2290.000000\n",
       "mean   1654.315776   122.732875    31.842221    20.084997     1.283653\n",
       "std     519.111540    23.283346    19.523517     7.092566     0.131547\n",
       "min     676.530029    70.000000     7.960000     8.850000     1.039047\n",
       "25%    1239.874969   109.725000    14.380000    15.570000     1.171313\n",
       "50%    1551.434998   120.580002    33.869999    17.268500     1.303297\n",
       "75%    2073.010070   132.840004    37.827501    22.882500     1.369971\n",
       "max    2872.870117   184.589996   117.480003    47.259998     1.598798"
      ]
     },
     "execution_count": 6,
     "metadata": {},
     "output_type": "execute_result"
    }
   ],
   "source": [
    "gold_data.describe()"
   ]
  },
  {
   "cell_type": "code",
   "execution_count": 7,
   "id": "c572934b-8fd4-43e8-a874-ba91be6f38bf",
   "metadata": {},
   "outputs": [
    {
     "name": "stdout",
     "output_type": "stream",
     "text": [
      "Dataset Shape :(2290, 6)\n"
     ]
    }
   ],
   "source": [
    "print(f\"Dataset Shape :{gold_data.shape}\")"
   ]
  },
  {
   "cell_type": "code",
   "execution_count": 8,
   "id": "e54957b3-b753-49bc-b645-e70634349b2f",
   "metadata": {},
   "outputs": [
    {
     "name": "stdout",
     "output_type": "stream",
     "text": [
      "Checking the number of missing values\n"
     ]
    },
    {
     "data": {
      "text/plain": [
       "Date       0\n",
       "SPX        0\n",
       "GLD        0\n",
       "USO        0\n",
       "SLV        0\n",
       "EUR/USD    0\n",
       "dtype: int64"
      ]
     },
     "execution_count": 8,
     "metadata": {},
     "output_type": "execute_result"
    }
   ],
   "source": [
    "print('Checking the number of missing values')\n",
    "gold_data.isnull().sum()"
   ]
  },
  {
   "cell_type": "code",
   "execution_count": 9,
   "id": "194639f6-435b-4ca5-af5d-dbcd5af72c1e",
   "metadata": {},
   "outputs": [],
   "source": [
    "# try to know the correlotion \n",
    "correlation = gold_data.corr()"
   ]
  },
  {
   "cell_type": "code",
   "execution_count": 10,
   "id": "a4f97afc-1575-4642-b591-b812602a6653",
   "metadata": {},
   "outputs": [
    {
     "data": {
      "text/plain": [
       "<AxesSubplot:>"
      ]
     },
     "execution_count": 10,
     "metadata": {},
     "output_type": "execute_result"
    },
    {
     "data": {
      "image/png": "[encoded data removed]",
      "text/plain": [
       "<Figure size 720x720 with 2 Axes>"
      ]
     },
     "metadata": {
      "needs_background": "light"
     },
     "output_type": "display_data"
    }
   ],
   "source": [
    "# diplay heatmap of correlation\n",
    "plt.figure(figsize=(10,10))\n",
    "sns.heatmap(correlation, cbar=True, square=True, fmt='.1f',annot=True, annot_kws={'size':8}, cmap='Oranges')"
   ]
  },
  {
   "cell_type": "code",
   "execution_count": 11,
   "id": "4fb6ae5f-faa8-47d1-a7d2-0699751b01b7",
   "metadata": {},
   "outputs": [
    {
     "name": "stdout",
     "output_type": "stream",
     "text": [
      "SPX        0.049345\n",
      "GLD        1.000000\n",
      "USO       -0.186360\n",
      "SLV        0.866632\n",
      "EUR/USD   -0.024375\n",
      "Name: GLD, dtype: float64\n"
     ]
    }
   ],
   "source": [
    "# correlation values of GLD\n",
    "print(correlation['GLD'])"
   ]
  },
  {
   "cell_type": "code",
   "execution_count": 12,
   "id": "2a9d7bcd-ef6c-4fee-9260-789b25ffe6b8",
   "metadata": {},
   "outputs": [
    {
     "name": "stderr",
     "output_type": "stream",
     "text": [
      "C:\\Users\\DHRUPAD CHAKRABORTY\\anaconda3\\lib\\site-packages\\seaborn\\distributions.py:2619: FutureWarning: `distplot` is a deprecated function and will be removed in a future version. Please adapt your code to use either `displot` (a figure-level function with similar flexibility) or `histplot` (an axes-level function for histograms).\n",
      "  warnings.warn(msg, FutureWarning)\n"
     ]
    },
    {
     "data": {
      "text/plain": [
       "<AxesSubplot:xlabel='GLD', ylabel='Density'>"
      ]
     },
     "execution_count": 12,
     "metadata": {},
     "output_type": "execute_result"
    },
    {
     "data": {
      "image/png": "[encoded data removed]",
      "text/plain": [
       "<Figure size 432x288 with 1 Axes>"
      ]
     },
     "metadata": {
      "needs_background": "light"
     },
     "output_type": "display_data"
    }
   ],
   "source": [
    "# checking the distribution of the GLD Price\n",
    "sns.distplot(gold_data['GLD'],color='green')"
   ]
  },
  {
   "cell_type": "code",
   "execution_count": 13,
   "id": "7b549019-0fe9-4dda-964d-383b3a8f7953",
   "metadata": {},
   "outputs": [],
   "source": [
    "X = gold_data.drop(['Date','GLD'],axis=1)\n",
    "Y = gold_data['GLD']"
   ]
  },
  {
   "cell_type": "code",
   "execution_count": 14,
   "id": "d5898387-1614-4fb3-b844-b8ce1091e5dd",
   "metadata": {},
   "outputs": [
    {
     "name": "stdout",
     "output_type": "stream",
     "text": [
      "              SPX        USO      SLV   EUR/USD\n",
      "0     1447.160034  78.470001  15.1800  1.471692\n",
      "1     1447.160034  78.370003  15.2850  1.474491\n",
      "2     1411.630005  77.309998  15.1670  1.475492\n",
      "3     1416.180054  75.500000  15.0530  1.468299\n",
      "4     1390.189941  76.059998  15.5900  1.557099\n",
      "...           ...        ...      ...       ...\n",
      "2285  2671.919922  14.060000  15.5100  1.186789\n",
      "2286  2697.790039  14.370000  15.5300  1.184722\n",
      "2287  2723.070068  14.410000  15.7400  1.191753\n",
      "2288  2730.129883  14.380000  15.5600  1.193118\n",
      "2289  2725.780029  14.405800  15.4542  1.182033\n",
      "\n",
      "[2290 rows x 4 columns]\n"
     ]
    }
   ],
   "source": [
    "print(X)"
   ]
  },
  {
   "cell_type": "code",
   "execution_count": 15,
   "id": "12a09018-33df-47fa-a0d7-8939ab75bfaa",
   "metadata": {},
   "outputs": [
    {
     "name": "stdout",
     "output_type": "stream",
     "text": [
      "0        84.860001\n",
      "1        85.570000\n",
      "2        85.129997\n",
      "3        84.769997\n",
      "4        86.779999\n",
      "           ...    \n",
      "2285    124.589996\n",
      "2286    124.330002\n",
      "2287    125.180000\n",
      "2288    124.489998\n",
      "2289    122.543800\n",
      "Name: GLD, Length: 2290, dtype: float64\n"
     ]
    }
   ],
   "source": [
    "print(Y)"
   ]
  },
  {
   "cell_type": "code",
   "execution_count": 16,
   "id": "2566da24-87cd-41d7-877a-c5441ef978c7",
   "metadata": {},
   "outputs": [],
   "source": [
    "X_train, X_test, Y_train, Y_test = train_test_split(X, Y, test_size = 0.2, random_state=2)"
   ]
  },
  {
   "cell_type": "code",
   "execution_count": 17,
   "id": "89d1fd4e-3b44-4091-8978-c6944274e40c",
   "metadata": {},
   "outputs": [],
   "source": [
    "regressor = RandomForestRegressor(n_estimators=100)"
   ]
  },
  {
   "cell_type": "code",
   "execution_count": 18,
   "id": "5bbf029a-1684-4772-909e-b8036bbc4f48",
   "metadata": {},
   "outputs": [
    {
     "data": {
      "text/plain": [
       "RandomForestRegressor()"
      ]
     },
     "execution_count": 18,
     "metadata": {},
     "output_type": "execute_result"
    }
   ],
   "source": [
    "# training the model\n",
    "regressor.fit(X_train,Y_train)"
   ]
  },
  {
   "cell_type": "code",
   "execution_count": 19,
   "id": "3598d26a-3487-4e2e-89d0-c2175ddeb912",
   "metadata": {},
   "outputs": [],
   "source": [
    "# prediction on Test Data\n",
    "test_data_prediction = regressor.predict(X_test)"
   ]
  },
  {
   "cell_type": "code",
   "execution_count": 20,
   "id": "eafd3960-55d1-464e-9672-5deef59f4fed",
   "metadata": {},
   "outputs": [
    {
     "name": "stdout",
     "output_type": "stream",
     "text": [
      "[168.5607997   82.38439973 116.05270043 127.61550104 120.86400117\n",
      " 154.86589778 150.06549815 126.16530023 117.50259872 125.98560091\n",
      " 116.86270092 171.23800062 141.82929848 167.84499902 115.16639993\n",
      " 117.56060016 139.36590347 170.17090136 159.47930322 160.39489877\n",
      " 155.13019953 124.96670037 175.4895983  156.66860311 125.09480031\n",
      "  93.98469971  77.00370051 120.56670013 119.10869918 167.38040038\n",
      "  88.14460044 125.11539976  91.31410064 117.7187002  121.11939942\n",
      " 136.29170112 115.3581011  114.88380098 148.56279967 107.00770131\n",
      " 104.18480229  87.04329783 126.45040102 117.89369989 152.37919847\n",
      " 119.58419993 108.35019973 108.04879793  93.15850079 126.95149814\n",
      "  74.1750006  113.54879918 121.40580025 111.34389949 118.88389853\n",
      " 120.48069943 159.58959866 168.1310011  147.26529643  85.91809878\n",
      "  94.24620017  86.86409941  90.85230021 118.76760092 126.50420058\n",
      " 127.60320026 168.9711     122.34599944 117.34009891  98.36600043\n",
      " 167.94490177 143.30449837 132.24910223 121.25820227 120.62019925\n",
      " 119.6279004  114.50280164 118.33830054 107.03210111 127.92350076\n",
      " 114.09919955 107.52269998 116.55230081 119.56239916  88.96310036\n",
      "  88.2083986  146.79890258 127.1791002  113.42280018 109.64639864\n",
      " 108.27129891  77.1778992  169.11890165 114.1340992  121.52609918\n",
      " 127.99540185 154.93159788  91.66999934 136.12430116 159.10470374\n",
      " 124.92040051 125.38720033 130.59620151 114.88490141 119.9808\n",
      "  92.10309965 110.38509887 167.92169967 155.54949938 114.24929954\n",
      " 106.58560112  79.87279975 113.41080048 125.87420084 106.9031996\n",
      " 119.11680074 156.47920361 160.06779913 120.20949985 134.21590294\n",
      " 101.35670001 117.51949802 119.26280047 112.8790007  102.75339958\n",
      " 160.3999978   99.18240056 146.93739885 125.82040097 169.19249938\n",
      " 125.72589888 127.25139791 127.18280057 113.73889934 112.9238007\n",
      " 123.44669888 102.27339908  89.37530005 124.77799956 102.31779917\n",
      " 107.26929907 113.75400047 117.04730088  99.37829962 121.58500063\n",
      " 162.82179942  87.25199883 106.48949946 117.24080082 127.76440116\n",
      " 123.95190089  80.82069929 120.02600062 158.689798    88.05119947\n",
      " 110.22989948 118.91889925 171.93689873 102.95169897 106.06570049\n",
      " 122.35030015 159.06909758  87.45339843  93.13710041 112.74210041\n",
      " 177.36619876 114.60459976 119.27580037  94.32740062 125.82340024\n",
      " 166.11460137 114.97020104 116.76430159  88.30719861 148.54170054\n",
      " 120.21919971  89.37489976 110.96190009 116.88030012 118.69400128\n",
      "  88.23849972  94.03809975 116.77220031 118.53410219 120.18390037\n",
      " 126.71639828 121.8631998  150.50000045 165.18350024 118.53989967\n",
      " 120.37160137 151.35500002 118.47059894 171.90279868 105.63739931\n",
      " 104.94330139 149.14570081 113.70860086 124.88860117 147.10329999\n",
      " 119.59430147 115.33140057 112.54960009 113.3468019  141.35920064\n",
      " 117.80429771 102.91790055 115.81860101 103.56390198  99.21860072\n",
      " 117.21760087  90.68150009  91.73440033 153.60559895 102.62469953\n",
      " 154.82320105 114.39690138 139.68380113  90.08419832 115.51979968\n",
      " 114.29539951 122.75480019 121.65530051 165.2869012   92.87179945\n",
      " 136.68500171 121.3100993  120.6765008  104.66180013 143.04070277\n",
      " 121.71079942 116.75330056 113.57970104 127.07719764 122.39289969\n",
      " 125.80139905 121.16750047  86.79939902 132.64590163 144.389402\n",
      "  92.71119961 159.66459984 158.91330311 126.31579922 165.21339952\n",
      " 108.78549966 109.62160044 103.6194982   94.18790097 127.80200292\n",
      " 107.0956003  161.15299996 121.63710046 131.83989971 130.53230107\n",
      " 160.2270004   90.09139873 174.6878019  127.42850013 126.65769903\n",
      "  86.49569975 124.66439941 150.67409752  89.58500015 106.64499942\n",
      " 109.02270003  84.4018991  136.15310037 155.02060242 138.85290302\n",
      "  74.0555001  152.71900122 126.29609997 126.74319999 127.45469905\n",
      " 108.71409957 156.40320002 114.44980135 117.01930122 125.43259975\n",
      " 154.03740143 121.32329997 156.40099903  92.9525003  125.50040159\n",
      " 125.75920034  87.87140062  92.09139918 126.31919888 128.19330343\n",
      " 113.08450053 117.67479783 120.95200042 127.21169767 119.29270089\n",
      " 136.58750089  94.06719985 119.8643004  113.18910114  94.42109943\n",
      " 108.82309989  86.66199918 109.09429933  89.73549964  92.50060044\n",
      " 131.58590302 162.36090053  89.4978     119.56850085 133.31350208\n",
      " 123.79129978 128.43960172 102.11369857  89.28359893 131.9707009\n",
      " 119.3810001  108.59279981 167.8714008  115.21110009  86.57389875\n",
      " 118.76260043  91.09290008 161.86150092 116.50800053 121.60550024\n",
      " 160.12349734 120.16879931 112.58439942 108.43289853 126.59899984\n",
      "  75.79140041 103.00209976 127.76910255 121.8861992   92.56149992\n",
      " 132.21510098 118.1551011  116.09039974 154.47540305 159.35610049\n",
      " 110.09929969 155.92439762 119.22940104 160.79590077 118.54859994\n",
      " 157.46899893 115.13319938 116.31530022 149.16089907 114.81360065\n",
      " 125.83289838 165.70969916 117.84780017 125.00349925 153.0470043\n",
      " 153.49030255 132.12140046 114.82090014 121.14980219 124.71460048\n",
      "  89.8574004  123.05959997 154.99800229 111.77890022 106.53129987\n",
      " 160.6458004  118.37509911 165.54439953 134.11440084 114.84199958\n",
      " 153.0068991  168.55899964 114.0967     113.90840125 159.87449971\n",
      "  85.24859899 127.0859006  127.76580035 128.86609947 124.28130041\n",
      " 123.9217006   90.49550097 153.17450037  96.95069989 136.68889984\n",
      "  88.88119905 107.49680002 115.0754005  112.83080107 123.98879954\n",
      "  91.41649884 125.31330125 162.42809846 119.90109885 164.98870161\n",
      " 126.6915983  112.45080005 127.70349906  94.86999919  90.9077999\n",
      " 103.84439892 121.00540008  83.26869953 126.28069984 160.22340494\n",
      " 117.41890074 118.23219982 119.78199989 122.67369962 120.18160128\n",
      " 121.55500024 118.32600071 107.36369993 147.91669926 126.23329849\n",
      " 115.69670075  73.77230005 127.84560101 154.19740029 122.23300013\n",
      " 125.61420048  88.68630007 103.81619862 124.16660046 120.33190018\n",
      "  73.34710079 151.97870086 121.21650071 104.69759986  86.54989758\n",
      " 115.1436992  172.09279886 119.3895002  159.12959762 113.23869914\n",
      " 121.2977002  118.28480096  95.95969991 118.8121996  125.94080031\n",
      " 118.56239972  96.16690078 154.12180139 122.08560026 147.5892994\n",
      " 159.66580233 113.48930028 122.47809956 150.74329899 126.83460035\n",
      " 165.95209963 135.95540011 119.87929933 167.74759902 108.26039953\n",
      " 121.70279858 139.06200104 105.94949884]\n"
     ]
    }
   ],
   "source": [
    "print(test_data_prediction)"
   ]
  },
  {
   "cell_type": "code",
   "execution_count": 21,
   "id": "12856f2d-a93c-4742-b80d-0adbbba91ada",
   "metadata": {},
   "outputs": [
    {
     "name": "stdout",
     "output_type": "stream",
     "text": [
      "R squared error :  0.9889073453436025\n"
     ]
    }
   ],
   "source": [
    "# R squared error\n",
    "error_score = metrics.r2_score(Y_test, test_data_prediction)\n",
    "print(\"R squared error : \", error_score)"
   ]
  },
  {
   "cell_type": "code",
   "execution_count": 22,
   "id": "0e1e3b54-0686-411c-95d0-07ac8d93277d",
   "metadata": {},
   "outputs": [],
   "source": [
    "Y_test = list(Y_test)"
   ]
  },
  {
   "cell_type": "code",
   "execution_count": 23,
   "id": "0a209c2d-b7b5-4c23-975d-8fa73893471c",
   "metadata": {},
   "outputs": [
    {
     "data": {
      "image/png": "[encoded data removed]",
      "text/plain": [
       "<Figure size 432x288 with 1 Axes>"
      ]
     },
     "metadata": {
      "needs_background": "light"
     },
     "output_type": "display_data"
    }
   ],
   "source": [
    "plt.plot(Y_test, color='blue', label = 'Actual Value')\n",
    "plt.plot(test_data_prediction, color='green', label='Predicted Value')\n",
    "plt.title('Actual Price vs Predicted Price')\n",
    "plt.xlabel('Number of values')\n",
    "plt.ylabel('GLD Price')\n",
    "plt.legend()\n",
    "plt.show()"
   ]
  },
  {
   "cell_type": "code",
   "execution_count": null,
   "id": "b9d168a4-ad23-466e-822a-f4bc825be25d",
   "metadata": {},
   "outputs": [],
   "source": []
  }
 ],
 "metadata": {
  "kernelspec": {
   "display_name": "Python 3 (ipykernel)",
   "language": "python",
   "name": "python3"
  },
  "language_info": {
   "codemirror_mode": {
    "name": "ipython",
    "version": 3
   },
   "file_extension": ".py",
   "mimetype": "text/x-python",
   "name": "python",
   "nbconvert_exporter": "python",
   "pygments_lexer": "ipython3",
   "version": "3.9.12"
  }
 },
 "nbformat": 4,
 "nbformat_minor": 5
}
