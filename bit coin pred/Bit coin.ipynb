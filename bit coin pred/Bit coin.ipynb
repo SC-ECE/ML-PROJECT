{
 "cells": [
  {
   "cell_type": "code",
   "execution_count": 37,
   "id": "c383572b",
   "metadata": {},
   "outputs": [],
   "source": [
    "import numpy as np\n",
    "import pandas as pd"
   ]
  },
  {
   "cell_type": "code",
   "execution_count": 38,
   "id": "63b81082",
   "metadata": {},
   "outputs": [],
   "source": [
    "dataset = pd.read_csv('BTC_INR_Historical Data.csv')"
   ]
  },
  {
   "cell_type": "code",
   "execution_count": 39,
   "id": "25f07d3a",
   "metadata": {},
   "outputs": [
    {
     "data": {
      "text/html": [
       "<div>\n",
       "<style scoped>\n",
       "    .dataframe tbody tr th:only-of-type {\n",
       "        vertical-align: middle;\n",
       "    }\n",
       "\n",
       "    .dataframe tbody tr th {\n",
       "        vertical-align: top;\n",
       "    }\n",
       "\n",
       "    .dataframe thead th {\n",
       "        text-align: right;\n",
       "    }\n",
       "</style>\n",
       "<table border=\"1\" class=\"dataframe\">\n",
       "  <thead>\n",
       "    <tr style=\"text-align: right;\">\n",
       "      <th></th>\n",
       "      <th>Date</th>\n",
       "      <th>Open</th>\n",
       "      <th>High</th>\n",
       "      <th>Low</th>\n",
       "      <th>Close</th>\n",
       "      <th>Adj Close</th>\n",
       "      <th>Volume</th>\n",
       "    </tr>\n",
       "  </thead>\n",
       "  <tbody>\n",
       "    <tr>\n",
       "      <th>0</th>\n",
       "      <td>9/18/2019</td>\n",
       "      <td>7.349759e+05</td>\n",
       "      <td>7.314907e+05</td>\n",
       "      <td>7.254785e+05</td>\n",
       "      <td>7.259610e+05</td>\n",
       "      <td>7.259610e+05</td>\n",
       "      <td>1.151010e+12</td>\n",
       "    </tr>\n",
       "    <tr>\n",
       "      <th>1</th>\n",
       "      <td>9/19/2019</td>\n",
       "      <td>7.261210e+05</td>\n",
       "      <td>7.350398e+05</td>\n",
       "      <td>7.033428e+05</td>\n",
       "      <td>7.329512e+05</td>\n",
       "      <td>7.329512e+05</td>\n",
       "      <td>1.423410e+12</td>\n",
       "    </tr>\n",
       "    <tr>\n",
       "      <th>2</th>\n",
       "      <td>9/20/2019</td>\n",
       "      <td>7.329443e+05</td>\n",
       "      <td>7.324158e+05</td>\n",
       "      <td>7.214724e+05</td>\n",
       "      <td>7.249939e+05</td>\n",
       "      <td>7.249939e+05</td>\n",
       "      <td>1.049160e+12</td>\n",
       "    </tr>\n",
       "    <tr>\n",
       "      <th>3</th>\n",
       "      <td>9/21/2019</td>\n",
       "      <td>7.251369e+05</td>\n",
       "      <td>7.254537e+05</td>\n",
       "      <td>7.121104e+05</td>\n",
       "      <td>7.134639e+05</td>\n",
       "      <td>7.134639e+05</td>\n",
       "      <td>9.559600e+11</td>\n",
       "    </tr>\n",
       "    <tr>\n",
       "      <th>4</th>\n",
       "      <td>9/22/2019</td>\n",
       "      <td>7.137771e+05</td>\n",
       "      <td>7.173071e+05</td>\n",
       "      <td>7.064909e+05</td>\n",
       "      <td>7.170186e+05</td>\n",
       "      <td>7.170186e+05</td>\n",
       "      <td>9.398240e+11</td>\n",
       "    </tr>\n",
       "    <tr>\n",
       "      <th>...</th>\n",
       "      <td>...</td>\n",
       "      <td>...</td>\n",
       "      <td>...</td>\n",
       "      <td>...</td>\n",
       "      <td>...</td>\n",
       "      <td>...</td>\n",
       "      <td>...</td>\n",
       "    </tr>\n",
       "    <tr>\n",
       "      <th>614</th>\n",
       "      <td>5/24/2021</td>\n",
       "      <td>2.530005e+06</td>\n",
       "      <td>2.904816e+06</td>\n",
       "      <td>2.517616e+06</td>\n",
       "      <td>2.819222e+06</td>\n",
       "      <td>2.819222e+06</td>\n",
       "      <td>4.906260e+12</td>\n",
       "    </tr>\n",
       "    <tr>\n",
       "      <th>615</th>\n",
       "      <td>5/25/2021</td>\n",
       "      <td>2.825762e+06</td>\n",
       "      <td>2.897192e+06</td>\n",
       "      <td>2.662254e+06</td>\n",
       "      <td>2.795880e+06</td>\n",
       "      <td>2.795880e+06</td>\n",
       "      <td>4.092520e+12</td>\n",
       "    </tr>\n",
       "    <tr>\n",
       "      <th>616</th>\n",
       "      <td>5/26/2021</td>\n",
       "      <td>2.795181e+06</td>\n",
       "      <td>2.964039e+06</td>\n",
       "      <td>2.759740e+06</td>\n",
       "      <td>2.855618e+06</td>\n",
       "      <td>2.855618e+06</td>\n",
       "      <td>3.731510e+12</td>\n",
       "    </tr>\n",
       "    <tr>\n",
       "      <th>617</th>\n",
       "      <td>5/27/2021</td>\n",
       "      <td>2.857266e+06</td>\n",
       "      <td>2.931486e+06</td>\n",
       "      <td>2.710549e+06</td>\n",
       "      <td>2.793747e+06</td>\n",
       "      <td>2.793747e+06</td>\n",
       "      <td>3.140740e+12</td>\n",
       "    </tr>\n",
       "    <tr>\n",
       "      <th>618</th>\n",
       "      <td>5/28/2021</td>\n",
       "      <td>2.775090e+06</td>\n",
       "      <td>2.817992e+06</td>\n",
       "      <td>2.650561e+06</td>\n",
       "      <td>2.671673e+06</td>\n",
       "      <td>2.671673e+06</td>\n",
       "      <td>3.007150e+12</td>\n",
       "    </tr>\n",
       "  </tbody>\n",
       "</table>\n",
       "<p>619 rows × 7 columns</p>\n",
       "</div>"
      ],
      "text/plain": [
       "          Date          Open          High           Low         Close  \\\n",
       "0    9/18/2019  7.349759e+05  7.314907e+05  7.254785e+05  7.259610e+05   \n",
       "1    9/19/2019  7.261210e+05  7.350398e+05  7.033428e+05  7.329512e+05   \n",
       "2    9/20/2019  7.329443e+05  7.324158e+05  7.214724e+05  7.249939e+05   \n",
       "3    9/21/2019  7.251369e+05  7.254537e+05  7.121104e+05  7.134639e+05   \n",
       "4    9/22/2019  7.137771e+05  7.173071e+05  7.064909e+05  7.170186e+05   \n",
       "..         ...           ...           ...           ...           ...   \n",
       "614  5/24/2021  2.530005e+06  2.904816e+06  2.517616e+06  2.819222e+06   \n",
       "615  5/25/2021  2.825762e+06  2.897192e+06  2.662254e+06  2.795880e+06   \n",
       "616  5/26/2021  2.795181e+06  2.964039e+06  2.759740e+06  2.855618e+06   \n",
       "617  5/27/2021  2.857266e+06  2.931486e+06  2.710549e+06  2.793747e+06   \n",
       "618  5/28/2021  2.775090e+06  2.817992e+06  2.650561e+06  2.671673e+06   \n",
       "\n",
       "        Adj Close        Volume  \n",
       "0    7.259610e+05  1.151010e+12  \n",
       "1    7.329512e+05  1.423410e+12  \n",
       "2    7.249939e+05  1.049160e+12  \n",
       "3    7.134639e+05  9.559600e+11  \n",
       "4    7.170186e+05  9.398240e+11  \n",
       "..            ...           ...  \n",
       "614  2.819222e+06  4.906260e+12  \n",
       "615  2.795880e+06  4.092520e+12  \n",
       "616  2.855618e+06  3.731510e+12  \n",
       "617  2.793747e+06  3.140740e+12  \n",
       "618  2.671673e+06  3.007150e+12  \n",
       "\n",
       "[619 rows x 7 columns]"
      ]
     },
     "execution_count": 39,
     "metadata": {},
     "output_type": "execute_result"
    }
   ],
   "source": [
    "dataset"
   ]
  },
  {
   "cell_type": "code",
   "execution_count": 59,
   "id": "10683e93",
   "metadata": {},
   "outputs": [],
   "source": [
    "dataset = dataset.dropna(how='any',axis=0)"
   ]
  },
  {
   "cell_type": "code",
   "execution_count": 60,
   "id": "50ad5f78",
   "metadata": {},
   "outputs": [
    {
     "data": {
      "text/html": [
       "<div>\n",
       "<style scoped>\n",
       "    .dataframe tbody tr th:only-of-type {\n",
       "        vertical-align: middle;\n",
       "    }\n",
       "\n",
       "    .dataframe tbody tr th {\n",
       "        vertical-align: top;\n",
       "    }\n",
       "\n",
       "    .dataframe thead th {\n",
       "        text-align: right;\n",
       "    }\n",
       "</style>\n",
       "<table border=\"1\" class=\"dataframe\">\n",
       "  <thead>\n",
       "    <tr style=\"text-align: right;\">\n",
       "      <th></th>\n",
       "      <th>Open</th>\n",
       "      <th>High</th>\n",
       "      <th>Low</th>\n",
       "      <th>Close</th>\n",
       "      <th>Adj Close</th>\n",
       "      <th>Volume</th>\n",
       "      <th>Date</th>\n",
       "    </tr>\n",
       "  </thead>\n",
       "  <tbody>\n",
       "    <tr>\n",
       "      <th>0</th>\n",
       "      <td>7.349759e+05</td>\n",
       "      <td>7.314907e+05</td>\n",
       "      <td>7.254785e+05</td>\n",
       "      <td>7.259610e+05</td>\n",
       "      <td>7.259610e+05</td>\n",
       "      <td>1.151010e+12</td>\n",
       "      <td>585</td>\n",
       "    </tr>\n",
       "    <tr>\n",
       "      <th>1</th>\n",
       "      <td>7.261210e+05</td>\n",
       "      <td>7.350398e+05</td>\n",
       "      <td>7.033428e+05</td>\n",
       "      <td>7.329512e+05</td>\n",
       "      <td>7.329512e+05</td>\n",
       "      <td>1.423410e+12</td>\n",
       "      <td>587</td>\n",
       "    </tr>\n",
       "    <tr>\n",
       "      <th>2</th>\n",
       "      <td>7.329443e+05</td>\n",
       "      <td>7.324158e+05</td>\n",
       "      <td>7.214724e+05</td>\n",
       "      <td>7.249939e+05</td>\n",
       "      <td>7.249939e+05</td>\n",
       "      <td>1.049160e+12</td>\n",
       "      <td>590</td>\n",
       "    </tr>\n",
       "    <tr>\n",
       "      <th>3</th>\n",
       "      <td>7.251369e+05</td>\n",
       "      <td>7.254537e+05</td>\n",
       "      <td>7.121104e+05</td>\n",
       "      <td>7.134639e+05</td>\n",
       "      <td>7.134639e+05</td>\n",
       "      <td>9.559600e+11</td>\n",
       "      <td>592</td>\n",
       "    </tr>\n",
       "    <tr>\n",
       "      <th>4</th>\n",
       "      <td>7.137771e+05</td>\n",
       "      <td>7.173071e+05</td>\n",
       "      <td>7.064909e+05</td>\n",
       "      <td>7.170186e+05</td>\n",
       "      <td>7.170186e+05</td>\n",
       "      <td>9.398240e+11</td>\n",
       "      <td>594</td>\n",
       "    </tr>\n",
       "    <tr>\n",
       "      <th>...</th>\n",
       "      <td>...</td>\n",
       "      <td>...</td>\n",
       "      <td>...</td>\n",
       "      <td>...</td>\n",
       "      <td>...</td>\n",
       "      <td>...</td>\n",
       "      <td>...</td>\n",
       "    </tr>\n",
       "    <tr>\n",
       "      <th>614</th>\n",
       "      <td>2.530005e+06</td>\n",
       "      <td>2.904816e+06</td>\n",
       "      <td>2.517616e+06</td>\n",
       "      <td>2.819222e+06</td>\n",
       "      <td>2.819222e+06</td>\n",
       "      <td>4.906260e+12</td>\n",
       "      <td>458</td>\n",
       "    </tr>\n",
       "    <tr>\n",
       "      <th>615</th>\n",
       "      <td>2.825762e+06</td>\n",
       "      <td>2.897192e+06</td>\n",
       "      <td>2.662254e+06</td>\n",
       "      <td>2.795880e+06</td>\n",
       "      <td>2.795880e+06</td>\n",
       "      <td>4.092520e+12</td>\n",
       "      <td>460</td>\n",
       "    </tr>\n",
       "    <tr>\n",
       "      <th>616</th>\n",
       "      <td>2.795181e+06</td>\n",
       "      <td>2.964039e+06</td>\n",
       "      <td>2.759740e+06</td>\n",
       "      <td>2.855618e+06</td>\n",
       "      <td>2.855618e+06</td>\n",
       "      <td>3.731510e+12</td>\n",
       "      <td>462</td>\n",
       "    </tr>\n",
       "    <tr>\n",
       "      <th>617</th>\n",
       "      <td>2.857266e+06</td>\n",
       "      <td>2.931486e+06</td>\n",
       "      <td>2.710549e+06</td>\n",
       "      <td>2.793747e+06</td>\n",
       "      <td>2.793747e+06</td>\n",
       "      <td>3.140740e+12</td>\n",
       "      <td>464</td>\n",
       "    </tr>\n",
       "    <tr>\n",
       "      <th>618</th>\n",
       "      <td>2.775090e+06</td>\n",
       "      <td>2.817992e+06</td>\n",
       "      <td>2.650561e+06</td>\n",
       "      <td>2.671673e+06</td>\n",
       "      <td>2.671673e+06</td>\n",
       "      <td>3.007150e+12</td>\n",
       "      <td>466</td>\n",
       "    </tr>\n",
       "  </tbody>\n",
       "</table>\n",
       "<p>615 rows × 7 columns</p>\n",
       "</div>"
      ],
      "text/plain": [
       "             Open          High           Low         Close     Adj Close  \\\n",
       "0    7.349759e+05  7.314907e+05  7.254785e+05  7.259610e+05  7.259610e+05   \n",
       "1    7.261210e+05  7.350398e+05  7.033428e+05  7.329512e+05  7.329512e+05   \n",
       "2    7.329443e+05  7.324158e+05  7.214724e+05  7.249939e+05  7.249939e+05   \n",
       "3    7.251369e+05  7.254537e+05  7.121104e+05  7.134639e+05  7.134639e+05   \n",
       "4    7.137771e+05  7.173071e+05  7.064909e+05  7.170186e+05  7.170186e+05   \n",
       "..            ...           ...           ...           ...           ...   \n",
       "614  2.530005e+06  2.904816e+06  2.517616e+06  2.819222e+06  2.819222e+06   \n",
       "615  2.825762e+06  2.897192e+06  2.662254e+06  2.795880e+06  2.795880e+06   \n",
       "616  2.795181e+06  2.964039e+06  2.759740e+06  2.855618e+06  2.855618e+06   \n",
       "617  2.857266e+06  2.931486e+06  2.710549e+06  2.793747e+06  2.793747e+06   \n",
       "618  2.775090e+06  2.817992e+06  2.650561e+06  2.671673e+06  2.671673e+06   \n",
       "\n",
       "           Volume  Date  \n",
       "0    1.151010e+12   585  \n",
       "1    1.423410e+12   587  \n",
       "2    1.049160e+12   590  \n",
       "3    9.559600e+11   592  \n",
       "4    9.398240e+11   594  \n",
       "..            ...   ...  \n",
       "614  4.906260e+12   458  \n",
       "615  4.092520e+12   460  \n",
       "616  3.731510e+12   462  \n",
       "617  3.140740e+12   464  \n",
       "618  3.007150e+12   466  \n",
       "\n",
       "[615 rows x 7 columns]"
      ]
     },
     "execution_count": 60,
     "metadata": {},
     "output_type": "execute_result"
    }
   ],
   "source": [
    "dataset"
   ]
  },
  {
   "cell_type": "markdown",
   "id": "dc331b6a",
   "metadata": {},
   "source": [
    "# encoding strings to values"
   ]
  },
  {
   "cell_type": "code",
   "execution_count": 61,
   "id": "0b0c4c26",
   "metadata": {},
   "outputs": [],
   "source": [
    "from sklearn.preprocessing import LabelEncoder "
   ]
  },
  {
   "cell_type": "code",
   "execution_count": 62,
   "id": "7920c637",
   "metadata": {},
   "outputs": [],
   "source": [
    "le = LabelEncoder()"
   ]
  },
  {
   "cell_type": "code",
   "execution_count": 63,
   "id": "a8cd6b24",
   "metadata": {},
   "outputs": [],
   "source": [
    "label = le.fit_transform(dataset['Date'])"
   ]
  },
  {
   "cell_type": "code",
   "execution_count": 64,
   "id": "2f5bca38",
   "metadata": {},
   "outputs": [
    {
     "data": {
      "text/plain": [
       "array([581, 583, 586, 588, 590, 592, 594, 596, 598, 600, 602, 604, 607,\n",
       "        62,  82, 104, 110, 112, 114, 116, 118, 120,  64,  66,  68,  69,\n",
       "        70,  72,  74,  76,  78,  80,  84,  86,  88,  90,  92,  94,  96,\n",
       "        98, 100, 102, 106, 108, 121, 143, 165, 169, 171, 173, 175, 177,\n",
       "       179, 123, 125, 127, 129, 131, 133, 135, 137, 139, 141, 145, 147,\n",
       "       149, 151, 153, 155, 157, 159, 161, 163, 167, 181, 203, 225, 231,\n",
       "       233, 235, 237, 239, 241, 183, 185, 187, 189, 191, 193, 195, 197,\n",
       "       199, 201, 205, 207, 209, 211, 213, 215, 217, 219, 221, 223, 227,\n",
       "       229,   0,  22,  44,  50,  52,  54,  56,  58,  60,   2,   4,   6,\n",
       "         8,  10,  12,  14,  16,  18,  20,  24,  26,  28,  30,  32,  34,\n",
       "        36,  38,  40,  42,  46,  48, 243, 265, 286, 288, 290, 292, 294,\n",
       "       296, 298, 245, 247, 249, 251, 253, 255, 257, 259, 261, 263, 267,\n",
       "       269, 271, 273, 275, 277, 279, 281, 283, 285, 300, 322, 344, 350,\n",
       "       352, 354, 356, 358, 360, 302, 304, 306, 308, 310, 312, 314, 316,\n",
       "       318, 320, 324, 326, 328, 330, 332, 334, 336, 338, 340, 342, 346,\n",
       "       348, 362, 383, 405, 409, 411, 413, 415, 417, 419, 364, 366, 368,\n",
       "       370, 372, 374, 376, 379, 381, 385, 387, 389, 391, 393, 395, 397,\n",
       "       399, 401, 403, 407, 421, 443, 464, 468, 470, 472, 474, 476, 478,\n",
       "       423, 425, 427, 429, 431, 433, 435, 437, 439, 441, 445, 447, 449,\n",
       "       451, 453, 455, 457, 459, 461, 463, 466, 467, 480, 491, 502, 504,\n",
       "       505, 506, 507, 508, 509, 481, 482, 483, 484, 485, 486, 487, 488,\n",
       "       489, 490, 492, 493, 494, 495, 496, 497, 498, 499, 500, 501, 503,\n",
       "       510, 521, 532, 535, 536, 537, 538, 539, 540, 511, 512, 513, 514,\n",
       "       515, 516, 517, 518, 519, 520, 522, 523, 524, 525, 526, 527, 528,\n",
       "       529, 530, 531, 533, 534, 541, 552, 563, 566, 567, 568, 569, 570,\n",
       "       571, 542, 543, 544, 545, 546, 547, 548, 549, 550, 551, 553, 554,\n",
       "       555, 556, 557, 558, 559, 560, 561, 562, 564, 565, 572, 585, 606,\n",
       "       609, 610, 611, 612, 613, 614, 573, 574, 575, 576, 577, 578, 579,\n",
       "       580, 582, 584, 587, 589, 591, 593, 595, 597, 599, 601, 603, 605,\n",
       "       608,  63,  83, 105, 111, 113, 115, 117, 119,  65,  67,  71,  73,\n",
       "        75,  77,  79,  81,  85,  87,  89,  91,  93,  95,  97,  99, 101,\n",
       "       103, 107, 109, 122, 144, 166, 170, 172, 174, 176, 178, 180, 124,\n",
       "       126, 128, 130, 132, 134, 136, 138, 140, 142, 146, 148, 150, 152,\n",
       "       154, 156, 158, 160, 162, 164, 168, 182, 204, 226, 232, 234, 236,\n",
       "       238, 240, 242, 184, 186, 188, 190, 192, 194, 196, 198, 200, 202,\n",
       "       206, 208, 210, 212, 214, 216, 218, 220, 222, 224, 228, 230,   1,\n",
       "        23,  45,  51,  53,  55,  57,  59,  61,   3,   5,   7,   9,  11,\n",
       "        13,  15,  17,  19,  21,  25,  27,  29,  31,  33,  35,  37,  39,\n",
       "        41,  43,  47,  49, 244, 266, 287, 289, 291, 293, 295, 297, 299,\n",
       "       246, 248, 250, 252, 254, 256, 258, 260, 262, 264, 268, 270, 272,\n",
       "       274, 276, 278, 280, 282, 284, 301, 323, 345, 351, 353, 355, 357,\n",
       "       359, 361, 303, 305, 307, 309, 311, 313, 315, 317, 319, 321, 325,\n",
       "       327, 329, 331, 333, 335, 337, 339, 341, 343, 347, 349, 363, 384,\n",
       "       406, 410, 412, 414, 416, 418, 420, 365, 367, 369, 371, 373, 375,\n",
       "       377, 378, 380, 382, 386, 388, 390, 392, 394, 396, 398, 400, 402,\n",
       "       404, 408, 422, 444, 465, 469, 471, 473, 475, 477, 479, 424, 426,\n",
       "       428, 430, 432, 434, 436, 438, 440, 442, 446, 448, 450, 452, 454,\n",
       "       456, 458, 460, 462], dtype=int64)"
      ]
     },
     "execution_count": 64,
     "metadata": {},
     "output_type": "execute_result"
    }
   ],
   "source": [
    "label"
   ]
  },
  {
   "cell_type": "code",
   "execution_count": 65,
   "id": "297560a8",
   "metadata": {},
   "outputs": [
    {
     "name": "stderr",
     "output_type": "stream",
     "text": [
      "C:\\Users\\megha\\AppData\\Local\\Temp\\ipykernel_37992\\4020180490.py:1: SettingWithCopyWarning: \n",
      "A value is trying to be set on a copy of a slice from a DataFrame\n",
      "\n",
      "See the caveats in the documentation: https://pandas.pydata.org/pandas-docs/stable/user_guide/indexing.html#returning-a-view-versus-a-copy\n",
      "  dataset.drop(\"Date\", axis=1, inplace=True)\n"
     ]
    }
   ],
   "source": [
    "dataset.drop(\"Date\", axis=1, inplace=True) "
   ]
  },
  {
   "cell_type": "code",
   "execution_count": 66,
   "id": "7502dd4e",
   "metadata": {},
   "outputs": [
    {
     "name": "stderr",
     "output_type": "stream",
     "text": [
      "C:\\Users\\megha\\AppData\\Local\\Temp\\ipykernel_37992\\962266361.py:1: SettingWithCopyWarning: \n",
      "A value is trying to be set on a copy of a slice from a DataFrame.\n",
      "Try using .loc[row_indexer,col_indexer] = value instead\n",
      "\n",
      "See the caveats in the documentation: https://pandas.pydata.org/pandas-docs/stable/user_guide/indexing.html#returning-a-view-versus-a-copy\n",
      "  dataset[\"Date\"] = label\n"
     ]
    }
   ],
   "source": [
    "dataset[\"Date\"] = label"
   ]
  },
  {
   "cell_type": "code",
   "execution_count": 67,
   "id": "a740e148",
   "metadata": {},
   "outputs": [
    {
     "data": {
      "text/html": [
       "<div>\n",
       "<style scoped>\n",
       "    .dataframe tbody tr th:only-of-type {\n",
       "        vertical-align: middle;\n",
       "    }\n",
       "\n",
       "    .dataframe tbody tr th {\n",
       "        vertical-align: top;\n",
       "    }\n",
       "\n",
       "    .dataframe thead th {\n",
       "        text-align: right;\n",
       "    }\n",
       "</style>\n",
       "<table border=\"1\" class=\"dataframe\">\n",
       "  <thead>\n",
       "    <tr style=\"text-align: right;\">\n",
       "      <th></th>\n",
       "      <th>Open</th>\n",
       "      <th>High</th>\n",
       "      <th>Low</th>\n",
       "      <th>Close</th>\n",
       "      <th>Adj Close</th>\n",
       "      <th>Volume</th>\n",
       "      <th>Date</th>\n",
       "    </tr>\n",
       "  </thead>\n",
       "  <tbody>\n",
       "    <tr>\n",
       "      <th>0</th>\n",
       "      <td>7.349759e+05</td>\n",
       "      <td>7.314907e+05</td>\n",
       "      <td>7.254785e+05</td>\n",
       "      <td>7.259610e+05</td>\n",
       "      <td>7.259610e+05</td>\n",
       "      <td>1.151010e+12</td>\n",
       "      <td>581</td>\n",
       "    </tr>\n",
       "    <tr>\n",
       "      <th>1</th>\n",
       "      <td>7.261210e+05</td>\n",
       "      <td>7.350398e+05</td>\n",
       "      <td>7.033428e+05</td>\n",
       "      <td>7.329512e+05</td>\n",
       "      <td>7.329512e+05</td>\n",
       "      <td>1.423410e+12</td>\n",
       "      <td>583</td>\n",
       "    </tr>\n",
       "    <tr>\n",
       "      <th>2</th>\n",
       "      <td>7.329443e+05</td>\n",
       "      <td>7.324158e+05</td>\n",
       "      <td>7.214724e+05</td>\n",
       "      <td>7.249939e+05</td>\n",
       "      <td>7.249939e+05</td>\n",
       "      <td>1.049160e+12</td>\n",
       "      <td>586</td>\n",
       "    </tr>\n",
       "    <tr>\n",
       "      <th>3</th>\n",
       "      <td>7.251369e+05</td>\n",
       "      <td>7.254537e+05</td>\n",
       "      <td>7.121104e+05</td>\n",
       "      <td>7.134639e+05</td>\n",
       "      <td>7.134639e+05</td>\n",
       "      <td>9.559600e+11</td>\n",
       "      <td>588</td>\n",
       "    </tr>\n",
       "    <tr>\n",
       "      <th>4</th>\n",
       "      <td>7.137771e+05</td>\n",
       "      <td>7.173071e+05</td>\n",
       "      <td>7.064909e+05</td>\n",
       "      <td>7.170186e+05</td>\n",
       "      <td>7.170186e+05</td>\n",
       "      <td>9.398240e+11</td>\n",
       "      <td>590</td>\n",
       "    </tr>\n",
       "    <tr>\n",
       "      <th>...</th>\n",
       "      <td>...</td>\n",
       "      <td>...</td>\n",
       "      <td>...</td>\n",
       "      <td>...</td>\n",
       "      <td>...</td>\n",
       "      <td>...</td>\n",
       "      <td>...</td>\n",
       "    </tr>\n",
       "    <tr>\n",
       "      <th>614</th>\n",
       "      <td>2.530005e+06</td>\n",
       "      <td>2.904816e+06</td>\n",
       "      <td>2.517616e+06</td>\n",
       "      <td>2.819222e+06</td>\n",
       "      <td>2.819222e+06</td>\n",
       "      <td>4.906260e+12</td>\n",
       "      <td>454</td>\n",
       "    </tr>\n",
       "    <tr>\n",
       "      <th>615</th>\n",
       "      <td>2.825762e+06</td>\n",
       "      <td>2.897192e+06</td>\n",
       "      <td>2.662254e+06</td>\n",
       "      <td>2.795880e+06</td>\n",
       "      <td>2.795880e+06</td>\n",
       "      <td>4.092520e+12</td>\n",
       "      <td>456</td>\n",
       "    </tr>\n",
       "    <tr>\n",
       "      <th>616</th>\n",
       "      <td>2.795181e+06</td>\n",
       "      <td>2.964039e+06</td>\n",
       "      <td>2.759740e+06</td>\n",
       "      <td>2.855618e+06</td>\n",
       "      <td>2.855618e+06</td>\n",
       "      <td>3.731510e+12</td>\n",
       "      <td>458</td>\n",
       "    </tr>\n",
       "    <tr>\n",
       "      <th>617</th>\n",
       "      <td>2.857266e+06</td>\n",
       "      <td>2.931486e+06</td>\n",
       "      <td>2.710549e+06</td>\n",
       "      <td>2.793747e+06</td>\n",
       "      <td>2.793747e+06</td>\n",
       "      <td>3.140740e+12</td>\n",
       "      <td>460</td>\n",
       "    </tr>\n",
       "    <tr>\n",
       "      <th>618</th>\n",
       "      <td>2.775090e+06</td>\n",
       "      <td>2.817992e+06</td>\n",
       "      <td>2.650561e+06</td>\n",
       "      <td>2.671673e+06</td>\n",
       "      <td>2.671673e+06</td>\n",
       "      <td>3.007150e+12</td>\n",
       "      <td>462</td>\n",
       "    </tr>\n",
       "  </tbody>\n",
       "</table>\n",
       "<p>615 rows × 7 columns</p>\n",
       "</div>"
      ],
      "text/plain": [
       "             Open          High           Low         Close     Adj Close  \\\n",
       "0    7.349759e+05  7.314907e+05  7.254785e+05  7.259610e+05  7.259610e+05   \n",
       "1    7.261210e+05  7.350398e+05  7.033428e+05  7.329512e+05  7.329512e+05   \n",
       "2    7.329443e+05  7.324158e+05  7.214724e+05  7.249939e+05  7.249939e+05   \n",
       "3    7.251369e+05  7.254537e+05  7.121104e+05  7.134639e+05  7.134639e+05   \n",
       "4    7.137771e+05  7.173071e+05  7.064909e+05  7.170186e+05  7.170186e+05   \n",
       "..            ...           ...           ...           ...           ...   \n",
       "614  2.530005e+06  2.904816e+06  2.517616e+06  2.819222e+06  2.819222e+06   \n",
       "615  2.825762e+06  2.897192e+06  2.662254e+06  2.795880e+06  2.795880e+06   \n",
       "616  2.795181e+06  2.964039e+06  2.759740e+06  2.855618e+06  2.855618e+06   \n",
       "617  2.857266e+06  2.931486e+06  2.710549e+06  2.793747e+06  2.793747e+06   \n",
       "618  2.775090e+06  2.817992e+06  2.650561e+06  2.671673e+06  2.671673e+06   \n",
       "\n",
       "           Volume  Date  \n",
       "0    1.151010e+12   581  \n",
       "1    1.423410e+12   583  \n",
       "2    1.049160e+12   586  \n",
       "3    9.559600e+11   588  \n",
       "4    9.398240e+11   590  \n",
       "..            ...   ...  \n",
       "614  4.906260e+12   454  \n",
       "615  4.092520e+12   456  \n",
       "616  3.731510e+12   458  \n",
       "617  3.140740e+12   460  \n",
       "618  3.007150e+12   462  \n",
       "\n",
       "[615 rows x 7 columns]"
      ]
     },
     "execution_count": 67,
     "metadata": {},
     "output_type": "execute_result"
    }
   ],
   "source": [
    "dataset"
   ]
  },
  {
   "cell_type": "markdown",
   "id": "72cf058a",
   "metadata": {},
   "source": [
    "since all values are timestamps, they are encoded in diff values"
   ]
  },
  {
   "cell_type": "code",
   "execution_count": 68,
   "id": "f539bea1",
   "metadata": {},
   "outputs": [
    {
     "name": "stderr",
     "output_type": "stream",
     "text": [
      "C:\\Users\\megha\\AppData\\Local\\Temp\\ipykernel_37992\\1806314690.py:1: SettingWithCopyWarning: \n",
      "A value is trying to be set on a copy of a slice from a DataFrame\n",
      "\n",
      "See the caveats in the documentation: https://pandas.pydata.org/pandas-docs/stable/user_guide/indexing.html#returning-a-view-versus-a-copy\n",
      "  dataset.drop(\"Date\", axis=1, inplace=True)\n"
     ]
    }
   ],
   "source": [
    "dataset.drop(\"Date\", axis=1, inplace=True)"
   ]
  },
  {
   "cell_type": "code",
   "execution_count": 69,
   "id": "a8aa3182",
   "metadata": {},
   "outputs": [
    {
     "name": "stderr",
     "output_type": "stream",
     "text": [
      "C:\\Users\\megha\\AppData\\Local\\Temp\\ipykernel_37992\\962266361.py:1: SettingWithCopyWarning: \n",
      "A value is trying to be set on a copy of a slice from a DataFrame.\n",
      "Try using .loc[row_indexer,col_indexer] = value instead\n",
      "\n",
      "See the caveats in the documentation: https://pandas.pydata.org/pandas-docs/stable/user_guide/indexing.html#returning-a-view-versus-a-copy\n",
      "  dataset[\"Date\"] = label\n"
     ]
    }
   ],
   "source": [
    "dataset[\"Date\"] = label"
   ]
  },
  {
   "cell_type": "code",
   "execution_count": 70,
   "id": "724535f1",
   "metadata": {},
   "outputs": [
    {
     "name": "stderr",
     "output_type": "stream",
     "text": [
      "C:\\Users\\megha\\AppData\\Local\\Temp\\ipykernel_37992\\520698988.py:30: UserWarning: Matplotlib is currently using module://matplotlib_inline.backend_inline, which is a non-GUI backend, so cannot show the figure.\n",
      "  fig.show()\n"
     ]
    },
    {
     "data": {
      "image/png": "[encoded data removed]",
      "text/plain": [
       "<Figure size 648x864 with 2 Axes>"
      ]
     },
     "metadata": {
      "needs_background": "light"
     },
     "output_type": "display_data"
    }
   ],
   "source": [
    "import pandas as pd\n",
    "import matplotlib.pyplot as plt\n",
    "\n",
    "# This ensures plots are displayed inline in the Jupyter notebook\n",
    "%matplotlib inline\n",
    "\n",
    "# Get the label column\n",
    "\n",
    "label = dataset['Open']\n",
    "\n",
    "# Create a figure for 2 subplots (2 rows, 1 column)\n",
    "fig, ax = plt.subplots(2, 1, figsize = (9,12))\n",
    "\n",
    "# Plot the histogram   \n",
    "ax[0].hist(label, bins=100)\n",
    "ax[0].set_ylabel('High')\n",
    "\n",
    "# Add lines for the mean, median, and mode\n",
    "ax[0].axvline(label.mean(), color='magenta', linestyle='dashed', linewidth=2)\n",
    "ax[0].axvline(label.median(), color='cyan', linestyle='dashed', linewidth=2)\n",
    "\n",
    "# Plot the boxplot   \n",
    "ax[1].boxplot(label, vert=False)\n",
    "ax[1].set_xlabel('Date')\n",
    "\n",
    "# Add a title to the Figure\n",
    "fig.suptitle('Rental Distribution')\n",
    "\n",
    "# Show the figure\n",
    "fig.show()\n"
   ]
  },
  {
   "cell_type": "code",
   "execution_count": 72,
   "id": "eed34229",
   "metadata": {},
   "outputs": [
    {
     "name": "stdout",
     "output_type": "stream",
     "text": [
      "[[1.15101000e+12 7.34975875e+05 7.25961000e+05 7.25961000e+05\n",
      "  7.25478500e+05 5.81000000e+02]\n",
      " [1.42341000e+12 7.26121000e+05 7.32951188e+05 7.32951188e+05\n",
      "  7.03342812e+05 5.83000000e+02]\n",
      " [1.04916000e+12 7.32944312e+05 7.24993938e+05 7.24993938e+05\n",
      "  7.21472438e+05 5.86000000e+02]\n",
      " ...\n",
      " [3.73151000e+12 2.79518100e+06 2.85561750e+06 2.85561750e+06\n",
      "  2.75974025e+06 4.58000000e+02]\n",
      " [3.14074000e+12 2.85726650e+06 2.79374675e+06 2.79374675e+06\n",
      "  2.71054900e+06 4.60000000e+02]\n",
      " [3.00715000e+12 2.77509050e+06 2.67167275e+06 2.67167275e+06\n",
      "  2.65056100e+06 4.62000000e+02]]\n"
     ]
    }
   ],
   "source": [
    "#seLecting features and LabeLs\n",
    "x = dataset.iloc[:,[5,0,3,4,2,6]].values\n",
    "y = dataset.iloc[:,1].values\n",
    "print(x)\n"
   ]
  },
  {
   "cell_type": "code",
   "execution_count": 73,
   "id": "6ffd3d12",
   "metadata": {},
   "outputs": [
    {
     "name": "stdout",
     "output_type": "stream",
     "text": [
      "[ 731490.6875  735039.75    732415.8125  725453.6875  717307.0625\n",
      "  713261.      695793.75    620775.875   604371.375   584457.375\n",
      "  584211.5625  582515.      587364.75    604270.875   597178.3125\n",
      "  597643.8125  585018.4375  581862.5625  578038.1875  590651.875\n",
      "  593456.      613596.875   612307.9375  619682.5     597902.9375\n",
      "  600796.375   597777.1875  601366.0625  586387.      578630.5625\n",
      "  578563.875   574598.1875  588340.3125  588397.375   587767.9375\n",
      "  572377.4375  534905.875   615708.6875  709940.375   690656.625\n",
      "  693664.0625  674645.75    667821.9375  666016.75    655835.375\n",
      "  661320.125   661483.75    672853.1875  669325.125   669144.0625\n",
      "  665602.125   661861.75    634671.3125  649746.3125  649933.5625\n",
      "  635611.9375  637591.25    635238.0625  625436.125   615620.8125\n",
      "  625299.125   622561.0625  604244.375   591254.25    581903.625\n",
      "  552615.125   534299.125   531889.3125  524756.125   522945.5313\n",
      "  542812.5625  553143.9375  558330.75    562271.625   543275.375\n",
      "  535458.5625  532347.625   539020.      552842.25    538078.25\n",
      "  541140.8125  544293.375   540655.875   525859.8125  518105.6563\n",
      "  512805.9688  515578.1563  516658.      507606.6563  508462.75\n",
      "  494693.      520073.25    523310.9688  516034.625   513567.7813\n",
      "  534532.625   545278.25    536995.125   524261.2188  526791.875\n",
      "  525958.5     528495.      536733.5625  531692.9375  523013.5313\n",
      "  516711.4063  514590.875   532015.625   532996.625   541420.625\n",
      "  558713.125   588557.5625  599920.875   575428.375   579751.875\n",
      "  583178.8125  581895.4375  579820.625   629158.6875  628744.6875\n",
      "  627706.      636418.125   640259.875   651116.      621273.625\n",
      "  623231.1875  625266.25    619705.5625  607312.875   603303.375\n",
      "  613582.25    641458.5625  666709.6875  670772.625   683717.25\n",
      "  680792.4375  674902.1875  677009.5625  680458.4375  663546.3125\n",
      "  690635.5625  700524.8125  703339.625   706345.625   724414.5\n",
      "  724824.125   727826.625   741127.9375  745404.      738300.375\n",
      "  739699.4375  719139.875   710903.25    727619.875   730122.\n",
      "  690410.4375  697942.375   697181.5625  714347.8125  715378.75\n",
      "  695472.      672421.4375  640131.1875  637712.875   633381.25\n",
      "  629856.5625  645929.5     651223.125   650208.5     674889.3125\n",
      "  678042.875   678126.9375  659708.6875  605200.0625  600579.75\n",
      "  585056.6875  588143.      430809.0625  416036.125   431477.5938\n",
      "  398106.4375  397345.5313  399461.      475737.875   514568.625\n",
      "  482331.1563  480936.8438  493379.8438  516593.6563  523761.9063\n",
      "  510282.125   506582.3438  484260.625   468010.      491463.0313\n",
      "  490440.4688  506430.5625  540461.      534118.125   525689.625\n",
      "  526030.5     552472.875   560828.      557804.      557722.5\n",
      "  554439.9375  527603.75    542372.625   530616.25    528885.125\n",
      "  526873.      548413.8125  556158.9375  556967.1875  554054.375\n",
      "  532105.5     546419.25    569225.8125  578047.5     583173.625\n",
      "  587412.875   593921.875   594383.875   667758.25    707954.4375\n",
      "  684844.9375  683024.0625  691337.8125  677503.125   684506.8125\n",
      "  717596.6875  756565.5625  757394.25    748843.625   724504.75\n",
      "  685381.1875  672719.0625  702900.625   739127.375   736516.125\n",
      "  725703.1875  745339.9375  751174.4375  744117.625   742369.875\n",
      "  721803.      701472.3125  706944.5     705873.125   679157.5625\n",
      "  680399.8125  698497.9375  722656.25    724728.5     732879.4375\n",
      "  732601.      770001.875   763553.9375  729389.9375  745624.75\n",
      "  745899.25    738524.5     738194.1875  738466.4375  741707.875\n",
      "  749608.5     751236.4375  724027.375   721075.875   720244.875\n",
      "  721046.75    726470.375   728927.      724326.625   718565.4375\n",
      "  716387.75    716855.625   731543.6875  730299.75    732440.75\n",
      "  705446.875   705131.9375  696368.3125  695592.0625  697373.9375\n",
      "  695808.25    703142.5625  692955.75    687875.6875  685803.4375\n",
      "  684226.8125  699483.0625  698375.5625  708260.5     706637.0625\n",
      "  698034.3125  698489.8125  700778.375   699493.1875  699261.375\n",
      "  698685.6875  692463.4375  688381.1875  691377.9375  689162.125\n",
      "  690701.75    701946.875   711032.5     719008.      719101.\n",
      "  725170.125   749026.      844274.75    838111.1875  845689.875\n",
      "  836322.375   855488.1875  883781.3125  901717.1875  861675.75\n",
      "  855775.9375  882705.0625  892378.25    892382.75    885308.8125\n",
      "  885755.375   902903.8125  893479.0625  877887.6875  882652.9375\n",
      "  909529.1875  895502.      893383.4375  923830.75    922063.25\n",
      "  897081.625   892342.1875  892505.75    875879.125   877679.125\n",
      "  875105.5     873591.0625  856043.6875  855094.4375  844313.5625\n",
      "  847240.5     856720.3125  863236.4375  881649.3125  874225.9375\n",
      "  838189.375   780135.0625  775059.875   758517.      764267.625\n",
      "  768096.375   759233.      770357.4375  766641.25    777296.\n",
      "  777176.75    792928.1875  805171.375   815449.      812299.5625\n",
      "  810188.4375  819582.25    816768.625   806349.1875  776882.5625\n",
      "  782580.75    795888.3125  792858.25    794370.      796303.375\n",
      "  807396.0625  800548.1875  800413.8125  799047.4375  781770.75\n",
      "  778252.8125  784609.8125  789945.875   789906.0625  783910.625\n",
      "  802138.375   834837.4375  833859.9375  845284.3125  848900.8125\n",
      "  846780.875   836258.375   843384.5     865449.4375  881448.\n",
      "  971858.125   969913.375   958655.4375  970554.8125  984149.\n",
      "  978685.3125 1015658.938  1019734.375  1012870.438  1016995.625\n",
      " 1046699.188  1034299.813  1031586.063  1044144.625  1056543.875\n",
      " 1164434.25   1176536.375  1164248.375  1156867.     1167243.875\n",
      " 1145966.25   1185911.125  1217627.5    1229186.25   1216295.125\n",
      " 1201782.75   1249956.125  1323503.75   1370303.875  1343927.625\n",
      " 1391527.125  1404390.     1386023.5    1385646.625  1432885.5\n",
      " 1432784.125  1392131.875  1288080.625  1320521.125  1352301.875\n",
      " 1460409.875  1461725.75   1423786.75   1444759.     1441099.75\n",
      " 1414013.375  1431076.625  1432650.625  1422506.5    1374761.\n",
      " 1369559.125  1348075.625  1395095.5    1429161.5    1421642.25\n",
      " 1434595.25   1579503.5    1737833.625  1708066.25   1772890.\n",
      " 1782002.875  1773343.25   1763343.25   1772905.25   1748355.125\n",
      " 1817651.625  1965356.     2089131.     2013748.875  2010052.25\n",
      " 2117999.5    2140422.25   2163227.25   2423382.25   2529617.25\n",
      " 2437574.75   2518591.25   2697471.5    2951202.     3074446.\n",
      " 3038962.     3039347.25   2812961.5    2680655.75   2751168.5\n",
      " 2920723.25   2891636.5    2770214.     2686699.     2734263.25\n",
      " 2762476.     2662615.25   2592080.25   2467827.25   2435331.5\n",
      " 2404893.     2538292.5    2391150.75   2374574.     2331062.75\n",
      " 2798397.5    2539702.75   2499854.     2530964.     2617681.5\n",
      " 2729425.25   2814054.75   2785829.25   2973150.75   2884006.\n",
      " 3369659.75   3498895.5    3435026.25   3524534.75   3546137.5\n",
      " 3487831.5    3592359.75   3548124.5    3660943.5    3821847.5\n",
      " 3819792.25   4071219.25   4172082.     4232134.     4174758.75\n",
      " 3927589.     3712092.75   3773175.5    3578067.25   3551267.\n",
      " 3438161.25   3649731.     3674925.5    3825755.5    3775394.25\n",
      " 3613869.75   3596637.75   3760474.75   3837072.25   3989882.75\n",
      " 4164058.     4219685.5    4212831.     4483754.     4477506.5\n",
      " 4402540.     4121218.25   4263208.     4366282.5    4311526.\n",
      " 4348789.5    4257267.     4231253.5    4061500.     4158823.5\n",
      " 3876474.     3994554.75   4098219.75   4101269.5    4238953.5\n",
      " 4367168.5    4399296.     4372515.     4416861.5    4410660.\n",
      " 4322864.     4385289.     4357601.5    4339996.5    4348846.\n",
      " 4402753.5    4579187.     4542860.     4587947.     4798035.\n",
      " 4874119.     4769128.5    4750986.     4665594.     4552071.5\n",
      " 4303363.5    4305217.     4282363.5    4158152.5    3913857.75\n",
      " 3830828.5    3781350.25   4058248.5    4132692.5    4180402.75\n",
      " 4095771.75   4290183.     4330759.     4290321.5    4365466.5\n",
      " 4224560.5    4271334.     4302187.     4294404.     4358518.\n",
      " 4339921.     4365943.     4172762.5    4256196.5    3777385.5\n",
      " 3768570.25   3710829.     3643440.     3416539.75   3345688.5\n",
      " 3184372.5    3103174.25   3079511.5    2831381.75   2791873.75\n",
      " 2904816.25   2897192.25   2964039.25   2931485.5    2817991.75  ]\n"
     ]
    }
   ],
   "source": [
    "print(y)"
   ]
  },
  {
   "cell_type": "markdown",
   "id": "8797447a",
   "metadata": {},
   "source": [
    "# Encoding the datas, categorical encoding"
   ]
  },
  {
   "cell_type": "code",
   "execution_count": 92,
   "id": "e1ec9875",
   "metadata": {},
   "outputs": [
    {
     "name": "stdout",
     "output_type": "stream",
     "text": [
      "Training Set: 2580, rows\n",
      "Test Set: 1110 rows\n"
     ]
    }
   ],
   "source": [
    " from sklearn.model_selection import train_test_split\n",
    "# SpLit data 70%-30% into training set and test set\n",
    "X_train, X_test, y_train, y_test = train_test_split(x, y, test_size=0.30, random_state=0)\n",
    "print ('Training Set: %d, rows\\nTest Set: %d rows' % (X_train.size, X_test.size))\n"
   ]
  },
  {
   "cell_type": "code",
   "execution_count": 93,
   "id": "756b57ae",
   "metadata": {},
   "outputs": [
    {
     "name": "stdout",
     "output_type": "stream",
     "text": [
      "LinearRegression(normalize=False)\n"
     ]
    },
    {
     "name": "stderr",
     "output_type": "stream",
     "text": [
      "C:\\Users\\megha\\anaconda3\\lib\\site-packages\\sklearn\\linear_model\\_base.py:148: FutureWarning: 'normalize' was deprecated in version 1.0 and will be removed in 1.2. Please leave the normalize parameter to its default value to silence this warning. The default behavior of this estimator is to not do any normalization. If normalization is needed please use sklearn.preprocessing.StandardScaler instead.\n",
      "  warnings.warn(\n"
     ]
    }
   ],
   "source": [
    "# Train the modeL\n",
    "from sklearn.linear_model import LinearRegression\n",
    "# Fit a Linear regression modeL on the training set\n",
    "model = LinearRegression(normalize=False).fit(X_train, y_train)\n",
    "print (model)\n"
   ]
  },
  {
   "cell_type": "code",
   "execution_count": 94,
   "id": "f056cd52",
   "metadata": {},
   "outputs": [
    {
     "name": "stdout",
     "output_type": "stream",
     "text": [
      "Pipeline(steps=[('preprocessor',\n",
      "                 ColumnTransformer(transformers=[('num',\n",
      "                                                  Pipeline(steps=[('scaler',\n",
      "                                                                   StandardScaler())]),\n",
      "                                                  [1, 2, 3, 4]),\n",
      "                                                 ('cat',\n",
      "                                                  Pipeline(steps=[('onehot',\n",
      "                                                                   OneHotEncoder(handle_unknown='ignore'))]),\n",
      "                                                  [0])])),\n",
      "                ('regressor', LinearRegression(normalize=False))])\n"
     ]
    },
    {
     "name": "stderr",
     "output_type": "stream",
     "text": [
      "C:\\Users\\megha\\anaconda3\\lib\\site-packages\\sklearn\\linear_model\\_base.py:148: FutureWarning: 'normalize' was deprecated in version 1.0 and will be removed in 1.2. Please leave the normalize parameter to its default value to silence this warning. The default behavior of this estimator is to not do any normalization. If normalization is needed please use sklearn.preprocessing.StandardScaler instead.\n",
      "  warnings.warn(\n"
     ]
    }
   ],
   "source": [
    "from sklearn.compose import ColumnTransformer\n",
    "from sklearn.pipeline import Pipeline\n",
    "from sklearn.impute import SimpleImputer\n",
    "from sklearn.preprocessing import StandardScaler, OneHotEncoder\n",
    "from sklearn.linear_model import LinearRegression\n",
    "import numpy as np\n",
    "\n",
    "# Define preprocessing for numeric columns (scale them)\n",
    "numeric_features = [1,2,3,4]\n",
    "numeric_transformer = Pipeline(steps=[\n",
    "    ('scaler', StandardScaler())])\n",
    "\n",
    "# Define preprocessing for categorical features (encode them)\n",
    "categorical_features = [0]\n",
    "categorical_transformer = Pipeline(steps=[\n",
    "    ('onehot', OneHotEncoder(handle_unknown='ignore'))])\n",
    "\n",
    "# Combine preprocessing steps\n",
    "preprocessor = ColumnTransformer(\n",
    "    transformers=[\n",
    "        ('num', numeric_transformer, numeric_features),\n",
    "        ('cat', categorical_transformer, categorical_features)])\n",
    "\n",
    "# Create preprocessing and training pipeline\n",
    "pipeline = Pipeline(steps=[('preprocessor', preprocessor),\n",
    "                           ('regressor', LinearRegression(normalize=False))])\n",
    "\n",
    "\n",
    "# fit the pipeline to train a linear regression model on the training set\n",
    "model = pipeline.fit(X_train, (y_train))\n",
    "print (model)"
   ]
  },
  {
   "cell_type": "code",
   "execution_count": 95,
   "id": "ed8b2ecc",
   "metadata": {},
   "outputs": [
    {
     "name": "stdout",
     "output_type": "stream",
     "text": [
      "Predicted labels:  [ 678269. 2571602.  538605.  687165.  713858. 4487754. 1018850.  857321.\n",
      " 3026821. 2703510.]\n",
      "Actual labels   :  [ 669144.0625 2539702.75    548413.8125  679157.5625  703339.625\n",
      " 4416861.5    1019734.375   846780.875  3074446.     2686699.    ]\n"
     ]
    }
   ],
   "source": [
    "predictions = model.predict(X_test)\n",
    "np.set_printoptions(suppress=True)\n",
    "print('Predicted labels: ', np.round(predictions)[:10])\n",
    "print('Actual labels   : ' ,y_test[:10])\n"
   ]
  },
  {
   "cell_type": "code",
   "execution_count": 96,
   "id": "158c092e",
   "metadata": {},
   "outputs": [
    {
     "name": "stdout",
     "output_type": "stream",
     "text": [
      "MSE: 1414490421.824246\n",
      "RMSE: 37609.71180193018\n",
      "R2: 0.9991103128882528\n"
     ]
    }
   ],
   "source": [
    "from sklearn.metrics import mean_squared_error, r2_score\n",
    "mse = mean_squared_error(y_test, predictions) \n",
    "print(\"MSE:\", mse)\n",
    "rmse = np.sqrt(mse) \n",
    "print(\"RMSE:\", rmse)\n",
    "r2 = r2_score(y_test, predictions) \n",
    "print(\"R2:\", r2)\n"
   ]
  },
  {
   "cell_type": "code",
   "execution_count": 97,
   "id": "cf664e64",
   "metadata": {},
   "outputs": [
    {
     "name": "stdout",
     "output_type": "stream",
     "text": [
      "Predicted labels: [ 678269. 2571602.  538605.  687165.  713858. 4487754. 1018850.  857321.\n",
      " 3026821. 2703510.]\n",
      "Actual labels:  [ 669144.0625 2539702.75    548413.8125  679157.5625  703339.625\n",
      " 4416861.5    1019734.375   846780.875  3074446.     2686699.    ]\n",
      "MSE: 1414490421.824246\n",
      "RMSE: 37609.71180193018\n",
      "R2: 0.9991103128882528\n"
     ]
    },
    {
     "data": {
      "image/png": "[encoded data removed]",
      "text/plain": [
       "<Figure size 432x288 with 1 Axes>"
      ]
     },
     "metadata": {
      "needs_background": "light"
     },
     "output_type": "display_data"
    }
   ],
   "source": [
    "predictions = model.predict(X_test)\n",
    "np.set_printoptions(suppress=True)\n",
    "print('Predicted labels:' , np.round(predictions)[:10]) \n",
    "print('Actual labels: ' ,y_test[:10])\n",
    "mse = mean_squared_error(y_test, predictions) \n",
    "print(\"MSE:\", mse)\n",
    "rmse = np.sqrt(mse)\n",
    "print(\"RMSE:\", rmse)\n",
    "r2 = r2_score(y_test, predictions)\n",
    "print(\"R2:\", r2)\n",
    "plt.scatter(y_test, predictions)\n",
    "plt.xlabel('Actual Labels')\n",
    "plt.ylabel('Predicted Labels')\n",
    "plt.title('Daily Bitcoin high values - Preprocessed')\n",
    "z = np.polyfit(y_test, predictions, 1)\n",
    "p = np.poly1d(z)\n",
    "plt.plot(y_test,p(y_test), color='magenta') \n",
    "plt.show()\n"
   ]
  },
  {
   "cell_type": "markdown",
   "id": "070cb6d3",
   "metadata": {},
   "source": [
    "# trying a different algorithim"
   ]
  },
  {
   "cell_type": "code",
   "execution_count": 98,
   "id": "37772848",
   "metadata": {},
   "outputs": [
    {
     "name": "stdout",
     "output_type": "stream",
     "text": [
      "Pipeline(steps=[('preprocessor',\n",
      "                 ColumnTransformer(transformers=[('num',\n",
      "                                                  Pipeline(steps=[('scaler',\n",
      "                                                                   StandardScaler())]),\n",
      "                                                  [1, 2, 3, 4]),\n",
      "                                                 ('cat',\n",
      "                                                  Pipeline(steps=[('onehot',\n",
      "                                                                   OneHotEncoder(handle_unknown='ignore'))]),\n",
      "                                                  [0])])),\n",
      "                ('regressor', GradientBoostingRegressor())])\n"
     ]
    }
   ],
   "source": [
    "from sklearn.ensemble import GradientBoostingRegressor\n",
    "pipeline = Pipeline(steps=[('preprocessor', preprocessor),\n",
    "('regressor', GradientBoostingRegressor())])\n",
    "# train a Logistic regression modeL on the training set \n",
    "model = pipeline.fit(X_train, (y_train))\n",
    "print (model)\n"
   ]
  },
  {
   "cell_type": "code",
   "execution_count": 101,
   "id": "e55afebe",
   "metadata": {},
   "outputs": [
    {
     "name": "stdout",
     "output_type": "stream",
     "text": [
      "MSE: 1909093846.615205\n",
      "RMSE: 43693.17849064319\n",
      "R2: 0.9987992169022546\n"
     ]
    },
    {
     "data": {
      "image/png": "[encoded data removed]",
      "text/plain": [
       "<Figure size 432x288 with 1 Axes>"
      ]
     },
     "metadata": {
      "needs_background": "light"
     },
     "output_type": "display_data"
    }
   ],
   "source": [
    "predictions = model.predict(X_test)\n",
    "mse = mean_squared_error(y_test, predictions) \n",
    "print(\"MSE:\", mse)\n",
    "rmse = np.sqrt(mse)\n",
    "print(\"RMSE:\", rmse)\n",
    "r2 = r2_score(y_test, predictions)\n",
    "print(\"R2:\", r2)\n",
    "plt.scatter(y_test, predictions)\n",
    "plt.xlabel('Bitcoin function Labels') \n",
    "plt.ylabel('Open')\n",
    "plt.title('Bitterx value prediction')\n",
    "z = np.polyfit(y_test, predictions, 1)\n",
    "p = np.poly1d(z)\n",
    "plt.plot(y_test,p(y_test), color='black') \n",
    "plt.show()\n"
   ]
  },
  {
   "cell_type": "code",
   "execution_count": null,
   "id": "4badc0ef",
   "metadata": {},
   "outputs": [],
   "source": []
  }
 ],
 "metadata": {
  "kernelspec": {
   "display_name": "Python 3 (ipykernel)",
   "language": "python",
   "name": "python3"
  },
  "language_info": {
   "codemirror_mode": {
    "name": "ipython",
    "version": 3
   },
   "file_extension": ".py",
   "mimetype": "text/x-python",
   "name": "python",
   "nbconvert_exporter": "python",
   "pygments_lexer": "ipython3",
   "version": "3.9.12"
  }
 },
 "nbformat": 4,
 "nbformat_minor": 5
}
