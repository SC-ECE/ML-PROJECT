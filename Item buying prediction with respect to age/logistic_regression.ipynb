{
 "cells": [
  {
   "cell_type": "code",
   "execution_count": 2,
   "id": "113885b4",
   "metadata": {},
   "outputs": [],
   "source": [
    "import numpy as np\n"
   ]
  },
  {
   "cell_type": "code",
   "execution_count": 3,
   "id": "a821b587",
   "metadata": {},
   "outputs": [],
   "source": [
    "import pandas as pd"
   ]
  },
  {
   "cell_type": "code",
   "execution_count": 4,
   "id": "64353d51",
   "metadata": {},
   "outputs": [],
   "source": [
    "age = np.random.randint(18,95, 100)\n",
    "salary = np.random.randint(2000,20000,100)\n",
    "\n"
   ]
  },
  {
   "cell_type": "code",
   "execution_count": 5,
   "id": "8279214b",
   "metadata": {},
   "outputs": [
    {
     "data": {
      "text/html": [
       "<div>\n",
       "<style scoped>\n",
       "    .dataframe tbody tr th:only-of-type {\n",
       "        vertical-align: middle;\n",
       "    }\n",
       "\n",
       "    .dataframe tbody tr th {\n",
       "        vertical-align: top;\n",
       "    }\n",
       "\n",
       "    .dataframe thead th {\n",
       "        text-align: right;\n",
       "    }\n",
       "</style>\n",
       "<table border=\"1\" class=\"dataframe\">\n",
       "  <thead>\n",
       "    <tr style=\"text-align: right;\">\n",
       "      <th></th>\n",
       "      <th>Age</th>\n",
       "      <th>Salary</th>\n",
       "    </tr>\n",
       "  </thead>\n",
       "  <tbody>\n",
       "    <tr>\n",
       "      <th>0</th>\n",
       "      <td>76</td>\n",
       "      <td>19322</td>\n",
       "    </tr>\n",
       "    <tr>\n",
       "      <th>1</th>\n",
       "      <td>46</td>\n",
       "      <td>11758</td>\n",
       "    </tr>\n",
       "    <tr>\n",
       "      <th>2</th>\n",
       "      <td>87</td>\n",
       "      <td>6073</td>\n",
       "    </tr>\n",
       "    <tr>\n",
       "      <th>3</th>\n",
       "      <td>77</td>\n",
       "      <td>10697</td>\n",
       "    </tr>\n",
       "    <tr>\n",
       "      <th>4</th>\n",
       "      <td>20</td>\n",
       "      <td>6701</td>\n",
       "    </tr>\n",
       "    <tr>\n",
       "      <th>...</th>\n",
       "      <td>...</td>\n",
       "      <td>...</td>\n",
       "    </tr>\n",
       "    <tr>\n",
       "      <th>95</th>\n",
       "      <td>57</td>\n",
       "      <td>16324</td>\n",
       "    </tr>\n",
       "    <tr>\n",
       "      <th>96</th>\n",
       "      <td>18</td>\n",
       "      <td>15577</td>\n",
       "    </tr>\n",
       "    <tr>\n",
       "      <th>97</th>\n",
       "      <td>46</td>\n",
       "      <td>11457</td>\n",
       "    </tr>\n",
       "    <tr>\n",
       "      <th>98</th>\n",
       "      <td>83</td>\n",
       "      <td>10508</td>\n",
       "    </tr>\n",
       "    <tr>\n",
       "      <th>99</th>\n",
       "      <td>70</td>\n",
       "      <td>8827</td>\n",
       "    </tr>\n",
       "  </tbody>\n",
       "</table>\n",
       "<p>100 rows × 2 columns</p>\n",
       "</div>"
      ],
      "text/plain": [
       "    Age  Salary\n",
       "0    76   19322\n",
       "1    46   11758\n",
       "2    87    6073\n",
       "3    77   10697\n",
       "4    20    6701\n",
       "..  ...     ...\n",
       "95   57   16324\n",
       "96   18   15577\n",
       "97   46   11457\n",
       "98   83   10508\n",
       "99   70    8827\n",
       "\n",
       "[100 rows x 2 columns]"
      ]
     },
     "execution_count": 5,
     "metadata": {},
     "output_type": "execute_result"
    }
   ],
   "source": [
    "df = pd.DataFrame({'Age': age, 'Salary': salary})\n",
    "df"
   ]
  },
  {
   "cell_type": "code",
   "execution_count": 6,
   "id": "6366d047",
   "metadata": {},
   "outputs": [
    {
     "data": {
      "text/html": [
       "<div>\n",
       "<style scoped>\n",
       "    .dataframe tbody tr th:only-of-type {\n",
       "        vertical-align: middle;\n",
       "    }\n",
       "\n",
       "    .dataframe tbody tr th {\n",
       "        vertical-align: top;\n",
       "    }\n",
       "\n",
       "    .dataframe thead th {\n",
       "        text-align: right;\n",
       "    }\n",
       "</style>\n",
       "<table border=\"1\" class=\"dataframe\">\n",
       "  <thead>\n",
       "    <tr style=\"text-align: right;\">\n",
       "      <th></th>\n",
       "      <th>Age</th>\n",
       "      <th>Salary</th>\n",
       "      <th>Purchased</th>\n",
       "    </tr>\n",
       "  </thead>\n",
       "  <tbody>\n",
       "    <tr>\n",
       "      <th>0</th>\n",
       "      <td>76</td>\n",
       "      <td>19322</td>\n",
       "      <td>76</td>\n",
       "    </tr>\n",
       "    <tr>\n",
       "      <th>1</th>\n",
       "      <td>46</td>\n",
       "      <td>11758</td>\n",
       "      <td>46</td>\n",
       "    </tr>\n",
       "    <tr>\n",
       "      <th>2</th>\n",
       "      <td>87</td>\n",
       "      <td>6073</td>\n",
       "      <td>87</td>\n",
       "    </tr>\n",
       "    <tr>\n",
       "      <th>3</th>\n",
       "      <td>77</td>\n",
       "      <td>10697</td>\n",
       "      <td>77</td>\n",
       "    </tr>\n",
       "    <tr>\n",
       "      <th>4</th>\n",
       "      <td>20</td>\n",
       "      <td>6701</td>\n",
       "      <td>20</td>\n",
       "    </tr>\n",
       "    <tr>\n",
       "      <th>...</th>\n",
       "      <td>...</td>\n",
       "      <td>...</td>\n",
       "      <td>...</td>\n",
       "    </tr>\n",
       "    <tr>\n",
       "      <th>95</th>\n",
       "      <td>57</td>\n",
       "      <td>16324</td>\n",
       "      <td>57</td>\n",
       "    </tr>\n",
       "    <tr>\n",
       "      <th>96</th>\n",
       "      <td>18</td>\n",
       "      <td>15577</td>\n",
       "      <td>18</td>\n",
       "    </tr>\n",
       "    <tr>\n",
       "      <th>97</th>\n",
       "      <td>46</td>\n",
       "      <td>11457</td>\n",
       "      <td>46</td>\n",
       "    </tr>\n",
       "    <tr>\n",
       "      <th>98</th>\n",
       "      <td>83</td>\n",
       "      <td>10508</td>\n",
       "      <td>83</td>\n",
       "    </tr>\n",
       "    <tr>\n",
       "      <th>99</th>\n",
       "      <td>70</td>\n",
       "      <td>8827</td>\n",
       "      <td>70</td>\n",
       "    </tr>\n",
       "  </tbody>\n",
       "</table>\n",
       "<p>100 rows × 3 columns</p>\n",
       "</div>"
      ],
      "text/plain": [
       "    Age  Salary  Purchased\n",
       "0    76   19322         76\n",
       "1    46   11758         46\n",
       "2    87    6073         87\n",
       "3    77   10697         77\n",
       "4    20    6701         20\n",
       "..  ...     ...        ...\n",
       "95   57   16324         57\n",
       "96   18   15577         18\n",
       "97   46   11457         46\n",
       "98   83   10508         83\n",
       "99   70    8827         70\n",
       "\n",
       "[100 rows x 3 columns]"
      ]
     },
     "execution_count": 6,
     "metadata": {},
     "output_type": "execute_result"
    }
   ],
   "source": [
    "df['Purchased'] = df['Age']\n",
    "df"
   ]
  },
  {
   "cell_type": "code",
   "execution_count": 7,
   "id": "121d1e9a",
   "metadata": {},
   "outputs": [
    {
     "data": {
      "text/html": [
       "<div>\n",
       "<style scoped>\n",
       "    .dataframe tbody tr th:only-of-type {\n",
       "        vertical-align: middle;\n",
       "    }\n",
       "\n",
       "    .dataframe tbody tr th {\n",
       "        vertical-align: top;\n",
       "    }\n",
       "\n",
       "    .dataframe thead th {\n",
       "        text-align: right;\n",
       "    }\n",
       "</style>\n",
       "<table border=\"1\" class=\"dataframe\">\n",
       "  <thead>\n",
       "    <tr style=\"text-align: right;\">\n",
       "      <th></th>\n",
       "      <th>Age</th>\n",
       "      <th>Salary</th>\n",
       "      <th>Purchased</th>\n",
       "    </tr>\n",
       "  </thead>\n",
       "  <tbody>\n",
       "    <tr>\n",
       "      <th>0</th>\n",
       "      <td>76</td>\n",
       "      <td>19322</td>\n",
       "      <td>1</td>\n",
       "    </tr>\n",
       "    <tr>\n",
       "      <th>1</th>\n",
       "      <td>46</td>\n",
       "      <td>11758</td>\n",
       "      <td>0</td>\n",
       "    </tr>\n",
       "    <tr>\n",
       "      <th>2</th>\n",
       "      <td>87</td>\n",
       "      <td>6073</td>\n",
       "      <td>0</td>\n",
       "    </tr>\n",
       "    <tr>\n",
       "      <th>3</th>\n",
       "      <td>77</td>\n",
       "      <td>10697</td>\n",
       "      <td>0</td>\n",
       "    </tr>\n",
       "    <tr>\n",
       "      <th>4</th>\n",
       "      <td>20</td>\n",
       "      <td>6701</td>\n",
       "      <td>0</td>\n",
       "    </tr>\n",
       "    <tr>\n",
       "      <th>...</th>\n",
       "      <td>...</td>\n",
       "      <td>...</td>\n",
       "      <td>...</td>\n",
       "    </tr>\n",
       "    <tr>\n",
       "      <th>95</th>\n",
       "      <td>57</td>\n",
       "      <td>16324</td>\n",
       "      <td>1</td>\n",
       "    </tr>\n",
       "    <tr>\n",
       "      <th>96</th>\n",
       "      <td>18</td>\n",
       "      <td>15577</td>\n",
       "      <td>1</td>\n",
       "    </tr>\n",
       "    <tr>\n",
       "      <th>97</th>\n",
       "      <td>46</td>\n",
       "      <td>11457</td>\n",
       "      <td>0</td>\n",
       "    </tr>\n",
       "    <tr>\n",
       "      <th>98</th>\n",
       "      <td>83</td>\n",
       "      <td>10508</td>\n",
       "      <td>0</td>\n",
       "    </tr>\n",
       "    <tr>\n",
       "      <th>99</th>\n",
       "      <td>70</td>\n",
       "      <td>8827</td>\n",
       "      <td>0</td>\n",
       "    </tr>\n",
       "  </tbody>\n",
       "</table>\n",
       "<p>100 rows × 3 columns</p>\n",
       "</div>"
      ],
      "text/plain": [
       "    Age  Salary  Purchased\n",
       "0    76   19322          1\n",
       "1    46   11758          0\n",
       "2    87    6073          0\n",
       "3    77   10697          0\n",
       "4    20    6701          0\n",
       "..  ...     ...        ...\n",
       "95   57   16324          1\n",
       "96   18   15577          1\n",
       "97   46   11457          0\n",
       "98   83   10508          0\n",
       "99   70    8827          0\n",
       "\n",
       "[100 rows x 3 columns]"
      ]
     },
     "execution_count": 7,
     "metadata": {},
     "output_type": "execute_result"
    }
   ],
   "source": [
    "df['Purchased'] = df.apply(lambda x: 1 if (6*x['Age']+3*x['Salary']>38000) else 0, axis = 1)\n",
    "df\n"
   ]
  },
  {
   "cell_type": "code",
   "execution_count": 8,
   "id": "494ea06f",
   "metadata": {},
   "outputs": [],
   "source": [
    "df.to_csv(\"Record.csv\", index = 0)\n"
   ]
  },
  {
   "cell_type": "code",
   "execution_count": 9,
   "id": "d91e0a21",
   "metadata": {},
   "outputs": [],
   "source": [
    "dataset = pd.read_csv(\"Record.csv\")\n",
    "x = dataset.iloc[:, :-1].values\n",
    "y = dataset.iloc[:,-1].values\n"
   ]
  },
  {
   "cell_type": "markdown",
   "id": "8e390f09",
   "metadata": {},
   "source": [
    "# Splitting dataset between training set and test set"
   ]
  },
  {
   "cell_type": "code",
   "execution_count": 10,
   "id": "04921b0a",
   "metadata": {},
   "outputs": [],
   "source": [
    "from sklearn.model_selection import train_test_split"
   ]
  },
  {
   "cell_type": "code",
   "execution_count": 11,
   "id": "2ebd2f99",
   "metadata": {},
   "outputs": [],
   "source": [
    "x_train, x_test, y_train, y_test = train_test_split(x, y, test_size = 0.25, random_state = 0)"
   ]
  },
  {
   "cell_type": "code",
   "execution_count": 12,
   "id": "e168c3d5",
   "metadata": {},
   "outputs": [
    {
     "name": "stdout",
     "output_type": "stream",
     "text": [
      "[[   50 15436]\n",
      " [   37  2239]\n",
      " [   70  8827]\n",
      " [   56 12451]\n",
      " [   25 15026]\n",
      " [   50 16350]\n",
      " [   62 15800]\n",
      " [   26 12114]\n",
      " [   34  7728]\n",
      " [   22 11119]\n",
      " [   57  6695]\n",
      " [   79 10615]\n",
      " [   33  4981]\n",
      " [   57 15229]\n",
      " [   38  9158]\n",
      " [   46 11758]\n",
      " [   62 18659]\n",
      " [   34 11818]\n",
      " [   24 17567]\n",
      " [   20  6701]\n",
      " [   76 14938]\n",
      " [   84 10994]\n",
      " [   45  5620]\n",
      " [   70 19567]\n",
      " [   43 12228]\n",
      " [   86 16623]\n",
      " [   68 19891]\n",
      " [   76 19322]\n",
      " [   56  5245]\n",
      " [   60  5533]\n",
      " [   21  4619]\n",
      " [   47  7798]\n",
      " [   50  5113]\n",
      " [   77 15064]\n",
      " [   30 16013]\n",
      " [   57 17148]\n",
      " [   25  3988]\n",
      " [   54  4414]\n",
      " [   91 12330]\n",
      " [   64 16193]\n",
      " [   71 19799]\n",
      " [   68  5378]\n",
      " [   56  9473]\n",
      " [   84 13340]\n",
      " [   55 12718]\n",
      " [   79  5257]\n",
      " [   34 10781]\n",
      " [   40  3761]\n",
      " [   46 11457]\n",
      " [   83 10508]\n",
      " [   47  4687]\n",
      " [   72 16608]\n",
      " [   50  7526]\n",
      " [   90  3390]\n",
      " [   77  3184]\n",
      " [   63  8330]\n",
      " [   23  5365]\n",
      " [   51 17527]\n",
      " [   34 11305]\n",
      " [   21 12466]\n",
      " [   80 15278]\n",
      " [   34 19263]\n",
      " [   55 18143]\n",
      " [   30 14493]\n",
      " [   85 11527]\n",
      " [   83 19080]\n",
      " [   47 13783]\n",
      " [   41 19776]\n",
      " [   56 11583]\n",
      " [   39 17375]\n",
      " [   18 15577]\n",
      " [   63 13183]\n",
      " [   47 13150]\n",
      " [   75 11326]\n",
      " [   49 11766]]\n"
     ]
    }
   ],
   "source": [
    "print(x_train)"
   ]
  },
  {
   "cell_type": "code",
   "execution_count": 13,
   "id": "5ebb39cc",
   "metadata": {},
   "outputs": [
    {
     "data": {
      "text/plain": [
       "array([[   74, 17462],\n",
       "       [   87,  6801],\n",
       "       [   87,  6073],\n",
       "       [   85,  7916],\n",
       "       [   33,  8510],\n",
       "       [   69, 10964],\n",
       "       [   26,  8801],\n",
       "       [   88, 15524],\n",
       "       [   79,  3597],\n",
       "       [   57, 16324],\n",
       "       [   34,  5680],\n",
       "       [   52,  6054],\n",
       "       [   36, 12516],\n",
       "       [   68, 18410],\n",
       "       [   79,  2311],\n",
       "       [   87,  2174],\n",
       "       [   19, 10748],\n",
       "       [   94,  4748],\n",
       "       [   29,  8461],\n",
       "       [   85,  6898],\n",
       "       [   33,  4867],\n",
       "       [   78, 11001],\n",
       "       [   77, 10697],\n",
       "       [   18,  3532],\n",
       "       [   82,  9992]], dtype=int64)"
      ]
     },
     "execution_count": 13,
     "metadata": {},
     "output_type": "execute_result"
    }
   ],
   "source": [
    "x_test"
   ]
  },
  {
   "cell_type": "code",
   "execution_count": 14,
   "id": "75af9e9b",
   "metadata": {},
   "outputs": [
    {
     "data": {
      "text/plain": [
       "array([1, 0, 0, 0, 1, 1, 1, 0, 0, 0, 0, 0, 0, 1, 0, 0, 1, 0, 1, 0, 1, 0,\n",
       "       0, 1, 0, 1, 1, 1, 0, 0, 0, 0, 0, 1, 1, 1, 0, 0, 0, 1, 1, 0, 0, 1,\n",
       "       1, 0, 0, 0, 0, 0, 0, 1, 0, 0, 0, 0, 0, 1, 0, 0, 1, 1, 1, 1, 0, 1,\n",
       "       1, 1, 0, 1, 1, 1, 1, 0, 0], dtype=int64)"
      ]
     },
     "execution_count": 14,
     "metadata": {},
     "output_type": "execute_result"
    }
   ],
   "source": [
    "y_train"
   ]
  },
  {
   "cell_type": "code",
   "execution_count": 15,
   "id": "52d311ef",
   "metadata": {},
   "outputs": [
    {
     "data": {
      "text/plain": [
       "array([1, 0, 0, 0, 0, 0, 0, 1, 0, 1, 0, 0, 0, 1, 0, 0, 0, 0, 0, 0, 0, 0,\n",
       "       0, 0, 0], dtype=int64)"
      ]
     },
     "execution_count": 15,
     "metadata": {},
     "output_type": "execute_result"
    }
   ],
   "source": [
    "y_test"
   ]
  },
  {
   "cell_type": "markdown",
   "id": "90bf3f10",
   "metadata": {},
   "source": [
    "# Feature scaling"
   ]
  },
  {
   "cell_type": "code",
   "execution_count": 16,
   "id": "3b095c45",
   "metadata": {},
   "outputs": [],
   "source": [
    "from sklearn.preprocessing import StandardScaler\n",
    "sc = StandardScaler()\n",
    "x_train = sc.fit_transform(x_train)\n",
    "x_test = sc.transform(x_test)"
   ]
  },
  {
   "cell_type": "code",
   "execution_count": 17,
   "id": "7b8fc903",
   "metadata": {},
   "outputs": [
    {
     "name": "stdout",
     "output_type": "stream",
     "text": [
      "[[-0.17251116  0.74235058]\n",
      " [-0.82444287 -1.91380863]\n",
      " [ 0.8304607  -0.58784236]\n",
      " [ 0.1283804   0.14155985]\n",
      " [-1.42622599  0.65982991]\n",
      " [-0.17251116  0.92631129]\n",
      " [ 0.42927196  0.81561283]\n",
      " [-1.3760774   0.07373188]\n",
      " [-0.97488865 -0.80903801]\n",
      " [-1.57667177 -0.12653169]\n",
      " [ 0.17852899 -1.01694984]\n",
      " [ 1.28179804 -0.22797174]\n",
      " [-1.02503724 -1.3619265 ]\n",
      " [ 0.17852899  0.7006877 ]\n",
      " [-0.77429428 -0.52122202]\n",
      " [-0.37310553  0.00207979]\n",
      " [ 0.42927196  1.39104355]\n",
      " [-0.97488865  0.01415598]\n",
      " [-1.47637458  1.17125679]\n",
      " [-1.67696895 -1.01574223]\n",
      " [ 1.13135226  0.64211815]\n",
      " [ 1.53254101 -0.15169043]\n",
      " [-0.42325413 -1.23331502]\n",
      " [ 0.8304607   1.57379664]\n",
      " [-0.52355131  0.09667665]\n",
      " [ 1.63283819  0.98125798]\n",
      " [ 0.73016352  1.6390081 ]\n",
      " [ 1.13135226  1.52448551]\n",
      " [ 0.1283804  -1.30879124]\n",
      " [ 0.32897477 -1.2508255 ]\n",
      " [-1.62682036 -1.43478621]\n",
      " [-0.32295694 -0.79494912]\n",
      " [-0.17251116 -1.33535887]\n",
      " [ 1.18150085  0.66747816]\n",
      " [-1.17548302  0.85848332]\n",
      " [ 0.17852899  1.08692469]\n",
      " [-1.42622599 -1.56178753]\n",
      " [ 0.02808321 -1.47604655]\n",
      " [ 1.88358116  0.11720619]\n",
      " [ 0.52956914  0.89471191]\n",
      " [ 0.8806093   1.62049126]\n",
      " [ 0.73016352 -1.28202234]\n",
      " [ 0.1283804  -0.45782199]\n",
      " [ 1.53254101  0.32048881]\n",
      " [ 0.07823181  0.19529892]\n",
      " [ 1.28179804 -1.306376  ]\n",
      " [-0.97488865 -0.19456093]\n",
      " [-0.67399709 -1.60747581]\n",
      " [-0.37310553 -0.05850246]\n",
      " [ 1.48239241 -0.24950762]\n",
      " [-0.32295694 -1.42109986]\n",
      " [ 0.93075789  0.97823893]\n",
      " [-0.17251116 -0.84969454]\n",
      " [ 1.83343256 -1.68214695]\n",
      " [ 1.18150085 -1.72360855]\n",
      " [ 0.47942055 -0.68787352]\n",
      " [-1.52652317 -1.28463885]\n",
      " [-0.12236257  1.16320599]\n",
      " [-0.97488865 -0.08909549]\n",
      " [-1.62682036  0.1445789 ]\n",
      " [ 1.33194663  0.71054993]\n",
      " [-0.97488865  1.51261058]\n",
      " [ 0.07823181  1.28718827]\n",
      " [-1.17548302  0.55255304]\n",
      " [ 1.5826896  -0.04441356]\n",
      " [ 1.48239241  1.47577819]\n",
      " [-0.32295694  0.40965139]\n",
      " [-0.6238485   1.61586205]\n",
      " [ 0.1283804  -0.03314245]\n",
      " [-0.72414568  1.13261296]\n",
      " [-1.77726614  0.77072964]\n",
      " [ 0.47942055  0.28888943]\n",
      " [-0.32295694  0.28224753]\n",
      " [ 1.08120367 -0.08486882]\n",
      " [-0.22265975  0.00368995]]\n"
     ]
    }
   ],
   "source": [
    "print(x_train)"
   ]
  },
  {
   "cell_type": "code",
   "execution_count": 18,
   "id": "d7e1253e",
   "metadata": {},
   "outputs": [
    {
     "name": "stdout",
     "output_type": "stream",
     "text": [
      "[[ 1.03105507  1.15012345]\n",
      " [ 1.68298678 -0.99561523]\n",
      " [ 1.68298678 -1.14213974]\n",
      " [ 1.5826896  -0.77119927]\n",
      " [-1.02503724 -0.65164493]\n",
      " [ 0.78031211 -0.15772853]\n",
      " [-1.3760774  -0.59307538]\n",
      " [ 1.73313538  0.76006233]\n",
      " [ 1.28179804 -1.64048407]\n",
      " [ 0.17852899  0.92107827]\n",
      " [-0.97488865 -1.22123882]\n",
      " [-0.07221397 -1.14596387]\n",
      " [-0.87459146  0.15464239]\n",
      " [ 0.73016352  1.34092734]\n",
      " [ 1.28179804 -1.8993172 ]\n",
      " [ 1.68298678 -1.92689118]\n",
      " [-1.72711755 -0.20120284]\n",
      " [ 2.03402694 -1.40882239]\n",
      " [-1.22563162 -0.66150716]\n",
      " [ 1.5826896  -0.97609205]\n",
      " [-1.02503724 -1.38487127]\n",
      " [ 1.23164945 -0.15028154]\n",
      " [ 1.18150085 -0.2114676 ]\n",
      " [-1.77726614 -1.65356662]\n",
      " [ 1.43224382 -0.3533629 ]]\n"
     ]
    }
   ],
   "source": [
    "print(x_test)"
   ]
  },
  {
   "cell_type": "markdown",
   "id": "1429c658",
   "metadata": {},
   "source": [
    "# Training logistic reg. on training dataset "
   ]
  },
  {
   "cell_type": "code",
   "execution_count": 19,
   "id": "1fc635b0",
   "metadata": {},
   "outputs": [
    {
     "data": {
      "text/plain": [
       "LogisticRegression(random_state=0)"
      ]
     },
     "execution_count": 19,
     "metadata": {},
     "output_type": "execute_result"
    }
   ],
   "source": [
    "from sklearn.linear_model import LogisticRegression \n",
    "classifier = LogisticRegression(random_state = 0)\n",
    "classifier.fit(x_train,y_train)"
   ]
  },
  {
   "cell_type": "markdown",
   "id": "c11ca176",
   "metadata": {},
   "source": [
    "# Predicting test results"
   ]
  },
  {
   "cell_type": "code",
   "execution_count": 20,
   "id": "e59c425a",
   "metadata": {},
   "outputs": [
    {
     "data": {
      "text/plain": [
       "array([[ 1.03105507,  1.15012345],\n",
       "       [ 1.68298678, -0.99561523],\n",
       "       [ 1.68298678, -1.14213974],\n",
       "       [ 1.5826896 , -0.77119927],\n",
       "       [-1.02503724, -0.65164493],\n",
       "       [ 0.78031211, -0.15772853],\n",
       "       [-1.3760774 , -0.59307538],\n",
       "       [ 1.73313538,  0.76006233],\n",
       "       [ 1.28179804, -1.64048407],\n",
       "       [ 0.17852899,  0.92107827],\n",
       "       [-0.97488865, -1.22123882],\n",
       "       [-0.07221397, -1.14596387],\n",
       "       [-0.87459146,  0.15464239],\n",
       "       [ 0.73016352,  1.34092734],\n",
       "       [ 1.28179804, -1.8993172 ],\n",
       "       [ 1.68298678, -1.92689118],\n",
       "       [-1.72711755, -0.20120284],\n",
       "       [ 2.03402694, -1.40882239],\n",
       "       [-1.22563162, -0.66150716],\n",
       "       [ 1.5826896 , -0.97609205],\n",
       "       [-1.02503724, -1.38487127],\n",
       "       [ 1.23164945, -0.15028154],\n",
       "       [ 1.18150085, -0.2114676 ],\n",
       "       [-1.77726614, -1.65356662],\n",
       "       [ 1.43224382, -0.3533629 ]])"
      ]
     },
     "execution_count": 20,
     "metadata": {},
     "output_type": "execute_result"
    }
   ],
   "source": [
    "x_test"
   ]
  },
  {
   "cell_type": "code",
   "execution_count": 21,
   "id": "b4f6dfc9",
   "metadata": {},
   "outputs": [
    {
     "name": "stdout",
     "output_type": "stream",
     "text": [
      "[1 0 0 0 0 0 0 1 0 1 0 0 0 1 0 0 0 0 0 0 0 0 0 0 0]\n",
      "(25,)\n",
      "[[1]\n",
      " [0]\n",
      " [0]\n",
      " [0]\n",
      " [0]\n",
      " [0]\n",
      " [0]\n",
      " [1]\n",
      " [0]\n",
      " [1]\n",
      " [0]\n",
      " [0]\n",
      " [0]\n",
      " [1]\n",
      " [0]\n",
      " [0]\n",
      " [0]\n",
      " [0]\n",
      " [0]\n",
      " [0]\n",
      " [0]\n",
      " [0]\n",
      " [0]\n",
      " [0]\n",
      " [0]]\n",
      "predict actual\n",
      "[[1 1]\n",
      " [0 0]\n",
      " [0 0]\n",
      " [0 0]\n",
      " [0 0]\n",
      " [0 0]\n",
      " [0 0]\n",
      " [1 1]\n",
      " [0 0]\n",
      " [1 1]\n",
      " [0 0]\n",
      " [0 0]\n",
      " [0 0]\n",
      " [1 1]\n",
      " [0 0]\n",
      " [0 0]\n",
      " [0 0]\n",
      " [0 0]\n",
      " [0 0]\n",
      " [0 0]\n",
      " [0 0]\n",
      " [0 0]\n",
      " [0 0]\n",
      " [0 0]\n",
      " [0 0]]\n"
     ]
    }
   ],
   "source": [
    "y_pred = classifier.predict(x_test)\n",
    "print(y_pred)\n",
    "print(y_pred.shape)\n",
    "print(y_pred.reshape(len(y_pred),1))\n",
    "print('predict actual')\n",
    "print(np.concatenate((y_pred.reshape(len(y_pred),1),y_test.reshape(len(y_test),1)),1))\n"
   ]
  },
  {
   "cell_type": "markdown",
   "id": "e84e3c7a",
   "metadata": {},
   "source": [
    "# Making confusion matrix"
   ]
  },
  {
   "cell_type": "code",
   "execution_count": 22,
   "id": "7615410c",
   "metadata": {},
   "outputs": [
    {
     "name": "stdout",
     "output_type": "stream",
     "text": [
      "[[21  0]\n",
      " [ 0  4]]\n"
     ]
    },
    {
     "data": {
      "text/plain": [
       "1.0"
      ]
     },
     "execution_count": 22,
     "metadata": {},
     "output_type": "execute_result"
    }
   ],
   "source": [
    "from sklearn.metrics import confusion_matrix, accuracy_score\n",
    "cm = confusion_matrix(y_test,y_pred)\n",
    "print(cm)\n",
    "accuracy_score(y_test,y_pred)"
   ]
  },
  {
   "cell_type": "code",
   "execution_count": null,
   "id": "c7ed4fc6",
   "metadata": {},
   "outputs": [],
   "source": []
  }
 ],
 "metadata": {
  "kernelspec": {
   "display_name": "Python 3 (ipykernel)",
   "language": "python",
   "name": "python3"
  },
  "language_info": {
   "codemirror_mode": {
    "name": "ipython",
    "version": 3
   },
   "file_extension": ".py",
   "mimetype": "text/x-python",
   "name": "python",
   "nbconvert_exporter": "python",
   "pygments_lexer": "ipython3",
   "version": "3.9.12"
  }
 },
 "nbformat": 4,
 "nbformat_minor": 5
}
